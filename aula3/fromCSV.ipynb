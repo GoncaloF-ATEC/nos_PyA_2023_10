{
 "cells": [
  {
   "cell_type": "code",
   "execution_count": 2,
   "id": "initial_id",
   "metadata": {
    "collapsed": true,
    "ExecuteTime": {
     "end_time": "2023-11-06T12:53:41.445821Z",
     "start_time": "2023-11-06T12:53:40.868494Z"
    }
   },
   "outputs": [],
   "source": [
    "import pandas as pd"
   ]
  },
  {
   "cell_type": "code",
   "execution_count": 3,
   "outputs": [
    {
     "data": {
      "text/plain": "     State  Account length  Area code International plan Voice mail plan  \\\n0       KS             128        415                 No             Yes   \n1       OH             107        415                 No             Yes   \n2       NJ             137        415                 No              No   \n3       OH              84        408                Yes              No   \n4       OK              75        415                Yes              No   \n...    ...             ...        ...                ...             ...   \n3328    AZ             192        415                 No             Yes   \n3329    WV              68        415                 No              No   \n3330    RI              28        510                 No              No   \n3331    CT             184        510                Yes              No   \n3332    TN              74        415                 No             Yes   \n\n      Number vmail messages  Total day minutes  Total day calls  \\\n0                        25              265.1            110.0   \n1                        26              161.6            123.0   \n2                         0              243.4            114.0   \n3                         0              299.4             71.0   \n4                         0              166.7            113.0   \n...                     ...                ...              ...   \n3328                     36              156.2             77.0   \n3329                      0              231.1             57.0   \n3330                      0              180.8            109.0   \n3331                      0              213.8            105.0   \n3332                     25              234.4            113.0   \n\n      Total day charge  Total eve minutes  Total eve calls  Total eve charge  \\\n0                45.07              197.4             99.0             16.78   \n1                27.47              195.5            103.0             16.62   \n2                41.38              121.2            110.0             10.30   \n3                50.90               61.9             88.0              5.26   \n4                28.34              148.3            122.0             12.61   \n...                ...                ...              ...               ...   \n3328             26.55              215.5            126.0             18.32   \n3329             39.29              153.4             55.0             13.04   \n3330             30.74              288.8             58.0             24.55   \n3331             36.35              159.6             84.0             13.57   \n3332             39.85              265.9             82.0             22.60   \n\n      Total night minutes  Total night calls  Total night charge  \\\n0                   244.7               91.0               11.01   \n1                   254.4              103.0               11.45   \n2                   162.6              104.0                7.32   \n3                   196.9               89.0                8.86   \n4                   186.9              121.0                8.41   \n...                   ...                ...                 ...   \n3328                279.1               83.0               12.56   \n3329                191.3              123.0                8.61   \n3330                191.9               91.0                8.64   \n3331                139.2              137.0                6.26   \n3332                241.4               77.0               10.86   \n\n      Total intl minutes  Total intl calls  Total intl charge  \\\n0                   10.0                 3               2.70   \n1                   13.7                 3               3.70   \n2                   12.2                 5               3.29   \n3                    6.6                 7               1.78   \n4                   10.1                 3               2.73   \n...                  ...               ...                ...   \n3328                 9.9                 6               2.67   \n3329                 9.6                 4               2.59   \n3330                14.1                 6               3.81   \n3331                 5.0                10               1.35   \n3332                13.7                 4               3.70   \n\n      Customer service calls  Churn  \n0                        1.0  False  \n1                        1.0  False  \n2                        0.0  False  \n3                        2.0  False  \n4                        3.0  False  \n...                      ...    ...  \n3328                     2.0  False  \n3329                     3.0  False  \n3330                     2.0  False  \n3331                     2.0  False  \n3332                     0.0  False  \n\n[3333 rows x 20 columns]",
      "text/html": "<div>\n<style scoped>\n    .dataframe tbody tr th:only-of-type {\n        vertical-align: middle;\n    }\n\n    .dataframe tbody tr th {\n        vertical-align: top;\n    }\n\n    .dataframe thead th {\n        text-align: right;\n    }\n</style>\n<table border=\"1\" class=\"dataframe\">\n  <thead>\n    <tr style=\"text-align: right;\">\n      <th></th>\n      <th>State</th>\n      <th>Account length</th>\n      <th>Area code</th>\n      <th>International plan</th>\n      <th>Voice mail plan</th>\n      <th>Number vmail messages</th>\n      <th>Total day minutes</th>\n      <th>Total day calls</th>\n      <th>Total day charge</th>\n      <th>Total eve minutes</th>\n      <th>Total eve calls</th>\n      <th>Total eve charge</th>\n      <th>Total night minutes</th>\n      <th>Total night calls</th>\n      <th>Total night charge</th>\n      <th>Total intl minutes</th>\n      <th>Total intl calls</th>\n      <th>Total intl charge</th>\n      <th>Customer service calls</th>\n      <th>Churn</th>\n    </tr>\n  </thead>\n  <tbody>\n    <tr>\n      <th>0</th>\n      <td>KS</td>\n      <td>128</td>\n      <td>415</td>\n      <td>No</td>\n      <td>Yes</td>\n      <td>25</td>\n      <td>265.1</td>\n      <td>110.0</td>\n      <td>45.07</td>\n      <td>197.4</td>\n      <td>99.0</td>\n      <td>16.78</td>\n      <td>244.7</td>\n      <td>91.0</td>\n      <td>11.01</td>\n      <td>10.0</td>\n      <td>3</td>\n      <td>2.70</td>\n      <td>1.0</td>\n      <td>False</td>\n    </tr>\n    <tr>\n      <th>1</th>\n      <td>OH</td>\n      <td>107</td>\n      <td>415</td>\n      <td>No</td>\n      <td>Yes</td>\n      <td>26</td>\n      <td>161.6</td>\n      <td>123.0</td>\n      <td>27.47</td>\n      <td>195.5</td>\n      <td>103.0</td>\n      <td>16.62</td>\n      <td>254.4</td>\n      <td>103.0</td>\n      <td>11.45</td>\n      <td>13.7</td>\n      <td>3</td>\n      <td>3.70</td>\n      <td>1.0</td>\n      <td>False</td>\n    </tr>\n    <tr>\n      <th>2</th>\n      <td>NJ</td>\n      <td>137</td>\n      <td>415</td>\n      <td>No</td>\n      <td>No</td>\n      <td>0</td>\n      <td>243.4</td>\n      <td>114.0</td>\n      <td>41.38</td>\n      <td>121.2</td>\n      <td>110.0</td>\n      <td>10.30</td>\n      <td>162.6</td>\n      <td>104.0</td>\n      <td>7.32</td>\n      <td>12.2</td>\n      <td>5</td>\n      <td>3.29</td>\n      <td>0.0</td>\n      <td>False</td>\n    </tr>\n    <tr>\n      <th>3</th>\n      <td>OH</td>\n      <td>84</td>\n      <td>408</td>\n      <td>Yes</td>\n      <td>No</td>\n      <td>0</td>\n      <td>299.4</td>\n      <td>71.0</td>\n      <td>50.90</td>\n      <td>61.9</td>\n      <td>88.0</td>\n      <td>5.26</td>\n      <td>196.9</td>\n      <td>89.0</td>\n      <td>8.86</td>\n      <td>6.6</td>\n      <td>7</td>\n      <td>1.78</td>\n      <td>2.0</td>\n      <td>False</td>\n    </tr>\n    <tr>\n      <th>4</th>\n      <td>OK</td>\n      <td>75</td>\n      <td>415</td>\n      <td>Yes</td>\n      <td>No</td>\n      <td>0</td>\n      <td>166.7</td>\n      <td>113.0</td>\n      <td>28.34</td>\n      <td>148.3</td>\n      <td>122.0</td>\n      <td>12.61</td>\n      <td>186.9</td>\n      <td>121.0</td>\n      <td>8.41</td>\n      <td>10.1</td>\n      <td>3</td>\n      <td>2.73</td>\n      <td>3.0</td>\n      <td>False</td>\n    </tr>\n    <tr>\n      <th>...</th>\n      <td>...</td>\n      <td>...</td>\n      <td>...</td>\n      <td>...</td>\n      <td>...</td>\n      <td>...</td>\n      <td>...</td>\n      <td>...</td>\n      <td>...</td>\n      <td>...</td>\n      <td>...</td>\n      <td>...</td>\n      <td>...</td>\n      <td>...</td>\n      <td>...</td>\n      <td>...</td>\n      <td>...</td>\n      <td>...</td>\n      <td>...</td>\n      <td>...</td>\n    </tr>\n    <tr>\n      <th>3328</th>\n      <td>AZ</td>\n      <td>192</td>\n      <td>415</td>\n      <td>No</td>\n      <td>Yes</td>\n      <td>36</td>\n      <td>156.2</td>\n      <td>77.0</td>\n      <td>26.55</td>\n      <td>215.5</td>\n      <td>126.0</td>\n      <td>18.32</td>\n      <td>279.1</td>\n      <td>83.0</td>\n      <td>12.56</td>\n      <td>9.9</td>\n      <td>6</td>\n      <td>2.67</td>\n      <td>2.0</td>\n      <td>False</td>\n    </tr>\n    <tr>\n      <th>3329</th>\n      <td>WV</td>\n      <td>68</td>\n      <td>415</td>\n      <td>No</td>\n      <td>No</td>\n      <td>0</td>\n      <td>231.1</td>\n      <td>57.0</td>\n      <td>39.29</td>\n      <td>153.4</td>\n      <td>55.0</td>\n      <td>13.04</td>\n      <td>191.3</td>\n      <td>123.0</td>\n      <td>8.61</td>\n      <td>9.6</td>\n      <td>4</td>\n      <td>2.59</td>\n      <td>3.0</td>\n      <td>False</td>\n    </tr>\n    <tr>\n      <th>3330</th>\n      <td>RI</td>\n      <td>28</td>\n      <td>510</td>\n      <td>No</td>\n      <td>No</td>\n      <td>0</td>\n      <td>180.8</td>\n      <td>109.0</td>\n      <td>30.74</td>\n      <td>288.8</td>\n      <td>58.0</td>\n      <td>24.55</td>\n      <td>191.9</td>\n      <td>91.0</td>\n      <td>8.64</td>\n      <td>14.1</td>\n      <td>6</td>\n      <td>3.81</td>\n      <td>2.0</td>\n      <td>False</td>\n    </tr>\n    <tr>\n      <th>3331</th>\n      <td>CT</td>\n      <td>184</td>\n      <td>510</td>\n      <td>Yes</td>\n      <td>No</td>\n      <td>0</td>\n      <td>213.8</td>\n      <td>105.0</td>\n      <td>36.35</td>\n      <td>159.6</td>\n      <td>84.0</td>\n      <td>13.57</td>\n      <td>139.2</td>\n      <td>137.0</td>\n      <td>6.26</td>\n      <td>5.0</td>\n      <td>10</td>\n      <td>1.35</td>\n      <td>2.0</td>\n      <td>False</td>\n    </tr>\n    <tr>\n      <th>3332</th>\n      <td>TN</td>\n      <td>74</td>\n      <td>415</td>\n      <td>No</td>\n      <td>Yes</td>\n      <td>25</td>\n      <td>234.4</td>\n      <td>113.0</td>\n      <td>39.85</td>\n      <td>265.9</td>\n      <td>82.0</td>\n      <td>22.60</td>\n      <td>241.4</td>\n      <td>77.0</td>\n      <td>10.86</td>\n      <td>13.7</td>\n      <td>4</td>\n      <td>3.70</td>\n      <td>0.0</td>\n      <td>False</td>\n    </tr>\n  </tbody>\n</table>\n<p>3333 rows × 20 columns</p>\n</div>"
     },
     "execution_count": 3,
     "metadata": {},
     "output_type": "execute_result"
    }
   ],
   "source": [
    "df = pd.read_csv(\"/Users/goncalof/repos/dataSpell/telco_churn.csv\")\n",
    "\n",
    "df"
   ],
   "metadata": {
    "collapsed": false,
    "ExecuteTime": {
     "end_time": "2023-11-06T12:53:42.687608Z",
     "start_time": "2023-11-06T12:53:42.643264Z"
    }
   },
   "id": "5a60f77d5c52f216"
  },
  {
   "cell_type": "code",
   "execution_count": 4,
   "outputs": [
    {
     "data": {
      "text/plain": "State                      object\nAccount length              int64\nArea code                   int64\nInternational plan         object\nVoice mail plan            object\nNumber vmail messages       int64\nTotal day minutes         float64\nTotal day calls           float64\nTotal day charge          float64\nTotal eve minutes         float64\nTotal eve calls           float64\nTotal eve charge          float64\nTotal night minutes       float64\nTotal night calls         float64\nTotal night charge        float64\nTotal intl minutes        float64\nTotal intl calls            int64\nTotal intl charge         float64\nCustomer service calls    float64\nChurn                      object\ndtype: object"
     },
     "execution_count": 4,
     "metadata": {},
     "output_type": "execute_result"
    }
   ],
   "source": [
    "df.dtypes"
   ],
   "metadata": {
    "collapsed": false,
    "ExecuteTime": {
     "end_time": "2023-11-06T12:54:27.995854Z",
     "start_time": "2023-11-06T12:54:27.986354Z"
    }
   },
   "id": "9a5902c10b6d4601"
  }
 ],
 "metadata": {
  "kernelspec": {
   "display_name": "Python 3",
   "language": "python",
   "name": "python3"
  },
  "language_info": {
   "codemirror_mode": {
    "name": "ipython",
    "version": 2
   },
   "file_extension": ".py",
   "mimetype": "text/x-python",
   "name": "python",
   "nbconvert_exporter": "python",
   "pygments_lexer": "ipython2",
   "version": "2.7.6"
  }
 },
 "nbformat": 4,
 "nbformat_minor": 5
}
