{
 "cells": [
  {
   "cell_type": "code",
   "execution_count": 1,
   "id": "initial_id",
   "metadata": {
    "collapsed": true,
    "ExecuteTime": {
     "end_time": "2023-11-10T11:47:46.534014Z",
     "start_time": "2023-11-10T11:47:43.995360Z"
    }
   },
   "outputs": [],
   "source": [
    "import pandas as pd"
   ]
  },
  {
   "cell_type": "code",
   "execution_count": 2,
   "outputs": [
    {
     "data": {
      "text/plain": "           UID iso2 iso3  code3     FIPS      Admin2 Province_State  \\\n0            4   AF  AFG    4.0      NaN         NaN            NaN   \n1            8   AL  ALB    8.0      NaN         NaN            NaN   \n2           10   AQ  ATA   10.0      NaN         NaN            NaN   \n3           12   DZ  DZA   12.0      NaN         NaN            NaN   \n4           20   AD  AND   20.0      NaN         NaN            NaN   \n...        ...  ...  ...    ...      ...         ...            ...   \n4316  84056037   US  USA  840.0  56037.0  Sweetwater        Wyoming   \n4317  84056039   US  USA  840.0  56039.0       Teton        Wyoming   \n4318  84056041   US  USA  840.0  56041.0       Uinta        Wyoming   \n4319  84056043   US  USA  840.0  56043.0    Washakie        Wyoming   \n4320  84056045   US  USA  840.0  56045.0      Weston        Wyoming   \n\n     Country_Region        Lat       Long_             Combined_Key  \\\n0       Afghanistan  33.939110   67.709953              Afghanistan   \n1           Albania  41.153300   20.168300                  Albania   \n2        Antarctica -71.949900   23.347000               Antarctica   \n3           Algeria  28.033900    1.659600                  Algeria   \n4           Andorra  42.506300    1.521800                  Andorra   \n...             ...        ...         ...                      ...   \n4316             US  41.659439 -108.882788  Sweetwater, Wyoming, US   \n4317             US  43.935225 -110.589080       Teton, Wyoming, US   \n4318             US  41.287818 -110.547578       Uinta, Wyoming, US   \n4319             US  43.904516 -107.680187    Washakie, Wyoming, US   \n4320             US  43.839612 -104.567488      Weston, Wyoming, US   \n\n      Population  \n0     38928341.0  \n1      2877800.0  \n2            NaN  \n3     43851043.0  \n4        77265.0  \n...          ...  \n4316     42343.0  \n4317     23464.0  \n4318     20226.0  \n4319      7805.0  \n4320      6927.0  \n\n[4321 rows x 12 columns]",
      "text/html": "<div>\n<style scoped>\n    .dataframe tbody tr th:only-of-type {\n        vertical-align: middle;\n    }\n\n    .dataframe tbody tr th {\n        vertical-align: top;\n    }\n\n    .dataframe thead th {\n        text-align: right;\n    }\n</style>\n<table border=\"1\" class=\"dataframe\">\n  <thead>\n    <tr style=\"text-align: right;\">\n      <th></th>\n      <th>UID</th>\n      <th>iso2</th>\n      <th>iso3</th>\n      <th>code3</th>\n      <th>FIPS</th>\n      <th>Admin2</th>\n      <th>Province_State</th>\n      <th>Country_Region</th>\n      <th>Lat</th>\n      <th>Long_</th>\n      <th>Combined_Key</th>\n      <th>Population</th>\n    </tr>\n  </thead>\n  <tbody>\n    <tr>\n      <th>0</th>\n      <td>4</td>\n      <td>AF</td>\n      <td>AFG</td>\n      <td>4.0</td>\n      <td>NaN</td>\n      <td>NaN</td>\n      <td>NaN</td>\n      <td>Afghanistan</td>\n      <td>33.939110</td>\n      <td>67.709953</td>\n      <td>Afghanistan</td>\n      <td>38928341.0</td>\n    </tr>\n    <tr>\n      <th>1</th>\n      <td>8</td>\n      <td>AL</td>\n      <td>ALB</td>\n      <td>8.0</td>\n      <td>NaN</td>\n      <td>NaN</td>\n      <td>NaN</td>\n      <td>Albania</td>\n      <td>41.153300</td>\n      <td>20.168300</td>\n      <td>Albania</td>\n      <td>2877800.0</td>\n    </tr>\n    <tr>\n      <th>2</th>\n      <td>10</td>\n      <td>AQ</td>\n      <td>ATA</td>\n      <td>10.0</td>\n      <td>NaN</td>\n      <td>NaN</td>\n      <td>NaN</td>\n      <td>Antarctica</td>\n      <td>-71.949900</td>\n      <td>23.347000</td>\n      <td>Antarctica</td>\n      <td>NaN</td>\n    </tr>\n    <tr>\n      <th>3</th>\n      <td>12</td>\n      <td>DZ</td>\n      <td>DZA</td>\n      <td>12.0</td>\n      <td>NaN</td>\n      <td>NaN</td>\n      <td>NaN</td>\n      <td>Algeria</td>\n      <td>28.033900</td>\n      <td>1.659600</td>\n      <td>Algeria</td>\n      <td>43851043.0</td>\n    </tr>\n    <tr>\n      <th>4</th>\n      <td>20</td>\n      <td>AD</td>\n      <td>AND</td>\n      <td>20.0</td>\n      <td>NaN</td>\n      <td>NaN</td>\n      <td>NaN</td>\n      <td>Andorra</td>\n      <td>42.506300</td>\n      <td>1.521800</td>\n      <td>Andorra</td>\n      <td>77265.0</td>\n    </tr>\n    <tr>\n      <th>...</th>\n      <td>...</td>\n      <td>...</td>\n      <td>...</td>\n      <td>...</td>\n      <td>...</td>\n      <td>...</td>\n      <td>...</td>\n      <td>...</td>\n      <td>...</td>\n      <td>...</td>\n      <td>...</td>\n      <td>...</td>\n    </tr>\n    <tr>\n      <th>4316</th>\n      <td>84056037</td>\n      <td>US</td>\n      <td>USA</td>\n      <td>840.0</td>\n      <td>56037.0</td>\n      <td>Sweetwater</td>\n      <td>Wyoming</td>\n      <td>US</td>\n      <td>41.659439</td>\n      <td>-108.882788</td>\n      <td>Sweetwater, Wyoming, US</td>\n      <td>42343.0</td>\n    </tr>\n    <tr>\n      <th>4317</th>\n      <td>84056039</td>\n      <td>US</td>\n      <td>USA</td>\n      <td>840.0</td>\n      <td>56039.0</td>\n      <td>Teton</td>\n      <td>Wyoming</td>\n      <td>US</td>\n      <td>43.935225</td>\n      <td>-110.589080</td>\n      <td>Teton, Wyoming, US</td>\n      <td>23464.0</td>\n    </tr>\n    <tr>\n      <th>4318</th>\n      <td>84056041</td>\n      <td>US</td>\n      <td>USA</td>\n      <td>840.0</td>\n      <td>56041.0</td>\n      <td>Uinta</td>\n      <td>Wyoming</td>\n      <td>US</td>\n      <td>41.287818</td>\n      <td>-110.547578</td>\n      <td>Uinta, Wyoming, US</td>\n      <td>20226.0</td>\n    </tr>\n    <tr>\n      <th>4319</th>\n      <td>84056043</td>\n      <td>US</td>\n      <td>USA</td>\n      <td>840.0</td>\n      <td>56043.0</td>\n      <td>Washakie</td>\n      <td>Wyoming</td>\n      <td>US</td>\n      <td>43.904516</td>\n      <td>-107.680187</td>\n      <td>Washakie, Wyoming, US</td>\n      <td>7805.0</td>\n    </tr>\n    <tr>\n      <th>4320</th>\n      <td>84056045</td>\n      <td>US</td>\n      <td>USA</td>\n      <td>840.0</td>\n      <td>56045.0</td>\n      <td>Weston</td>\n      <td>Wyoming</td>\n      <td>US</td>\n      <td>43.839612</td>\n      <td>-104.567488</td>\n      <td>Weston, Wyoming, US</td>\n      <td>6927.0</td>\n    </tr>\n  </tbody>\n</table>\n<p>4321 rows × 12 columns</p>\n</div>"
     },
     "execution_count": 2,
     "metadata": {},
     "output_type": "execute_result"
    }
   ],
   "source": [
    "df = pd.read_csv(\"UID_ISO_FIPS_LookUp_Table.csv\")\n",
    "\n",
    "df"
   ],
   "metadata": {
    "collapsed": false,
    "ExecuteTime": {
     "end_time": "2023-11-10T11:48:08.929078Z",
     "start_time": "2023-11-10T11:48:08.866218Z"
    }
   },
   "id": "428efa4cbc661ef6"
  },
  {
   "cell_type": "code",
   "execution_count": 4,
   "outputs": [
    {
     "data": {
      "text/plain": "UID                 0\niso2                5\niso3                4\ncode3               4\nFIPS              937\nAdmin2            978\nProvince_State    202\nCountry_Region      0\nLat               148\nLong_             148\nCombined_Key        0\nPopulation        151\ndtype: int64"
     },
     "execution_count": 4,
     "metadata": {},
     "output_type": "execute_result"
    }
   ],
   "source": [
    "df.isna().sum()"
   ],
   "metadata": {
    "collapsed": false,
    "ExecuteTime": {
     "end_time": "2023-11-10T11:48:46.389008Z",
     "start_time": "2023-11-10T11:48:46.381944Z"
    }
   },
   "id": "700e7ac4d77e72a5"
  },
  {
   "cell_type": "code",
   "execution_count": 5,
   "outputs": [
    {
     "data": {
      "text/plain": "2577"
     },
     "execution_count": 5,
     "metadata": {},
     "output_type": "execute_result"
    }
   ],
   "source": [
    "df.isna().sum().sum()"
   ],
   "metadata": {
    "collapsed": false,
    "ExecuteTime": {
     "end_time": "2023-11-10T11:49:20.783609Z",
     "start_time": "2023-11-10T11:49:20.776198Z"
    }
   },
   "id": "b6324b8aeb63bc3b"
  },
  {
   "cell_type": "code",
   "execution_count": 6,
   "outputs": [
    {
     "data": {
      "text/plain": "           UID iso2 iso3  code3     FIPS      Admin2 Province_State  \\\n26        5610   BE  BEL   56.0      NaN         NaN        Unknown   \n63        7628   BR  BRA   76.0      NaN         NaN        Unknown   \n91       15217   CL  CHL  152.0      NaN         NaN        Unknown   \n126      17034   CO  COL  170.0      NaN         NaN        Unknown   \n139       9999  NaN  NaN    NaN      NaN         NaN            NaN   \n...        ...  ...  ...    ...      ...         ...            ...   \n1172  84090051   US  USA  840.0  90051.0  Unassigned       Virginia   \n1173  84090053   US  USA  840.0  90053.0  Unassigned     Washington   \n1174  84090054   US  USA  840.0  90054.0  Unassigned  West Virginia   \n1175  84090055   US  USA  840.0  90055.0  Unassigned      Wisconsin   \n1176  84090056   US  USA  840.0  90056.0  Unassigned        Wyoming   \n\n        Country_Region  Lat  Long_                   Combined_Key  Population  \n26             Belgium  NaN    NaN               Unknown, Belgium         NaN  \n63              Brazil  NaN    NaN                Unknown, Brazil         NaN  \n91               Chile  NaN    NaN                 Unknown, Chile         NaN  \n126           Colombia  NaN    NaN              Unknown, Colombia         NaN  \n139   Diamond Princess  NaN    NaN               Diamond Princess         NaN  \n...                ...  ...    ...                            ...         ...  \n1172                US  NaN    NaN       Unassigned, Virginia, US         NaN  \n1173                US  NaN    NaN     Unassigned, Washington, US         NaN  \n1174                US  NaN    NaN  Unassigned, West Virginia, US         NaN  \n1175                US  NaN    NaN      Unassigned, Wisconsin, US         NaN  \n1176                US  NaN    NaN        Unassigned, Wyoming, US         NaN  \n\n[148 rows x 12 columns]",
      "text/html": "<div>\n<style scoped>\n    .dataframe tbody tr th:only-of-type {\n        vertical-align: middle;\n    }\n\n    .dataframe tbody tr th {\n        vertical-align: top;\n    }\n\n    .dataframe thead th {\n        text-align: right;\n    }\n</style>\n<table border=\"1\" class=\"dataframe\">\n  <thead>\n    <tr style=\"text-align: right;\">\n      <th></th>\n      <th>UID</th>\n      <th>iso2</th>\n      <th>iso3</th>\n      <th>code3</th>\n      <th>FIPS</th>\n      <th>Admin2</th>\n      <th>Province_State</th>\n      <th>Country_Region</th>\n      <th>Lat</th>\n      <th>Long_</th>\n      <th>Combined_Key</th>\n      <th>Population</th>\n    </tr>\n  </thead>\n  <tbody>\n    <tr>\n      <th>26</th>\n      <td>5610</td>\n      <td>BE</td>\n      <td>BEL</td>\n      <td>56.0</td>\n      <td>NaN</td>\n      <td>NaN</td>\n      <td>Unknown</td>\n      <td>Belgium</td>\n      <td>NaN</td>\n      <td>NaN</td>\n      <td>Unknown, Belgium</td>\n      <td>NaN</td>\n    </tr>\n    <tr>\n      <th>63</th>\n      <td>7628</td>\n      <td>BR</td>\n      <td>BRA</td>\n      <td>76.0</td>\n      <td>NaN</td>\n      <td>NaN</td>\n      <td>Unknown</td>\n      <td>Brazil</td>\n      <td>NaN</td>\n      <td>NaN</td>\n      <td>Unknown, Brazil</td>\n      <td>NaN</td>\n    </tr>\n    <tr>\n      <th>91</th>\n      <td>15217</td>\n      <td>CL</td>\n      <td>CHL</td>\n      <td>152.0</td>\n      <td>NaN</td>\n      <td>NaN</td>\n      <td>Unknown</td>\n      <td>Chile</td>\n      <td>NaN</td>\n      <td>NaN</td>\n      <td>Unknown, Chile</td>\n      <td>NaN</td>\n    </tr>\n    <tr>\n      <th>126</th>\n      <td>17034</td>\n      <td>CO</td>\n      <td>COL</td>\n      <td>170.0</td>\n      <td>NaN</td>\n      <td>NaN</td>\n      <td>Unknown</td>\n      <td>Colombia</td>\n      <td>NaN</td>\n      <td>NaN</td>\n      <td>Unknown, Colombia</td>\n      <td>NaN</td>\n    </tr>\n    <tr>\n      <th>139</th>\n      <td>9999</td>\n      <td>NaN</td>\n      <td>NaN</td>\n      <td>NaN</td>\n      <td>NaN</td>\n      <td>NaN</td>\n      <td>NaN</td>\n      <td>Diamond Princess</td>\n      <td>NaN</td>\n      <td>NaN</td>\n      <td>Diamond Princess</td>\n      <td>NaN</td>\n    </tr>\n    <tr>\n      <th>...</th>\n      <td>...</td>\n      <td>...</td>\n      <td>...</td>\n      <td>...</td>\n      <td>...</td>\n      <td>...</td>\n      <td>...</td>\n      <td>...</td>\n      <td>...</td>\n      <td>...</td>\n      <td>...</td>\n      <td>...</td>\n    </tr>\n    <tr>\n      <th>1172</th>\n      <td>84090051</td>\n      <td>US</td>\n      <td>USA</td>\n      <td>840.0</td>\n      <td>90051.0</td>\n      <td>Unassigned</td>\n      <td>Virginia</td>\n      <td>US</td>\n      <td>NaN</td>\n      <td>NaN</td>\n      <td>Unassigned, Virginia, US</td>\n      <td>NaN</td>\n    </tr>\n    <tr>\n      <th>1173</th>\n      <td>84090053</td>\n      <td>US</td>\n      <td>USA</td>\n      <td>840.0</td>\n      <td>90053.0</td>\n      <td>Unassigned</td>\n      <td>Washington</td>\n      <td>US</td>\n      <td>NaN</td>\n      <td>NaN</td>\n      <td>Unassigned, Washington, US</td>\n      <td>NaN</td>\n    </tr>\n    <tr>\n      <th>1174</th>\n      <td>84090054</td>\n      <td>US</td>\n      <td>USA</td>\n      <td>840.0</td>\n      <td>90054.0</td>\n      <td>Unassigned</td>\n      <td>West Virginia</td>\n      <td>US</td>\n      <td>NaN</td>\n      <td>NaN</td>\n      <td>Unassigned, West Virginia, US</td>\n      <td>NaN</td>\n    </tr>\n    <tr>\n      <th>1175</th>\n      <td>84090055</td>\n      <td>US</td>\n      <td>USA</td>\n      <td>840.0</td>\n      <td>90055.0</td>\n      <td>Unassigned</td>\n      <td>Wisconsin</td>\n      <td>US</td>\n      <td>NaN</td>\n      <td>NaN</td>\n      <td>Unassigned, Wisconsin, US</td>\n      <td>NaN</td>\n    </tr>\n    <tr>\n      <th>1176</th>\n      <td>84090056</td>\n      <td>US</td>\n      <td>USA</td>\n      <td>840.0</td>\n      <td>90056.0</td>\n      <td>Unassigned</td>\n      <td>Wyoming</td>\n      <td>US</td>\n      <td>NaN</td>\n      <td>NaN</td>\n      <td>Unassigned, Wyoming, US</td>\n      <td>NaN</td>\n    </tr>\n  </tbody>\n</table>\n<p>148 rows × 12 columns</p>\n</div>"
     },
     "execution_count": 6,
     "metadata": {},
     "output_type": "execute_result"
    }
   ],
   "source": [
    "resp = df.query(\"Lat.isnull()\")\n",
    "\n",
    "resp"
   ],
   "metadata": {
    "collapsed": false,
    "ExecuteTime": {
     "end_time": "2023-11-10T11:50:03.391670Z",
     "start_time": "2023-11-10T11:50:03.388677Z"
    }
   },
   "id": "4ee4064a646a1b78"
  },
  {
   "cell_type": "code",
   "execution_count": 10,
   "outputs": [
    {
     "data": {
      "text/plain": "UID                 0\niso2                5\niso3                4\ncode3               4\nFIPS              937\nAdmin2            978\nProvince_State    202\nCountry_Region      0\nLat               148\nLong_             148\nCombined_Key        0\nPopulation        151\ndtype: int64"
     },
     "execution_count": 10,
     "metadata": {},
     "output_type": "execute_result"
    }
   ],
   "source": [
    "df.isna().sum()"
   ],
   "metadata": {
    "collapsed": false,
    "ExecuteTime": {
     "end_time": "2023-11-10T11:54:29.374651Z",
     "start_time": "2023-11-10T11:54:29.370298Z"
    }
   },
   "id": "debb09d3a1d4ba3"
  },
  {
   "cell_type": "markdown",
   "source": [],
   "metadata": {
    "collapsed": false
   },
   "id": "f69b7b6bf52243a8"
  },
  {
   "cell_type": "code",
   "execution_count": 13,
   "outputs": [
    {
     "data": {
      "text/plain": "26      BEL\n63      BRA\n91      CHL\n126     COL\n139     NaN\n       ... \n1172    USA\n1173    USA\n1174    USA\n1175    USA\n1176    USA\nName: iso3, Length: 148, dtype: object"
     },
     "execution_count": 13,
     "metadata": {},
     "output_type": "execute_result"
    }
   ],
   "source": [
    "resp2 = resp[\"iso3\"]\n",
    "resp2"
   ],
   "metadata": {
    "collapsed": false,
    "ExecuteTime": {
     "end_time": "2023-11-10T11:58:58.829090Z",
     "start_time": "2023-11-10T11:58:58.822086Z"
    }
   },
   "id": "d7afacf87f760daf"
  },
  {
   "cell_type": "code",
   "execution_count": 16,
   "outputs": [
    {
     "data": {
      "text/plain": "26      BEL\n63      BRA\n91      CHL\n126     COL\n185     DEU\n       ... \n1172    USA\n1173    USA\n1174    USA\n1175    USA\n1176    USA\nName: iso3, Length: 146, dtype: object"
     },
     "execution_count": 16,
     "metadata": {},
     "output_type": "execute_result"
    }
   ],
   "source": [
    "resp2 = resp[\"iso3\"].dropna(axis=0)\n",
    "resp2"
   ],
   "metadata": {
    "collapsed": false,
    "ExecuteTime": {
     "end_time": "2023-11-10T12:00:03.125217Z",
     "start_time": "2023-11-10T12:00:03.121384Z"
    }
   },
   "id": "bda849b1d88cf855"
  },
  {
   "cell_type": "code",
   "execution_count": 11,
   "outputs": [
    {
     "data": {
      "text/plain": "UID               0.0\niso2              0.0\niso3              0.0\ncode3             0.0\nFIPS              0.0\nAdmin2            0.0\nProvince_State    0.0\nCountry_Region    0.0\nLat               0.0\nLong_             0.0\nCombined_Key      0.0\nPopulation        0.0\ndtype: float64"
     },
     "execution_count": 11,
     "metadata": {},
     "output_type": "execute_result"
    }
   ],
   "source": [
    "resp2 = resp.dropna(axis=0)\n",
    "resp2.isna().sum()"
   ],
   "metadata": {
    "collapsed": false,
    "ExecuteTime": {
     "end_time": "2023-11-10T11:55:17.842585Z",
     "start_time": "2023-11-10T11:55:17.836735Z"
    }
   },
   "id": "e257edb023008c08"
  },
  {
   "cell_type": "code",
   "execution_count": 17,
   "outputs": [
    {
     "data": {
      "text/plain": "           UID iso2 iso3  code3     FIPS      Admin2 Province_State  \\\n26        5610   BE  BEL   56.0      0.0           0        Unknown   \n63        7628   BR  BRA   76.0      0.0           0        Unknown   \n91       15217   CL  CHL  152.0      0.0           0        Unknown   \n126      17034   CO  COL  170.0      0.0           0        Unknown   \n139       9999    0    0    0.0      0.0           0              0   \n...        ...  ...  ...    ...      ...         ...            ...   \n1172  84090051   US  USA  840.0  90051.0  Unassigned       Virginia   \n1173  84090053   US  USA  840.0  90053.0  Unassigned     Washington   \n1174  84090054   US  USA  840.0  90054.0  Unassigned  West Virginia   \n1175  84090055   US  USA  840.0  90055.0  Unassigned      Wisconsin   \n1176  84090056   US  USA  840.0  90056.0  Unassigned        Wyoming   \n\n        Country_Region  Lat  Long_                   Combined_Key  Population  \n26             Belgium  0.0    0.0               Unknown, Belgium         0.0  \n63              Brazil  0.0    0.0                Unknown, Brazil         0.0  \n91               Chile  0.0    0.0                 Unknown, Chile         0.0  \n126           Colombia  0.0    0.0              Unknown, Colombia         0.0  \n139   Diamond Princess  0.0    0.0               Diamond Princess         0.0  \n...                ...  ...    ...                            ...         ...  \n1172                US  0.0    0.0       Unassigned, Virginia, US         0.0  \n1173                US  0.0    0.0     Unassigned, Washington, US         0.0  \n1174                US  0.0    0.0  Unassigned, West Virginia, US         0.0  \n1175                US  0.0    0.0      Unassigned, Wisconsin, US         0.0  \n1176                US  0.0    0.0        Unassigned, Wyoming, US         0.0  \n\n[148 rows x 12 columns]",
      "text/html": "<div>\n<style scoped>\n    .dataframe tbody tr th:only-of-type {\n        vertical-align: middle;\n    }\n\n    .dataframe tbody tr th {\n        vertical-align: top;\n    }\n\n    .dataframe thead th {\n        text-align: right;\n    }\n</style>\n<table border=\"1\" class=\"dataframe\">\n  <thead>\n    <tr style=\"text-align: right;\">\n      <th></th>\n      <th>UID</th>\n      <th>iso2</th>\n      <th>iso3</th>\n      <th>code3</th>\n      <th>FIPS</th>\n      <th>Admin2</th>\n      <th>Province_State</th>\n      <th>Country_Region</th>\n      <th>Lat</th>\n      <th>Long_</th>\n      <th>Combined_Key</th>\n      <th>Population</th>\n    </tr>\n  </thead>\n  <tbody>\n    <tr>\n      <th>26</th>\n      <td>5610</td>\n      <td>BE</td>\n      <td>BEL</td>\n      <td>56.0</td>\n      <td>0.0</td>\n      <td>0</td>\n      <td>Unknown</td>\n      <td>Belgium</td>\n      <td>0.0</td>\n      <td>0.0</td>\n      <td>Unknown, Belgium</td>\n      <td>0.0</td>\n    </tr>\n    <tr>\n      <th>63</th>\n      <td>7628</td>\n      <td>BR</td>\n      <td>BRA</td>\n      <td>76.0</td>\n      <td>0.0</td>\n      <td>0</td>\n      <td>Unknown</td>\n      <td>Brazil</td>\n      <td>0.0</td>\n      <td>0.0</td>\n      <td>Unknown, Brazil</td>\n      <td>0.0</td>\n    </tr>\n    <tr>\n      <th>91</th>\n      <td>15217</td>\n      <td>CL</td>\n      <td>CHL</td>\n      <td>152.0</td>\n      <td>0.0</td>\n      <td>0</td>\n      <td>Unknown</td>\n      <td>Chile</td>\n      <td>0.0</td>\n      <td>0.0</td>\n      <td>Unknown, Chile</td>\n      <td>0.0</td>\n    </tr>\n    <tr>\n      <th>126</th>\n      <td>17034</td>\n      <td>CO</td>\n      <td>COL</td>\n      <td>170.0</td>\n      <td>0.0</td>\n      <td>0</td>\n      <td>Unknown</td>\n      <td>Colombia</td>\n      <td>0.0</td>\n      <td>0.0</td>\n      <td>Unknown, Colombia</td>\n      <td>0.0</td>\n    </tr>\n    <tr>\n      <th>139</th>\n      <td>9999</td>\n      <td>0</td>\n      <td>0</td>\n      <td>0.0</td>\n      <td>0.0</td>\n      <td>0</td>\n      <td>0</td>\n      <td>Diamond Princess</td>\n      <td>0.0</td>\n      <td>0.0</td>\n      <td>Diamond Princess</td>\n      <td>0.0</td>\n    </tr>\n    <tr>\n      <th>...</th>\n      <td>...</td>\n      <td>...</td>\n      <td>...</td>\n      <td>...</td>\n      <td>...</td>\n      <td>...</td>\n      <td>...</td>\n      <td>...</td>\n      <td>...</td>\n      <td>...</td>\n      <td>...</td>\n      <td>...</td>\n    </tr>\n    <tr>\n      <th>1172</th>\n      <td>84090051</td>\n      <td>US</td>\n      <td>USA</td>\n      <td>840.0</td>\n      <td>90051.0</td>\n      <td>Unassigned</td>\n      <td>Virginia</td>\n      <td>US</td>\n      <td>0.0</td>\n      <td>0.0</td>\n      <td>Unassigned, Virginia, US</td>\n      <td>0.0</td>\n    </tr>\n    <tr>\n      <th>1173</th>\n      <td>84090053</td>\n      <td>US</td>\n      <td>USA</td>\n      <td>840.0</td>\n      <td>90053.0</td>\n      <td>Unassigned</td>\n      <td>Washington</td>\n      <td>US</td>\n      <td>0.0</td>\n      <td>0.0</td>\n      <td>Unassigned, Washington, US</td>\n      <td>0.0</td>\n    </tr>\n    <tr>\n      <th>1174</th>\n      <td>84090054</td>\n      <td>US</td>\n      <td>USA</td>\n      <td>840.0</td>\n      <td>90054.0</td>\n      <td>Unassigned</td>\n      <td>West Virginia</td>\n      <td>US</td>\n      <td>0.0</td>\n      <td>0.0</td>\n      <td>Unassigned, West Virginia, US</td>\n      <td>0.0</td>\n    </tr>\n    <tr>\n      <th>1175</th>\n      <td>84090055</td>\n      <td>US</td>\n      <td>USA</td>\n      <td>840.0</td>\n      <td>90055.0</td>\n      <td>Unassigned</td>\n      <td>Wisconsin</td>\n      <td>US</td>\n      <td>0.0</td>\n      <td>0.0</td>\n      <td>Unassigned, Wisconsin, US</td>\n      <td>0.0</td>\n    </tr>\n    <tr>\n      <th>1176</th>\n      <td>84090056</td>\n      <td>US</td>\n      <td>USA</td>\n      <td>840.0</td>\n      <td>90056.0</td>\n      <td>Unassigned</td>\n      <td>Wyoming</td>\n      <td>US</td>\n      <td>0.0</td>\n      <td>0.0</td>\n      <td>Unassigned, Wyoming, US</td>\n      <td>0.0</td>\n    </tr>\n  </tbody>\n</table>\n<p>148 rows × 12 columns</p>\n</div>"
     },
     "execution_count": 17,
     "metadata": {},
     "output_type": "execute_result"
    }
   ],
   "source": [
    "resp = df.query(\"Lat.isnull()\")\n",
    "\n",
    "resp.fillna(0)"
   ],
   "metadata": {
    "collapsed": false,
    "ExecuteTime": {
     "end_time": "2023-11-10T12:02:19.502462Z",
     "start_time": "2023-11-10T12:02:19.477019Z"
    }
   },
   "id": "599c7905f809f508"
  },
  {
   "cell_type": "code",
   "execution_count": 19,
   "outputs": [
    {
     "data": {
      "text/plain": "Province_State\nUnknown                      23\nUS Military                   6\nMichigan                      4\nFederal Bureau of Prisons     3\nNebraska                      2\nNevada                        2\nMontana                       2\nMissouri                      2\nOregon                        2\nNew Hampshire                 2\nNew Jersey                    2\nNew Mexico                    2\nNew York                      2\nNorth Carolina                2\nNorth Dakota                  2\nOhio                          2\nOklahoma                      2\nRhode Island                  2\nPennsylvania                  2\nMinnesota                     2\nSouth Carolina                2\nSouth Dakota                  2\nTennessee                     2\nTexas                         2\nUtah                          2\nVermont                       2\nVirginia                      2\nWashington                    2\nWest Virginia                 2\nWisconsin                     2\nMississippi                   2\nMaryland                      2\nMassachusetts                 2\nDistrict of Columbia          2\nDiamond Princess              2\nGrand Princess                2\nRecovered                     2\nPuerto Rico                   2\nAlabama                       2\nAlaska                        2\nArizona                       2\nArkansas                      2\nCalifornia                    2\nColorado                      2\nConnecticut                   2\nDelaware                      2\nFlorida                       2\nGeorgia                       2\nHawaii                        2\nIdaho                         2\nIllinois                      2\nIndiana                       2\nIowa                          2\nKansas                        2\nKentucky                      2\nLouisiana                     2\nMaine                         2\nWyoming                       2\nPort Quarantine               1\nVeteran Hospitals             1\nName: count, dtype: int64"
     },
     "execution_count": 19,
     "metadata": {},
     "output_type": "execute_result"
    }
   ],
   "source": [
    "resp.Province_State.value_counts()"
   ],
   "metadata": {
    "collapsed": false,
    "ExecuteTime": {
     "end_time": "2023-11-10T12:03:47.724406Z",
     "start_time": "2023-11-10T12:03:47.719876Z"
    }
   },
   "id": "132170ba04a32beb"
  },
  {
   "cell_type": "code",
   "execution_count": 20,
   "outputs": [
    {
     "data": {
      "text/plain": "2"
     },
     "execution_count": 20,
     "metadata": {},
     "output_type": "execute_result"
    }
   ],
   "source": [
    "resp.Province_State.isna().sum()"
   ],
   "metadata": {
    "collapsed": false,
    "ExecuteTime": {
     "end_time": "2023-11-10T12:05:06.611078Z",
     "start_time": "2023-11-10T12:05:06.606175Z"
    }
   },
   "id": "e59150075cb18145"
  },
  {
   "cell_type": "code",
   "execution_count": 24,
   "outputs": [
    {
     "name": "stderr",
     "output_type": "stream",
     "text": [
      "/var/folders/8h/mxsdfgdx47n8s1nf3s4tq2d00000gn/T/ipykernel_93053/4036871527.py:1: SettingWithCopyWarning: \n",
      "A value is trying to be set on a copy of a slice from a DataFrame.\n",
      "Try using .loc[row_indexer,col_indexer] = value instead\n",
      "\n",
      "See the caveats in the documentation: https://pandas.pydata.org/pandas-docs/stable/user_guide/indexing.html#returning-a-view-versus-a-copy\n",
      "  resp.Province_State = resp.Province_State.fillna(\"Unknown\")\n"
     ]
    },
    {
     "data": {
      "text/plain": "Province_State\nUnknown                      25\nUS Military                   6\nMichigan                      4\nFederal Bureau of Prisons     3\nNebraska                      2\nNevada                        2\nMontana                       2\nMissouri                      2\nOregon                        2\nNew Hampshire                 2\nNew Jersey                    2\nNew Mexico                    2\nNew York                      2\nNorth Carolina                2\nNorth Dakota                  2\nOhio                          2\nOklahoma                      2\nRhode Island                  2\nPennsylvania                  2\nMinnesota                     2\nSouth Carolina                2\nSouth Dakota                  2\nTennessee                     2\nTexas                         2\nUtah                          2\nVermont                       2\nVirginia                      2\nWashington                    2\nWest Virginia                 2\nWisconsin                     2\nMississippi                   2\nMaryland                      2\nMassachusetts                 2\nDistrict of Columbia          2\nDiamond Princess              2\nGrand Princess                2\nRecovered                     2\nPuerto Rico                   2\nAlabama                       2\nAlaska                        2\nArizona                       2\nArkansas                      2\nCalifornia                    2\nColorado                      2\nConnecticut                   2\nDelaware                      2\nFlorida                       2\nGeorgia                       2\nHawaii                        2\nIdaho                         2\nIllinois                      2\nIndiana                       2\nIowa                          2\nKansas                        2\nKentucky                      2\nLouisiana                     2\nMaine                         2\nWyoming                       2\nPort Quarantine               1\nVeteran Hospitals             1\nName: count, dtype: int64"
     },
     "execution_count": 24,
     "metadata": {},
     "output_type": "execute_result"
    }
   ],
   "source": [
    "resp.Province_State = resp.Province_State.fillna(\"Unknown\")\n",
    "resp.Province_State.value_counts()"
   ],
   "metadata": {
    "collapsed": false,
    "ExecuteTime": {
     "end_time": "2023-11-10T12:09:23.197006Z",
     "start_time": "2023-11-10T12:09:23.189521Z"
    }
   },
   "id": "17d39d54f69e28a5"
  },
  {
   "cell_type": "code",
   "execution_count": 25,
   "outputs": [],
   "source": [
    "resp.loc[:, \"Province_State\"] = resp.loc[:, \"Province_State\"].fillna(\"Unknown\")"
   ],
   "metadata": {
    "collapsed": false,
    "ExecuteTime": {
     "end_time": "2023-11-10T12:09:51.247674Z",
     "start_time": "2023-11-10T12:09:51.242677Z"
    }
   },
   "id": "6490b2473caae840"
  },
  {
   "cell_type": "code",
   "execution_count": 26,
   "outputs": [
    {
     "data": {
      "text/plain": "Province_State\nUnknown                      25\nUS Military                   6\nMichigan                      4\nFederal Bureau of Prisons     3\nNebraska                      2\nNevada                        2\nMontana                       2\nMissouri                      2\nOregon                        2\nNew Hampshire                 2\nNew Jersey                    2\nNew Mexico                    2\nNew York                      2\nNorth Carolina                2\nNorth Dakota                  2\nOhio                          2\nOklahoma                      2\nRhode Island                  2\nPennsylvania                  2\nMinnesota                     2\nSouth Carolina                2\nSouth Dakota                  2\nTennessee                     2\nTexas                         2\nUtah                          2\nVermont                       2\nVirginia                      2\nWashington                    2\nWest Virginia                 2\nWisconsin                     2\nMississippi                   2\nMaryland                      2\nMassachusetts                 2\nDistrict of Columbia          2\nDiamond Princess              2\nGrand Princess                2\nRecovered                     2\nPuerto Rico                   2\nAlabama                       2\nAlaska                        2\nArizona                       2\nArkansas                      2\nCalifornia                    2\nColorado                      2\nConnecticut                   2\nDelaware                      2\nFlorida                       2\nGeorgia                       2\nHawaii                        2\nIdaho                         2\nIllinois                      2\nIndiana                       2\nIowa                          2\nKansas                        2\nKentucky                      2\nLouisiana                     2\nMaine                         2\nWyoming                       2\nPort Quarantine               1\nVeteran Hospitals             1\nName: count, dtype: int64"
     },
     "execution_count": 26,
     "metadata": {},
     "output_type": "execute_result"
    }
   ],
   "source": [
    "resp.Province_State.value_counts()"
   ],
   "metadata": {
    "collapsed": false,
    "ExecuteTime": {
     "end_time": "2023-11-10T12:09:54.219348Z",
     "start_time": "2023-11-10T12:09:54.214720Z"
    }
   },
   "id": "ab7f9f6bae7e704e"
  },
  {
   "cell_type": "code",
   "execution_count": 27,
   "outputs": [
    {
     "data": {
      "text/plain": "Admin2\nUnassigned    53\nOut of OH      1\nOut of MI      1\nOut of MN      1\nOut of MS      1\n              ..\nOut of IN      1\nOut of IA      1\nOut of KS      1\nOut of KY      1\nOut of WY      1\nName: count, Length: 61, dtype: int64"
     },
     "execution_count": 27,
     "metadata": {},
     "output_type": "execute_result"
    }
   ],
   "source": [
    "resp.Admin2.value_counts()"
   ],
   "metadata": {
    "collapsed": false,
    "ExecuteTime": {
     "end_time": "2023-11-10T12:11:45.088864Z",
     "start_time": "2023-11-10T12:11:45.077208Z"
    }
   },
   "id": "ff968ab34853c6d1"
  },
  {
   "cell_type": "code",
   "execution_count": 28,
   "outputs": [
    {
     "data": {
      "text/plain": "35"
     },
     "execution_count": 28,
     "metadata": {},
     "output_type": "execute_result"
    }
   ],
   "source": [
    "resp.Admin2.isna().sum()"
   ],
   "metadata": {
    "collapsed": false,
    "ExecuteTime": {
     "end_time": "2023-11-10T12:12:14.073671Z",
     "start_time": "2023-11-10T12:12:14.067307Z"
    }
   },
   "id": "d2abdef242496b6a"
  },
  {
   "cell_type": "code",
   "execution_count": 29,
   "outputs": [],
   "source": [
    "resp.loc[:, \"Admin2\"] = resp.loc[:,\"Admin2\"].fillna(\"Unassigned\")\n"
   ],
   "metadata": {
    "collapsed": false,
    "ExecuteTime": {
     "end_time": "2023-11-10T12:13:40.013951Z",
     "start_time": "2023-11-10T12:13:40.008278Z"
    }
   },
   "id": "5bc3161c2c8a04d4"
  },
  {
   "cell_type": "code",
   "execution_count": 30,
   "outputs": [
    {
     "data": {
      "text/plain": "0"
     },
     "execution_count": 30,
     "metadata": {},
     "output_type": "execute_result"
    }
   ],
   "source": [
    "resp.Admin2.isna().sum()"
   ],
   "metadata": {
    "collapsed": false,
    "ExecuteTime": {
     "end_time": "2023-11-10T12:13:49.268302Z",
     "start_time": "2023-11-10T12:13:49.263509Z"
    }
   },
   "id": "16370971cf2f36f4"
  },
  {
   "cell_type": "code",
   "execution_count": 31,
   "outputs": [
    {
     "data": {
      "text/plain": "Admin2\nUnassigned    88\nOut of MA      1\nOut of MN      1\nOut of MS      1\nOut of MO      1\n              ..\nOut of IA      1\nOut of KS      1\nOut of KY      1\nOut of LA      1\nOut of WY      1\nName: count, Length: 61, dtype: int64"
     },
     "execution_count": 31,
     "metadata": {},
     "output_type": "execute_result"
    }
   ],
   "source": [
    "resp.Admin2.value_counts()"
   ],
   "metadata": {
    "collapsed": false,
    "ExecuteTime": {
     "end_time": "2023-11-10T12:14:11.909028Z",
     "start_time": "2023-11-10T12:14:11.904604Z"
    }
   },
   "id": "582e67ed9327ff21"
  },
  {
   "cell_type": "code",
   "execution_count": 39,
   "outputs": [
    {
     "data": {
      "text/plain": "           UID iso2 iso3  code3     FIPS      Admin2 Province_State  \\\n26        5610   BE  BEL   56.0      NaN         NaN        Unknown   \n63        7628   BR  BRA   76.0      NaN         NaN        Unknown   \n91       15217   CL  CHL  152.0      NaN         NaN        Unknown   \n126      17034   CO  COL  170.0      NaN         NaN        Unknown   \n185      27617   DE  DEU  276.0      NaN         NaN        Unknown   \n...        ...  ...  ...    ...      ...         ...            ...   \n1172  84090051   US  USA  840.0  90051.0  Unassigned       Virginia   \n1173  84090053   US  USA  840.0  90053.0  Unassigned     Washington   \n1174  84090054   US  USA  840.0  90054.0  Unassigned  West Virginia   \n1175  84090055   US  USA  840.0  90055.0  Unassigned      Wisconsin   \n1176  84090056   US  USA  840.0  90056.0  Unassigned        Wyoming   \n\n     Country_Region  Lat  Long_                   Combined_Key  Population  \n26          Belgium  NaN    NaN               Unknown, Belgium         NaN  \n63           Brazil  NaN    NaN                Unknown, Brazil         NaN  \n91            Chile  NaN    NaN                 Unknown, Chile         NaN  \n126        Colombia  NaN    NaN              Unknown, Colombia         NaN  \n185         Germany  NaN    NaN               Unknown, Germany         NaN  \n...             ...  ...    ...                            ...         ...  \n1172             US  NaN    NaN       Unassigned, Virginia, US         NaN  \n1173             US  NaN    NaN     Unassigned, Washington, US         NaN  \n1174             US  NaN    NaN  Unassigned, West Virginia, US         NaN  \n1175             US  NaN    NaN      Unassigned, Wisconsin, US         NaN  \n1176             US  NaN    NaN        Unassigned, Wyoming, US         NaN  \n\n[146 rows x 12 columns]",
      "text/html": "<div>\n<style scoped>\n    .dataframe tbody tr th:only-of-type {\n        vertical-align: middle;\n    }\n\n    .dataframe tbody tr th {\n        vertical-align: top;\n    }\n\n    .dataframe thead th {\n        text-align: right;\n    }\n</style>\n<table border=\"1\" class=\"dataframe\">\n  <thead>\n    <tr style=\"text-align: right;\">\n      <th></th>\n      <th>UID</th>\n      <th>iso2</th>\n      <th>iso3</th>\n      <th>code3</th>\n      <th>FIPS</th>\n      <th>Admin2</th>\n      <th>Province_State</th>\n      <th>Country_Region</th>\n      <th>Lat</th>\n      <th>Long_</th>\n      <th>Combined_Key</th>\n      <th>Population</th>\n    </tr>\n  </thead>\n  <tbody>\n    <tr>\n      <th>26</th>\n      <td>5610</td>\n      <td>BE</td>\n      <td>BEL</td>\n      <td>56.0</td>\n      <td>NaN</td>\n      <td>NaN</td>\n      <td>Unknown</td>\n      <td>Belgium</td>\n      <td>NaN</td>\n      <td>NaN</td>\n      <td>Unknown, Belgium</td>\n      <td>NaN</td>\n    </tr>\n    <tr>\n      <th>63</th>\n      <td>7628</td>\n      <td>BR</td>\n      <td>BRA</td>\n      <td>76.0</td>\n      <td>NaN</td>\n      <td>NaN</td>\n      <td>Unknown</td>\n      <td>Brazil</td>\n      <td>NaN</td>\n      <td>NaN</td>\n      <td>Unknown, Brazil</td>\n      <td>NaN</td>\n    </tr>\n    <tr>\n      <th>91</th>\n      <td>15217</td>\n      <td>CL</td>\n      <td>CHL</td>\n      <td>152.0</td>\n      <td>NaN</td>\n      <td>NaN</td>\n      <td>Unknown</td>\n      <td>Chile</td>\n      <td>NaN</td>\n      <td>NaN</td>\n      <td>Unknown, Chile</td>\n      <td>NaN</td>\n    </tr>\n    <tr>\n      <th>126</th>\n      <td>17034</td>\n      <td>CO</td>\n      <td>COL</td>\n      <td>170.0</td>\n      <td>NaN</td>\n      <td>NaN</td>\n      <td>Unknown</td>\n      <td>Colombia</td>\n      <td>NaN</td>\n      <td>NaN</td>\n      <td>Unknown, Colombia</td>\n      <td>NaN</td>\n    </tr>\n    <tr>\n      <th>185</th>\n      <td>27617</td>\n      <td>DE</td>\n      <td>DEU</td>\n      <td>276.0</td>\n      <td>NaN</td>\n      <td>NaN</td>\n      <td>Unknown</td>\n      <td>Germany</td>\n      <td>NaN</td>\n      <td>NaN</td>\n      <td>Unknown, Germany</td>\n      <td>NaN</td>\n    </tr>\n    <tr>\n      <th>...</th>\n      <td>...</td>\n      <td>...</td>\n      <td>...</td>\n      <td>...</td>\n      <td>...</td>\n      <td>...</td>\n      <td>...</td>\n      <td>...</td>\n      <td>...</td>\n      <td>...</td>\n      <td>...</td>\n      <td>...</td>\n    </tr>\n    <tr>\n      <th>1172</th>\n      <td>84090051</td>\n      <td>US</td>\n      <td>USA</td>\n      <td>840.0</td>\n      <td>90051.0</td>\n      <td>Unassigned</td>\n      <td>Virginia</td>\n      <td>US</td>\n      <td>NaN</td>\n      <td>NaN</td>\n      <td>Unassigned, Virginia, US</td>\n      <td>NaN</td>\n    </tr>\n    <tr>\n      <th>1173</th>\n      <td>84090053</td>\n      <td>US</td>\n      <td>USA</td>\n      <td>840.0</td>\n      <td>90053.0</td>\n      <td>Unassigned</td>\n      <td>Washington</td>\n      <td>US</td>\n      <td>NaN</td>\n      <td>NaN</td>\n      <td>Unassigned, Washington, US</td>\n      <td>NaN</td>\n    </tr>\n    <tr>\n      <th>1174</th>\n      <td>84090054</td>\n      <td>US</td>\n      <td>USA</td>\n      <td>840.0</td>\n      <td>90054.0</td>\n      <td>Unassigned</td>\n      <td>West Virginia</td>\n      <td>US</td>\n      <td>NaN</td>\n      <td>NaN</td>\n      <td>Unassigned, West Virginia, US</td>\n      <td>NaN</td>\n    </tr>\n    <tr>\n      <th>1175</th>\n      <td>84090055</td>\n      <td>US</td>\n      <td>USA</td>\n      <td>840.0</td>\n      <td>90055.0</td>\n      <td>Unassigned</td>\n      <td>Wisconsin</td>\n      <td>US</td>\n      <td>NaN</td>\n      <td>NaN</td>\n      <td>Unassigned, Wisconsin, US</td>\n      <td>NaN</td>\n    </tr>\n    <tr>\n      <th>1176</th>\n      <td>84090056</td>\n      <td>US</td>\n      <td>USA</td>\n      <td>840.0</td>\n      <td>90056.0</td>\n      <td>Unassigned</td>\n      <td>Wyoming</td>\n      <td>US</td>\n      <td>NaN</td>\n      <td>NaN</td>\n      <td>Unassigned, Wyoming, US</td>\n      <td>NaN</td>\n    </tr>\n  </tbody>\n</table>\n<p>146 rows × 12 columns</p>\n</div>"
     },
     "execution_count": 39,
     "metadata": {},
     "output_type": "execute_result"
    }
   ],
   "source": [
    "resp = df.query(\"Lat.isnull()\")\n",
    "resp.query(\"code3.isnull()\").index\n",
    "\n",
    "resp = resp.drop(resp.query(\"code3.isnull()\").index)\n",
    "\n",
    "resp \n"
   ],
   "metadata": {
    "collapsed": false,
    "ExecuteTime": {
     "end_time": "2023-11-10T12:20:23.633721Z",
     "start_time": "2023-11-10T12:20:23.612554Z"
    }
   },
   "id": "45b3542b3c842938"
  }
 ],
 "metadata": {
  "kernelspec": {
   "display_name": "Python 3",
   "language": "python",
   "name": "python3"
  },
  "language_info": {
   "codemirror_mode": {
    "name": "ipython",
    "version": 2
   },
   "file_extension": ".py",
   "mimetype": "text/x-python",
   "name": "python",
   "nbconvert_exporter": "python",
   "pygments_lexer": "ipython2",
   "version": "2.7.6"
  }
 },
 "nbformat": 4,
 "nbformat_minor": 5
}
