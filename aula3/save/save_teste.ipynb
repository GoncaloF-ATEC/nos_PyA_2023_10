{
 "cells": [
  {
   "cell_type": "code",
   "execution_count": 109,
   "id": "initial_id",
   "metadata": {
    "collapsed": true,
    "ExecuteTime": {
     "end_time": "2023-11-17T11:47:34.910490Z",
     "start_time": "2023-11-17T11:47:34.598259Z"
    }
   },
   "outputs": [],
   "source": [
    "import pandas as pd\n",
    "import sqlite3\n",
    "from faker import Faker\n",
    "\n"
   ]
  },
  {
   "cell_type": "code",
   "execution_count": 62,
   "outputs": [
    {
     "name": "stdout",
     "output_type": "stream",
     "text": [
      "Requirement already satisfied: openpyxl in /Users/goncalof/anaconda3/envs/newConda/lib/python3.8/site-packages (3.1.2)\r\n",
      "Requirement already satisfied: et-xmlfile in /Users/goncalof/anaconda3/envs/newConda/lib/python3.8/site-packages (from openpyxl) (1.1.0)\r\n"
     ]
    }
   ],
   "source": [
    "!pip install openpyxl"
   ],
   "metadata": {
    "collapsed": false,
    "ExecuteTime": {
     "end_time": "2023-11-17T10:22:15.397686Z",
     "start_time": "2023-11-17T10:22:13.696694Z"
    }
   },
   "id": "874aadaa0bf47bd4"
  },
  {
   "cell_type": "code",
   "execution_count": 63,
   "outputs": [
    {
     "data": {
      "text/plain": "  product_name  price\n0     Computer    900\n1       Tablet    300\n2      Monitor    675\n3      Printer    150",
      "text/html": "<div>\n<style scoped>\n    .dataframe tbody tr th:only-of-type {\n        vertical-align: middle;\n    }\n\n    .dataframe tbody tr th {\n        vertical-align: top;\n    }\n\n    .dataframe thead th {\n        text-align: right;\n    }\n</style>\n<table border=\"1\" class=\"dataframe\">\n  <thead>\n    <tr style=\"text-align: right;\">\n      <th></th>\n      <th>product_name</th>\n      <th>price</th>\n    </tr>\n  </thead>\n  <tbody>\n    <tr>\n      <th>0</th>\n      <td>Computer</td>\n      <td>900</td>\n    </tr>\n    <tr>\n      <th>1</th>\n      <td>Tablet</td>\n      <td>300</td>\n    </tr>\n    <tr>\n      <th>2</th>\n      <td>Monitor</td>\n      <td>675</td>\n    </tr>\n    <tr>\n      <th>3</th>\n      <td>Printer</td>\n      <td>150</td>\n    </tr>\n  </tbody>\n</table>\n</div>"
     },
     "execution_count": 63,
     "metadata": {},
     "output_type": "execute_result"
    }
   ],
   "source": [
    "data = {'product_name': ['Computer','Tablet','Monitor','Printer'],\n",
    "        'price': [900,300,675,150]\n",
    "        }\n",
    "\n",
    "df = pd.DataFrame(data, columns= ['product_name','price'])\n",
    "\n",
    "df"
   ],
   "metadata": {
    "collapsed": false,
    "ExecuteTime": {
     "end_time": "2023-11-17T10:22:15.408885Z",
     "start_time": "2023-11-17T10:22:15.403503Z"
    }
   },
   "id": "f7c75fcbe03576f3"
  },
  {
   "cell_type": "code",
   "execution_count": 64,
   "outputs": [],
   "source": [
    "#df.to_excel()\n",
    "#df.to_json()\n",
    "#df.to_sql()\n",
    "#df.to_csv()\n",
    "#df.to_html()\n",
    "#df.to_dict() <- não foi testada"
   ],
   "metadata": {
    "collapsed": false,
    "ExecuteTime": {
     "end_time": "2023-11-17T10:22:15.413256Z",
     "start_time": "2023-11-17T10:22:15.407912Z"
    }
   },
   "id": "d37ff43afb7a570"
  },
  {
   "cell_type": "code",
   "execution_count": 65,
   "outputs": [
    {
     "data": {
      "text/plain": "  product_name  price\n0     Computer    900\n1       Tablet    300\n2      Monitor    675\n3      Printer    150",
      "text/html": "<div>\n<style scoped>\n    .dataframe tbody tr th:only-of-type {\n        vertical-align: middle;\n    }\n\n    .dataframe tbody tr th {\n        vertical-align: top;\n    }\n\n    .dataframe thead th {\n        text-align: right;\n    }\n</style>\n<table border=\"1\" class=\"dataframe\">\n  <thead>\n    <tr style=\"text-align: right;\">\n      <th></th>\n      <th>product_name</th>\n      <th>price</th>\n    </tr>\n  </thead>\n  <tbody>\n    <tr>\n      <th>0</th>\n      <td>Computer</td>\n      <td>900</td>\n    </tr>\n    <tr>\n      <th>1</th>\n      <td>Tablet</td>\n      <td>300</td>\n    </tr>\n    <tr>\n      <th>2</th>\n      <td>Monitor</td>\n      <td>675</td>\n    </tr>\n    <tr>\n      <th>3</th>\n      <td>Printer</td>\n      <td>150</td>\n    </tr>\n  </tbody>\n</table>\n</div>"
     },
     "execution_count": 65,
     "metadata": {},
     "output_type": "execute_result"
    }
   ],
   "source": [
    "df"
   ],
   "metadata": {
    "collapsed": false,
    "ExecuteTime": {
     "end_time": "2023-11-17T10:22:15.424694Z",
     "start_time": "2023-11-17T10:22:15.415495Z"
    }
   },
   "id": "2c628d8e49ecaca6"
  },
  {
   "cell_type": "code",
   "execution_count": 66,
   "outputs": [],
   "source": [
    "#df.to_excel(\"out.xlsx\", sheet_name=\"teste\", index=False)"
   ],
   "metadata": {
    "collapsed": false,
    "ExecuteTime": {
     "end_time": "2023-11-17T10:22:15.443135Z",
     "start_time": "2023-11-17T10:22:15.419932Z"
    }
   },
   "id": "3bbc7728298640d4"
  },
  {
   "cell_type": "code",
   "execution_count": 70,
   "outputs": [
    {
     "name": "stdout",
     "output_type": "stream",
     "text": [
      "Requirement already satisfied: xlsxwriter in /Users/goncalof/anaconda3/envs/newConda/lib/python3.8/site-packages (3.1.9)\r\n"
     ]
    }
   ],
   "source": [
    "!pip install xlsxwriter\n",
    "w = pd.ExcelWriter(\"teste2.xlsx\")\n",
    "df.to_excel(w, sheet_name=\"foo1\")\n",
    "df.to_excel(w, sheet_name=\"foo2\")"
   ],
   "metadata": {
    "collapsed": false,
    "ExecuteTime": {
     "end_time": "2023-11-17T10:22:51.448204Z",
     "start_time": "2023-11-17T10:22:49.758081Z"
    }
   },
   "id": "df07a2f72e287e59"
  },
  {
   "cell_type": "code",
   "execution_count": 97,
   "outputs": [],
   "source": [
    "# Exporta para excel\n",
    "with pd.ExcelWriter(\"out3.xlsx\", engine=\"openpyxl\", mode=\"a\", if_sheet_exists=\"overlay\") as writer:\n",
    "        df.to_excel(writer, sheet_name=\"DETALHE_PENALIDADES3\", index=False)\n",
    "        df.to_excel(writer, sheet_name=\"DETALHE_PENALIDADES4\", index=False)\n"
   ],
   "metadata": {
    "collapsed": false,
    "ExecuteTime": {
     "end_time": "2023-11-17T10:38:28.454142Z",
     "start_time": "2023-11-17T10:38:28.421760Z"
    }
   },
   "id": "9856d61a3884955e"
  },
  {
   "cell_type": "code",
   "execution_count": 69,
   "outputs": [],
   "source": [
    "#del df # apaga a a DF"
   ],
   "metadata": {
    "collapsed": false,
    "ExecuteTime": {
     "end_time": "2023-11-17T10:22:17.105667Z",
     "start_time": "2023-11-17T10:22:17.100788Z"
    }
   },
   "id": "6a2ed7e5db364e5e"
  },
  {
   "cell_type": "code",
   "execution_count": 79,
   "outputs": [],
   "source": [
    "df.to_csv(\"out.csv\", index=False)"
   ],
   "metadata": {
    "collapsed": false,
    "ExecuteTime": {
     "end_time": "2023-11-17T10:28:22.093746Z",
     "start_time": "2023-11-17T10:28:22.089555Z"
    }
   },
   "id": "b450569441ff7bfe"
  },
  {
   "cell_type": "code",
   "execution_count": 75,
   "outputs": [
    {
     "data": {
      "text/plain": "  product_name  price\n0     Computer    999\n1       Tablet    333\n2      Monitor    777\n3      Printer    555",
      "text/html": "<div>\n<style scoped>\n    .dataframe tbody tr th:only-of-type {\n        vertical-align: middle;\n    }\n\n    .dataframe tbody tr th {\n        vertical-align: top;\n    }\n\n    .dataframe thead th {\n        text-align: right;\n    }\n</style>\n<table border=\"1\" class=\"dataframe\">\n  <thead>\n    <tr style=\"text-align: right;\">\n      <th></th>\n      <th>product_name</th>\n      <th>price</th>\n    </tr>\n  </thead>\n  <tbody>\n    <tr>\n      <th>0</th>\n      <td>Computer</td>\n      <td>999</td>\n    </tr>\n    <tr>\n      <th>1</th>\n      <td>Tablet</td>\n      <td>333</td>\n    </tr>\n    <tr>\n      <th>2</th>\n      <td>Monitor</td>\n      <td>777</td>\n    </tr>\n    <tr>\n      <th>3</th>\n      <td>Printer</td>\n      <td>555</td>\n    </tr>\n  </tbody>\n</table>\n</div>"
     },
     "execution_count": 75,
     "metadata": {},
     "output_type": "execute_result"
    }
   ],
   "source": [
    "data = {'product_name': ['Computer', 'Tablet', 'Monitor', 'Printer'],\n",
    "        'price': [999, 333, 777, 555]\n",
    "        }\n",
    "\n",
    "df2 = pd.DataFrame(data, columns=['product_name', 'price'])\n",
    "\n",
    "df2\n"
   ],
   "metadata": {
    "collapsed": false,
    "ExecuteTime": {
     "end_time": "2023-11-17T10:27:15.446258Z",
     "start_time": "2023-11-17T10:27:15.440133Z"
    }
   },
   "id": "f495bdb696f8dba0"
  },
  {
   "cell_type": "code",
   "execution_count": 80,
   "outputs": [],
   "source": [
    "df2.to_csv(\"out.csv\", mode=\"a\" ,header=False, index=False)"
   ],
   "metadata": {
    "collapsed": false,
    "ExecuteTime": {
     "end_time": "2023-11-17T10:29:06.636456Z",
     "start_time": "2023-11-17T10:29:06.628081Z"
    }
   },
   "id": "4ec86614e6a9277d"
  },
  {
   "cell_type": "code",
   "execution_count": 104,
   "outputs": [
    {
     "data": {
      "text/plain": "4"
     },
     "execution_count": 104,
     "metadata": {},
     "output_type": "execute_result"
    }
   ],
   "source": [
    "conn = sqlite3.connect(\"teste.db\")\n",
    "\n",
    "df.to_sql(\"tabela\", conn, if_exists=\"append\")"
   ],
   "metadata": {
    "collapsed": false,
    "ExecuteTime": {
     "end_time": "2023-11-17T10:44:21.158593Z",
     "start_time": "2023-11-17T10:44:21.147340Z"
    }
   },
   "id": "95812ef249d4cb04"
  },
  {
   "cell_type": "code",
   "execution_count": 106,
   "outputs": [],
   "source": [
    "df.to_html(\"teste.html\", index=False)"
   ],
   "metadata": {
    "collapsed": false,
    "ExecuteTime": {
     "end_time": "2023-11-17T10:47:44.485228Z",
     "start_time": "2023-11-17T10:47:44.479681Z"
    }
   },
   "id": "a4eb97e6dffc2ace"
  },
  {
   "cell_type": "code",
   "execution_count": 107,
   "outputs": [],
   "source": [
    "df.to_json(\"teste.json\")"
   ],
   "metadata": {
    "collapsed": false,
    "ExecuteTime": {
     "end_time": "2023-11-17T11:43:43.186059Z",
     "start_time": "2023-11-17T11:43:43.181932Z"
    }
   },
   "id": "5b9654ed94015e3c"
  },
  {
   "cell_type": "code",
   "execution_count": null,
   "outputs": [],
   "source": [],
   "metadata": {
    "collapsed": false
   },
   "id": "5d4bc914930228b"
  },
  {
   "cell_type": "markdown",
   "source": [
    "!pip install Faker\n",
    "\n",
    "https://github.com/joke2k/faker"
   ],
   "metadata": {
    "collapsed": false
   },
   "id": "b62f098ec0100401"
  },
  {
   "cell_type": "code",
   "execution_count": 113,
   "outputs": [
    {
     "data": {
      "text/plain": "'Unit 5886 Box 2347\\nDPO AP 10382'"
     },
     "execution_count": 113,
     "metadata": {},
     "output_type": "execute_result"
    }
   ],
   "source": [
    "fake = Faker()\n",
    "\n",
    "fake.name()\n",
    "\n",
    "fake.address()"
   ],
   "metadata": {
    "collapsed": false,
    "ExecuteTime": {
     "end_time": "2023-11-17T11:48:39.870990Z",
     "start_time": "2023-11-17T11:48:39.803149Z"
    }
   },
   "id": "669d6b09f9186c6e"
  }
 ],
 "metadata": {
  "kernelspec": {
   "display_name": "Python 3",
   "language": "python",
   "name": "python3"
  },
  "language_info": {
   "codemirror_mode": {
    "name": "ipython",
    "version": 2
   },
   "file_extension": ".py",
   "mimetype": "text/x-python",
   "name": "python",
   "nbconvert_exporter": "python",
   "pygments_lexer": "ipython2",
   "version": "2.7.6"
  }
 },
 "nbformat": 4,
 "nbformat_minor": 5
}
