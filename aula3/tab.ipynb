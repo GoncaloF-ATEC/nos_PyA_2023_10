{
 "cells": [
  {
   "cell_type": "code",
   "execution_count": 3,
   "id": "initial_id",
   "metadata": {
    "collapsed": true,
    "ExecuteTime": {
     "end_time": "2023-11-06T12:43:07.782273Z",
     "start_time": "2023-11-06T12:43:07.774767Z"
    }
   },
   "outputs": [],
   "source": [
    "import pandas as pd\n",
    "import requests\n",
    "import lxml"
   ]
  },
  {
   "cell_type": "code",
   "execution_count": 4,
   "outputs": [],
   "source": [
    "url_str = \"https://guiadoscursos.uab.pt/cursos/licenciatura-em-matematica-aplicada-a-gestao/\"\n",
    "\n",
    "url = requests.get(url_str).content"
   ],
   "metadata": {
    "collapsed": false,
    "ExecuteTime": {
     "end_time": "2023-11-06T12:43:08.185124Z",
     "start_time": "2023-11-06T12:43:07.782925Z"
    }
   },
   "id": "8f8f43a3e6bdd33"
  },
  {
   "cell_type": "code",
   "execution_count": 5,
   "outputs": [
    {
     "data": {
      "text/plain": "3"
     },
     "execution_count": 5,
     "metadata": {},
     "output_type": "execute_result"
    }
   ],
   "source": [
    "dfs = pd.read_html(url)\n",
    "dfs.__len__()"
   ],
   "metadata": {
    "collapsed": false,
    "ExecuteTime": {
     "end_time": "2023-11-06T12:43:09.685186Z",
     "start_time": "2023-11-06T12:43:09.270921Z"
    }
   },
   "id": "9d14ae0d8f67b71a"
  },
  {
   "cell_type": "code",
   "execution_count": 6,
   "outputs": [
    {
     "data": {
      "text/plain": "   Maior                                                                   \\\n     Ano Semestre                                 Unidade Curricular ECTS   \n0    1.0       S1                           21002 - Álgebra Linear I  6.0   \n1    1.0       S1       21030 - Elementos de Análise Infinitesimal I  6.0   \n2    1.0       S1                   21173 - Introdução à Programação  6.0   \n3    1.0       S1                   61007 - Contabilidade Financeira  6.0   \n4    1.0       S1                       61029 - Princípios de Gestão  6.0   \n5    NaN      NaN                                                NaN  NaN   \n6    1.0       S2      21031 - Elementos de Análise Infinitesimal II  6.0   \n7    1.0       S2  21037 - Elementos de Probabilidades e Estatística  6.0   \n8    1.0       S2                   21076 - Investigação Operacional  6.0   \n9    1.0       S2                 21178 - Laboratório de Programação  6.0   \n10   1.0       S2                              61024 - Macroeconomia  6.0   \n\n                                               \n           Área Científica Unnamed: 5_level_1  \n0               Matemática                NaN  \n1               Matemática                NaN  \n2   Engenharia Informática                NaN  \n3                   Gestão                NaN  \n4                   Gestão                NaN  \n5                      NaN                NaN  \n6               Matemática                NaN  \n7               Matemática                NaN  \n8               Matemática                NaN  \n9   Engenharia Informática                NaN  \n10                Economia                NaN  ",
      "text/html": "<div>\n<style scoped>\n    .dataframe tbody tr th:only-of-type {\n        vertical-align: middle;\n    }\n\n    .dataframe tbody tr th {\n        vertical-align: top;\n    }\n\n    .dataframe thead tr th {\n        text-align: left;\n    }\n</style>\n<table border=\"1\" class=\"dataframe\">\n  <thead>\n    <tr>\n      <th></th>\n      <th colspan=\"6\" halign=\"left\">Maior</th>\n    </tr>\n    <tr>\n      <th></th>\n      <th>Ano</th>\n      <th>Semestre</th>\n      <th>Unidade Curricular</th>\n      <th>ECTS</th>\n      <th>Área Científica</th>\n      <th>Unnamed: 5_level_1</th>\n    </tr>\n  </thead>\n  <tbody>\n    <tr>\n      <th>0</th>\n      <td>1.0</td>\n      <td>S1</td>\n      <td>21002 - Álgebra Linear I</td>\n      <td>6.0</td>\n      <td>Matemática</td>\n      <td>NaN</td>\n    </tr>\n    <tr>\n      <th>1</th>\n      <td>1.0</td>\n      <td>S1</td>\n      <td>21030 - Elementos de Análise Infinitesimal I</td>\n      <td>6.0</td>\n      <td>Matemática</td>\n      <td>NaN</td>\n    </tr>\n    <tr>\n      <th>2</th>\n      <td>1.0</td>\n      <td>S1</td>\n      <td>21173 - Introdução à Programação</td>\n      <td>6.0</td>\n      <td>Engenharia Informática</td>\n      <td>NaN</td>\n    </tr>\n    <tr>\n      <th>3</th>\n      <td>1.0</td>\n      <td>S1</td>\n      <td>61007 - Contabilidade Financeira</td>\n      <td>6.0</td>\n      <td>Gestão</td>\n      <td>NaN</td>\n    </tr>\n    <tr>\n      <th>4</th>\n      <td>1.0</td>\n      <td>S1</td>\n      <td>61029 - Princípios de Gestão</td>\n      <td>6.0</td>\n      <td>Gestão</td>\n      <td>NaN</td>\n    </tr>\n    <tr>\n      <th>5</th>\n      <td>NaN</td>\n      <td>NaN</td>\n      <td>NaN</td>\n      <td>NaN</td>\n      <td>NaN</td>\n      <td>NaN</td>\n    </tr>\n    <tr>\n      <th>6</th>\n      <td>1.0</td>\n      <td>S2</td>\n      <td>21031 - Elementos de Análise Infinitesimal II</td>\n      <td>6.0</td>\n      <td>Matemática</td>\n      <td>NaN</td>\n    </tr>\n    <tr>\n      <th>7</th>\n      <td>1.0</td>\n      <td>S2</td>\n      <td>21037 - Elementos de Probabilidades e Estatística</td>\n      <td>6.0</td>\n      <td>Matemática</td>\n      <td>NaN</td>\n    </tr>\n    <tr>\n      <th>8</th>\n      <td>1.0</td>\n      <td>S2</td>\n      <td>21076 - Investigação Operacional</td>\n      <td>6.0</td>\n      <td>Matemática</td>\n      <td>NaN</td>\n    </tr>\n    <tr>\n      <th>9</th>\n      <td>1.0</td>\n      <td>S2</td>\n      <td>21178 - Laboratório de Programação</td>\n      <td>6.0</td>\n      <td>Engenharia Informática</td>\n      <td>NaN</td>\n    </tr>\n    <tr>\n      <th>10</th>\n      <td>1.0</td>\n      <td>S2</td>\n      <td>61024 - Macroeconomia</td>\n      <td>6.0</td>\n      <td>Economia</td>\n      <td>NaN</td>\n    </tr>\n  </tbody>\n</table>\n</div>"
     },
     "execution_count": 6,
     "metadata": {},
     "output_type": "execute_result"
    }
   ],
   "source": [
    "dfs[0]"
   ],
   "metadata": {
    "collapsed": false,
    "ExecuteTime": {
     "end_time": "2023-11-06T12:43:59.621976Z",
     "start_time": "2023-11-06T12:43:59.613692Z"
    }
   },
   "id": "50281101d91bdb"
  },
  {
   "cell_type": "code",
   "execution_count": 7,
   "outputs": [
    {
     "data": {
      "text/plain": "   Maior                                                                   \\\n     Ano Semestre                                 Unidade Curricular ECTS   \n0    2.0       S1     21032 - Elementos de Análise Infinitesimal III  6.0   \n1    2.0       S1                     21041 - Estatística Aplicada I  6.0   \n2    2.0       S1              21053 - Fundamentos de Bases de Dados  6.0   \n3    2.0       S1                      21159 - Matemática Financeira  6.0   \n4    2.0       S1                      61020 - Informática de Gestão  6.0   \n5    NaN      NaN                                                NaN  NaN   \n6    2.0       S2                     21091 - Programação Matemática  6.0   \n7    2.0       S2  21185 - Equações Diferenciais Aplicadas à Macr...  6.0   \n8    2.0       S2                    61005 - Contabilidade de Gestão  6.0   \n9    2.0       S2                              61027 - Microeconomia  6.0   \n10   2.0       S2                 61036 - Avaliação de Investimentos  6.0   \n\n                                               \n           Área Científica Unnamed: 5_level_1  \n0               Matemática                NaN  \n1               Matemática                NaN  \n2   Engenharia Informática                NaN  \n3               Matemática                NaN  \n4                   Gestão                NaN  \n5                      NaN                NaN  \n6               Matemática                NaN  \n7               Matemática                NaN  \n8                   Gestão                NaN  \n9                 Economia                NaN  \n10                  Gestão                NaN  ",
      "text/html": "<div>\n<style scoped>\n    .dataframe tbody tr th:only-of-type {\n        vertical-align: middle;\n    }\n\n    .dataframe tbody tr th {\n        vertical-align: top;\n    }\n\n    .dataframe thead tr th {\n        text-align: left;\n    }\n</style>\n<table border=\"1\" class=\"dataframe\">\n  <thead>\n    <tr>\n      <th></th>\n      <th colspan=\"6\" halign=\"left\">Maior</th>\n    </tr>\n    <tr>\n      <th></th>\n      <th>Ano</th>\n      <th>Semestre</th>\n      <th>Unidade Curricular</th>\n      <th>ECTS</th>\n      <th>Área Científica</th>\n      <th>Unnamed: 5_level_1</th>\n    </tr>\n  </thead>\n  <tbody>\n    <tr>\n      <th>0</th>\n      <td>2.0</td>\n      <td>S1</td>\n      <td>21032 - Elementos de Análise Infinitesimal III</td>\n      <td>6.0</td>\n      <td>Matemática</td>\n      <td>NaN</td>\n    </tr>\n    <tr>\n      <th>1</th>\n      <td>2.0</td>\n      <td>S1</td>\n      <td>21041 - Estatística Aplicada I</td>\n      <td>6.0</td>\n      <td>Matemática</td>\n      <td>NaN</td>\n    </tr>\n    <tr>\n      <th>2</th>\n      <td>2.0</td>\n      <td>S1</td>\n      <td>21053 - Fundamentos de Bases de Dados</td>\n      <td>6.0</td>\n      <td>Engenharia Informática</td>\n      <td>NaN</td>\n    </tr>\n    <tr>\n      <th>3</th>\n      <td>2.0</td>\n      <td>S1</td>\n      <td>21159 - Matemática Financeira</td>\n      <td>6.0</td>\n      <td>Matemática</td>\n      <td>NaN</td>\n    </tr>\n    <tr>\n      <th>4</th>\n      <td>2.0</td>\n      <td>S1</td>\n      <td>61020 - Informática de Gestão</td>\n      <td>6.0</td>\n      <td>Gestão</td>\n      <td>NaN</td>\n    </tr>\n    <tr>\n      <th>5</th>\n      <td>NaN</td>\n      <td>NaN</td>\n      <td>NaN</td>\n      <td>NaN</td>\n      <td>NaN</td>\n      <td>NaN</td>\n    </tr>\n    <tr>\n      <th>6</th>\n      <td>2.0</td>\n      <td>S2</td>\n      <td>21091 - Programação Matemática</td>\n      <td>6.0</td>\n      <td>Matemática</td>\n      <td>NaN</td>\n    </tr>\n    <tr>\n      <th>7</th>\n      <td>2.0</td>\n      <td>S2</td>\n      <td>21185 - Equações Diferenciais Aplicadas à Macr...</td>\n      <td>6.0</td>\n      <td>Matemática</td>\n      <td>NaN</td>\n    </tr>\n    <tr>\n      <th>8</th>\n      <td>2.0</td>\n      <td>S2</td>\n      <td>61005 - Contabilidade de Gestão</td>\n      <td>6.0</td>\n      <td>Gestão</td>\n      <td>NaN</td>\n    </tr>\n    <tr>\n      <th>9</th>\n      <td>2.0</td>\n      <td>S2</td>\n      <td>61027 - Microeconomia</td>\n      <td>6.0</td>\n      <td>Economia</td>\n      <td>NaN</td>\n    </tr>\n    <tr>\n      <th>10</th>\n      <td>2.0</td>\n      <td>S2</td>\n      <td>61036 - Avaliação de Investimentos</td>\n      <td>6.0</td>\n      <td>Gestão</td>\n      <td>NaN</td>\n    </tr>\n  </tbody>\n</table>\n</div>"
     },
     "execution_count": 7,
     "metadata": {},
     "output_type": "execute_result"
    }
   ],
   "source": [
    "dfs[1]"
   ],
   "metadata": {
    "collapsed": false,
    "ExecuteTime": {
     "end_time": "2023-11-06T12:44:11.515122Z",
     "start_time": "2023-11-06T12:44:11.502521Z"
    }
   },
   "id": "8750197ff3f62b0e"
  },
  {
   "cell_type": "code",
   "execution_count": 8,
   "outputs": [
    {
     "data": {
      "text/plain": "               Maior                    \\\n                 Ano          Semestre   \n   Bloco Opcionais A Bloco Opcionais A   \n                 Ano          Semestre   \n   Bloco Opcionais B Bloco Opcionais B   \n                 Ano          Semestre   \n   Bloco Opcionais C Bloco Opcionais C   \n                 Ano          Semestre   \n   Bloco Opcionais D Bloco Opcionais D   \n                 Ano          Semestre   \n0                3.0                S1   \n1                3.0                S1   \n2                3.0                S1   \n3                3.0                S1   \n4                NaN               NaN   \n5                3.0                S2   \n6                3.0                S2   \n7                3.0                S2   \n8                3.0                S2   \n9                3.0                S1   \n10               NaN               NaN   \n11               3.0                S2   \n12               3.0                S1   \n13               NaN               NaN   \n14               3.0                S2   \n15               3.0                S1   \n16               NaN               NaN   \n17               3.0                S2   \n18               3.0                S1   \n19               3.0                S1   \n20               3.0                S1   \n21               3.0                S1   \n22               3.0                S1   \n23               NaN               NaN   \n24               3.0                S2   \n25               3.0                S2   \n26               3.0                S2   \n27               3.0                S2   \n28               3.0                S2   \n\n                                                                         \\\n                                   Unidade Curricular              ECTS   \n                                    Bloco Opcionais A Bloco Opcionais A   \n                                   Unidade Curricular              ECTS   \n                                    Bloco Opcionais B Bloco Opcionais B   \n                                   Unidade Curricular              ECTS   \n                                    Bloco Opcionais C Bloco Opcionais C   \n                                   Unidade Curricular              ECTS   \n                                    Bloco Opcionais D Bloco Opcionais D   \n                                   Unidade Curricular              ECTS   \n0               21035 - Elementos de Análise Numérica               6.0   \n1            21089 - Processos Estocásticos Aplicados               6.0   \n2        21103 - Sistemas de Gestão de Bases de Dados               6.0   \n3                   61023 - Investimentos Financeiros               6.0   \n4                                                 NaN               NaN   \n5                   21043 - Estatística Computacional               6.0   \n6   21073 - Introdução à Probabilidade e Estatísti...               6.0   \n7       21163 - Elementos de Estatística Multivariada               6.0   \n8               61043 - Economia Digital e e-Business               6.0   \n9              61017 - Gestão de Produção e Operações               6.0   \n10                                                NaN               NaN   \n11                          61047 - Casos de Finanças               6.0   \n12                   21093 - Programação por Objectos               6.0   \n13                                                NaN               NaN   \n14  21179 - Laboratório de Desenvolvimento de Soft...               6.0   \n15                        21110 - Sistemas Multimédia               6.0   \n16                                                NaN               NaN   \n17       21071 - Introdução à Inteligência Artificial               6.0   \n18                  Opcionais LMAG - Bloco D (1º Sem)               6.0   \n19          * 21161 - Análise de Fourier e Aplicações               6.0   \n20  * 21167 - Introdução à Modelação Matemática e ...               6.0   \n21           * 61017 - Gestão de Produção e Operações               6.0   \n22                          * 61040 - Casos de Gestão               6.0   \n23                                                NaN               NaN   \n24                  Opcionais LMAG - Bloco D (2º Sem)               6.0   \n25    * 21033 - Elementos de Análise Infinitesimal IV               6.0   \n26                  * 21042 - Estatística Aplicada II               6.0   \n27                      * 61045 - Projeto Empresarial               6.0   \n28                        * 61047 - Casos de Finanças               6.0   \n\n                                                                \n                            Área Científica Unnamed: 5_level_1  \n                          Bloco Opcionais A  Bloco Opcionais A  \n                            Área Científica Unnamed: 5_level_3  \n                          Bloco Opcionais B  Bloco Opcionais B  \n                            Área Científica Unnamed: 5_level_5  \n                          Bloco Opcionais C  Bloco Opcionais C  \n                            Área Científica Unnamed: 5_level_7  \n                          Bloco Opcionais D  Bloco Opcionais D  \n                            Área Científica Unnamed: 5_level_9  \n0                                Matemática                NaN  \n1                                Matemática                NaN  \n2                    Engenharia Informática                NaN  \n3                                    Gestão                NaN  \n4                                       NaN                NaN  \n5                                Matemática                NaN  \n6                                Matemática                NaN  \n7                                Matemática                NaN  \n8                                    Gestão                NaN  \n9                                    Gestão                NaN  \n10                                      NaN                NaN  \n11                                   Gestão                NaN  \n12                   Engenharia Informática                NaN  \n13                                      NaN                NaN  \n14                   Engenharia Informática                NaN  \n15  Tecnologias de Informação e Comunicação                NaN  \n16                                      NaN                NaN  \n17                   Engenharia Informática                NaN  \n18                                      NaN                NaN  \n19                               Matemática                NaN  \n20                               Matemática                NaN  \n21                                   Gestão                NaN  \n22                                   Gestão                NaN  \n23                                      NaN                NaN  \n24                                      NaN                NaN  \n25                               Matemática                NaN  \n26                               Matemática                NaN  \n27                                   Gestão                NaN  \n28                                   Gestão                NaN  ",
      "text/html": "<div>\n<style scoped>\n    .dataframe tbody tr th:only-of-type {\n        vertical-align: middle;\n    }\n\n    .dataframe tbody tr th {\n        vertical-align: top;\n    }\n\n    .dataframe thead tr th {\n        text-align: left;\n    }\n</style>\n<table border=\"1\" class=\"dataframe\">\n  <thead>\n    <tr>\n      <th></th>\n      <th colspan=\"6\" halign=\"left\">Maior</th>\n    </tr>\n    <tr>\n      <th></th>\n      <th>Ano</th>\n      <th>Semestre</th>\n      <th>Unidade Curricular</th>\n      <th>ECTS</th>\n      <th>Área Científica</th>\n      <th>Unnamed: 5_level_1</th>\n    </tr>\n    <tr>\n      <th></th>\n      <th>Bloco Opcionais A</th>\n      <th>Bloco Opcionais A</th>\n      <th>Bloco Opcionais A</th>\n      <th>Bloco Opcionais A</th>\n      <th>Bloco Opcionais A</th>\n      <th>Bloco Opcionais A</th>\n    </tr>\n    <tr>\n      <th></th>\n      <th>Ano</th>\n      <th>Semestre</th>\n      <th>Unidade Curricular</th>\n      <th>ECTS</th>\n      <th>Área Científica</th>\n      <th>Unnamed: 5_level_3</th>\n    </tr>\n    <tr>\n      <th></th>\n      <th>Bloco Opcionais B</th>\n      <th>Bloco Opcionais B</th>\n      <th>Bloco Opcionais B</th>\n      <th>Bloco Opcionais B</th>\n      <th>Bloco Opcionais B</th>\n      <th>Bloco Opcionais B</th>\n    </tr>\n    <tr>\n      <th></th>\n      <th>Ano</th>\n      <th>Semestre</th>\n      <th>Unidade Curricular</th>\n      <th>ECTS</th>\n      <th>Área Científica</th>\n      <th>Unnamed: 5_level_5</th>\n    </tr>\n    <tr>\n      <th></th>\n      <th>Bloco Opcionais C</th>\n      <th>Bloco Opcionais C</th>\n      <th>Bloco Opcionais C</th>\n      <th>Bloco Opcionais C</th>\n      <th>Bloco Opcionais C</th>\n      <th>Bloco Opcionais C</th>\n    </tr>\n    <tr>\n      <th></th>\n      <th>Ano</th>\n      <th>Semestre</th>\n      <th>Unidade Curricular</th>\n      <th>ECTS</th>\n      <th>Área Científica</th>\n      <th>Unnamed: 5_level_7</th>\n    </tr>\n    <tr>\n      <th></th>\n      <th>Bloco Opcionais D</th>\n      <th>Bloco Opcionais D</th>\n      <th>Bloco Opcionais D</th>\n      <th>Bloco Opcionais D</th>\n      <th>Bloco Opcionais D</th>\n      <th>Bloco Opcionais D</th>\n    </tr>\n    <tr>\n      <th></th>\n      <th>Ano</th>\n      <th>Semestre</th>\n      <th>Unidade Curricular</th>\n      <th>ECTS</th>\n      <th>Área Científica</th>\n      <th>Unnamed: 5_level_9</th>\n    </tr>\n  </thead>\n  <tbody>\n    <tr>\n      <th>0</th>\n      <td>3.0</td>\n      <td>S1</td>\n      <td>21035 - Elementos de Análise Numérica</td>\n      <td>6.0</td>\n      <td>Matemática</td>\n      <td>NaN</td>\n    </tr>\n    <tr>\n      <th>1</th>\n      <td>3.0</td>\n      <td>S1</td>\n      <td>21089 - Processos Estocásticos Aplicados</td>\n      <td>6.0</td>\n      <td>Matemática</td>\n      <td>NaN</td>\n    </tr>\n    <tr>\n      <th>2</th>\n      <td>3.0</td>\n      <td>S1</td>\n      <td>21103 - Sistemas de Gestão de Bases de Dados</td>\n      <td>6.0</td>\n      <td>Engenharia Informática</td>\n      <td>NaN</td>\n    </tr>\n    <tr>\n      <th>3</th>\n      <td>3.0</td>\n      <td>S1</td>\n      <td>61023 - Investimentos Financeiros</td>\n      <td>6.0</td>\n      <td>Gestão</td>\n      <td>NaN</td>\n    </tr>\n    <tr>\n      <th>4</th>\n      <td>NaN</td>\n      <td>NaN</td>\n      <td>NaN</td>\n      <td>NaN</td>\n      <td>NaN</td>\n      <td>NaN</td>\n    </tr>\n    <tr>\n      <th>5</th>\n      <td>3.0</td>\n      <td>S2</td>\n      <td>21043 - Estatística Computacional</td>\n      <td>6.0</td>\n      <td>Matemática</td>\n      <td>NaN</td>\n    </tr>\n    <tr>\n      <th>6</th>\n      <td>3.0</td>\n      <td>S2</td>\n      <td>21073 - Introdução à Probabilidade e Estatísti...</td>\n      <td>6.0</td>\n      <td>Matemática</td>\n      <td>NaN</td>\n    </tr>\n    <tr>\n      <th>7</th>\n      <td>3.0</td>\n      <td>S2</td>\n      <td>21163 - Elementos de Estatística Multivariada</td>\n      <td>6.0</td>\n      <td>Matemática</td>\n      <td>NaN</td>\n    </tr>\n    <tr>\n      <th>8</th>\n      <td>3.0</td>\n      <td>S2</td>\n      <td>61043 - Economia Digital e e-Business</td>\n      <td>6.0</td>\n      <td>Gestão</td>\n      <td>NaN</td>\n    </tr>\n    <tr>\n      <th>9</th>\n      <td>3.0</td>\n      <td>S1</td>\n      <td>61017 - Gestão de Produção e Operações</td>\n      <td>6.0</td>\n      <td>Gestão</td>\n      <td>NaN</td>\n    </tr>\n    <tr>\n      <th>10</th>\n      <td>NaN</td>\n      <td>NaN</td>\n      <td>NaN</td>\n      <td>NaN</td>\n      <td>NaN</td>\n      <td>NaN</td>\n    </tr>\n    <tr>\n      <th>11</th>\n      <td>3.0</td>\n      <td>S2</td>\n      <td>61047 - Casos de Finanças</td>\n      <td>6.0</td>\n      <td>Gestão</td>\n      <td>NaN</td>\n    </tr>\n    <tr>\n      <th>12</th>\n      <td>3.0</td>\n      <td>S1</td>\n      <td>21093 - Programação por Objectos</td>\n      <td>6.0</td>\n      <td>Engenharia Informática</td>\n      <td>NaN</td>\n    </tr>\n    <tr>\n      <th>13</th>\n      <td>NaN</td>\n      <td>NaN</td>\n      <td>NaN</td>\n      <td>NaN</td>\n      <td>NaN</td>\n      <td>NaN</td>\n    </tr>\n    <tr>\n      <th>14</th>\n      <td>3.0</td>\n      <td>S2</td>\n      <td>21179 - Laboratório de Desenvolvimento de Soft...</td>\n      <td>6.0</td>\n      <td>Engenharia Informática</td>\n      <td>NaN</td>\n    </tr>\n    <tr>\n      <th>15</th>\n      <td>3.0</td>\n      <td>S1</td>\n      <td>21110 - Sistemas Multimédia</td>\n      <td>6.0</td>\n      <td>Tecnologias de Informação e Comunicação</td>\n      <td>NaN</td>\n    </tr>\n    <tr>\n      <th>16</th>\n      <td>NaN</td>\n      <td>NaN</td>\n      <td>NaN</td>\n      <td>NaN</td>\n      <td>NaN</td>\n      <td>NaN</td>\n    </tr>\n    <tr>\n      <th>17</th>\n      <td>3.0</td>\n      <td>S2</td>\n      <td>21071 - Introdução à Inteligência Artificial</td>\n      <td>6.0</td>\n      <td>Engenharia Informática</td>\n      <td>NaN</td>\n    </tr>\n    <tr>\n      <th>18</th>\n      <td>3.0</td>\n      <td>S1</td>\n      <td>Opcionais LMAG - Bloco D (1º Sem)</td>\n      <td>6.0</td>\n      <td>NaN</td>\n      <td>NaN</td>\n    </tr>\n    <tr>\n      <th>19</th>\n      <td>3.0</td>\n      <td>S1</td>\n      <td>* 21161 - Análise de Fourier e Aplicações</td>\n      <td>6.0</td>\n      <td>Matemática</td>\n      <td>NaN</td>\n    </tr>\n    <tr>\n      <th>20</th>\n      <td>3.0</td>\n      <td>S1</td>\n      <td>* 21167 - Introdução à Modelação Matemática e ...</td>\n      <td>6.0</td>\n      <td>Matemática</td>\n      <td>NaN</td>\n    </tr>\n    <tr>\n      <th>21</th>\n      <td>3.0</td>\n      <td>S1</td>\n      <td>* 61017 - Gestão de Produção e Operações</td>\n      <td>6.0</td>\n      <td>Gestão</td>\n      <td>NaN</td>\n    </tr>\n    <tr>\n      <th>22</th>\n      <td>3.0</td>\n      <td>S1</td>\n      <td>* 61040 - Casos de Gestão</td>\n      <td>6.0</td>\n      <td>Gestão</td>\n      <td>NaN</td>\n    </tr>\n    <tr>\n      <th>23</th>\n      <td>NaN</td>\n      <td>NaN</td>\n      <td>NaN</td>\n      <td>NaN</td>\n      <td>NaN</td>\n      <td>NaN</td>\n    </tr>\n    <tr>\n      <th>24</th>\n      <td>3.0</td>\n      <td>S2</td>\n      <td>Opcionais LMAG - Bloco D (2º Sem)</td>\n      <td>6.0</td>\n      <td>NaN</td>\n      <td>NaN</td>\n    </tr>\n    <tr>\n      <th>25</th>\n      <td>3.0</td>\n      <td>S2</td>\n      <td>* 21033 - Elementos de Análise Infinitesimal IV</td>\n      <td>6.0</td>\n      <td>Matemática</td>\n      <td>NaN</td>\n    </tr>\n    <tr>\n      <th>26</th>\n      <td>3.0</td>\n      <td>S2</td>\n      <td>* 21042 - Estatística Aplicada II</td>\n      <td>6.0</td>\n      <td>Matemática</td>\n      <td>NaN</td>\n    </tr>\n    <tr>\n      <th>27</th>\n      <td>3.0</td>\n      <td>S2</td>\n      <td>* 61045 - Projeto Empresarial</td>\n      <td>6.0</td>\n      <td>Gestão</td>\n      <td>NaN</td>\n    </tr>\n    <tr>\n      <th>28</th>\n      <td>3.0</td>\n      <td>S2</td>\n      <td>* 61047 - Casos de Finanças</td>\n      <td>6.0</td>\n      <td>Gestão</td>\n      <td>NaN</td>\n    </tr>\n  </tbody>\n</table>\n</div>"
     },
     "execution_count": 8,
     "metadata": {},
     "output_type": "execute_result"
    }
   ],
   "source": [
    "dfs[2]"
   ],
   "metadata": {
    "collapsed": false,
    "ExecuteTime": {
     "end_time": "2023-11-06T12:44:14.968638Z",
     "start_time": "2023-11-06T12:44:14.952910Z"
    }
   },
   "id": "44ec9f3fa2ad1351"
  }
 ],
 "metadata": {
  "kernelspec": {
   "display_name": "Python 3",
   "language": "python",
   "name": "python3"
  },
  "language_info": {
   "codemirror_mode": {
    "name": "ipython",
    "version": 2
   },
   "file_extension": ".py",
   "mimetype": "text/x-python",
   "name": "python",
   "nbconvert_exporter": "python",
   "pygments_lexer": "ipython2",
   "version": "2.7.6"
  }
 },
 "nbformat": 4,
 "nbformat_minor": 5
}
