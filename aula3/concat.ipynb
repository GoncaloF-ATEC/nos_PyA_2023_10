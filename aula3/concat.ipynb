{
 "cells": [
  {
   "cell_type": "code",
   "execution_count": 22,
   "outputs": [],
   "source": [
    "import pandas as pd\n",
    "from datetime import  date, datetime"
   ],
   "metadata": {
    "collapsed": false,
    "ExecuteTime": {
     "end_time": "2023-11-06T12:06:56.088436Z",
     "start_time": "2023-11-06T12:06:56.080369Z"
    }
   },
   "id": "c220dbe68c8acd5f"
  },
  {
   "cell_type": "code",
   "execution_count": 3,
   "outputs": [
    {
     "data": {
      "text/plain": "     Nome  nota\nv1   Joao    20\nV2  Maria    10\nV2   Rita    14",
      "text/html": "<div>\n<style scoped>\n    .dataframe tbody tr th:only-of-type {\n        vertical-align: middle;\n    }\n\n    .dataframe tbody tr th {\n        vertical-align: top;\n    }\n\n    .dataframe thead th {\n        text-align: right;\n    }\n</style>\n<table border=\"1\" class=\"dataframe\">\n  <thead>\n    <tr style=\"text-align: right;\">\n      <th></th>\n      <th>Nome</th>\n      <th>nota</th>\n    </tr>\n  </thead>\n  <tbody>\n    <tr>\n      <th>v1</th>\n      <td>Joao</td>\n      <td>20</td>\n    </tr>\n    <tr>\n      <th>V2</th>\n      <td>Maria</td>\n      <td>10</td>\n    </tr>\n    <tr>\n      <th>V2</th>\n      <td>Rita</td>\n      <td>14</td>\n    </tr>\n  </tbody>\n</table>\n</div>"
     },
     "execution_count": 3,
     "metadata": {},
     "output_type": "execute_result"
    }
   ],
   "source": [
    "dict = {\"Nome\":[\"Joao\", \"Maria\", \"Rita\"], \"nota\":[20,10,14]}\n",
    "\n",
    "df = pd.DataFrame(dict, index= [\"v1\", \"V2\", \"V2\"])\n",
    "\n",
    "df"
   ],
   "metadata": {
    "collapsed": false,
    "ExecuteTime": {
     "end_time": "2023-11-06T11:49:00.700025Z",
     "start_time": "2023-11-06T11:49:00.687454Z"
    }
   },
   "id": "5fd4c1b35e0691dd"
  },
  {
   "cell_type": "code",
   "execution_count": 6,
   "outputs": [
    {
     "data": {
      "text/plain": "    Nome  nota  nota2\n0    Rui    20     20\n1  Pedro    20     20",
      "text/html": "<div>\n<style scoped>\n    .dataframe tbody tr th:only-of-type {\n        vertical-align: middle;\n    }\n\n    .dataframe tbody tr th {\n        vertical-align: top;\n    }\n\n    .dataframe thead th {\n        text-align: right;\n    }\n</style>\n<table border=\"1\" class=\"dataframe\">\n  <thead>\n    <tr style=\"text-align: right;\">\n      <th></th>\n      <th>Nome</th>\n      <th>nota</th>\n      <th>nota2</th>\n    </tr>\n  </thead>\n  <tbody>\n    <tr>\n      <th>0</th>\n      <td>Rui</td>\n      <td>20</td>\n      <td>20</td>\n    </tr>\n    <tr>\n      <th>1</th>\n      <td>Pedro</td>\n      <td>20</td>\n      <td>20</td>\n    </tr>\n  </tbody>\n</table>\n</div>"
     },
     "execution_count": 6,
     "metadata": {},
     "output_type": "execute_result"
    }
   ],
   "source": [
    "nova_nota = {\"Nome\":[\"Rui\", \"Pedro\"], \"nota\":[20,20], \"nota2\":[20,20]}\n",
    "\n",
    "df2 = pd.DataFrame(nova_nota)\n",
    "\n",
    "df2"
   ],
   "metadata": {
    "collapsed": false,
    "ExecuteTime": {
     "end_time": "2023-11-06T11:52:13.005100Z",
     "start_time": "2023-11-06T11:52:12.994130Z"
    }
   },
   "id": "e9c0c9608e66705d"
  },
  {
   "cell_type": "code",
   "execution_count": 9,
   "outputs": [
    {
     "data": {
      "text/plain": "    Nome  nota  nota2\n0   Joao    20    NaN\n1  Maria    10    NaN\n2   Rita    14    NaN\n3    Rui    20   20.0\n4  Pedro    20   20.0",
      "text/html": "<div>\n<style scoped>\n    .dataframe tbody tr th:only-of-type {\n        vertical-align: middle;\n    }\n\n    .dataframe tbody tr th {\n        vertical-align: top;\n    }\n\n    .dataframe thead th {\n        text-align: right;\n    }\n</style>\n<table border=\"1\" class=\"dataframe\">\n  <thead>\n    <tr style=\"text-align: right;\">\n      <th></th>\n      <th>Nome</th>\n      <th>nota</th>\n      <th>nota2</th>\n    </tr>\n  </thead>\n  <tbody>\n    <tr>\n      <th>0</th>\n      <td>Joao</td>\n      <td>20</td>\n      <td>NaN</td>\n    </tr>\n    <tr>\n      <th>1</th>\n      <td>Maria</td>\n      <td>10</td>\n      <td>NaN</td>\n    </tr>\n    <tr>\n      <th>2</th>\n      <td>Rita</td>\n      <td>14</td>\n      <td>NaN</td>\n    </tr>\n    <tr>\n      <th>3</th>\n      <td>Rui</td>\n      <td>20</td>\n      <td>20.0</td>\n    </tr>\n    <tr>\n      <th>4</th>\n      <td>Pedro</td>\n      <td>20</td>\n      <td>20.0</td>\n    </tr>\n  </tbody>\n</table>\n</div>"
     },
     "execution_count": 9,
     "metadata": {},
     "output_type": "execute_result"
    }
   ],
   "source": [
    "nova_df = pd.concat([df, df2], ignore_index=True)\n",
    "\n",
    "nova_df"
   ],
   "metadata": {
    "collapsed": false,
    "ExecuteTime": {
     "end_time": "2023-11-06T11:53:04.898982Z",
     "start_time": "2023-11-06T11:53:04.891568Z"
    }
   },
   "id": "46e91d1be6e68264"
  },
  {
   "cell_type": "code",
   "execution_count": 12,
   "outputs": [
    {
     "data": {
      "text/plain": "  index   Nome  nota nota2\n0    v1   Joao    20     0\n1    V2  Maria    10     0\n2    V2   Rita    14     0\n3     0    Rui    20  20.0\n4     1  Pedro    20  20.0",
      "text/html": "<div>\n<style scoped>\n    .dataframe tbody tr th:only-of-type {\n        vertical-align: middle;\n    }\n\n    .dataframe tbody tr th {\n        vertical-align: top;\n    }\n\n    .dataframe thead th {\n        text-align: right;\n    }\n</style>\n<table border=\"1\" class=\"dataframe\">\n  <thead>\n    <tr style=\"text-align: right;\">\n      <th></th>\n      <th>index</th>\n      <th>Nome</th>\n      <th>nota</th>\n      <th>nota2</th>\n    </tr>\n  </thead>\n  <tbody>\n    <tr>\n      <th>0</th>\n      <td>v1</td>\n      <td>Joao</td>\n      <td>20</td>\n      <td>0</td>\n    </tr>\n    <tr>\n      <th>1</th>\n      <td>V2</td>\n      <td>Maria</td>\n      <td>10</td>\n      <td>0</td>\n    </tr>\n    <tr>\n      <th>2</th>\n      <td>V2</td>\n      <td>Rita</td>\n      <td>14</td>\n      <td>0</td>\n    </tr>\n    <tr>\n      <th>3</th>\n      <td>0</td>\n      <td>Rui</td>\n      <td>20</td>\n      <td>20.0</td>\n    </tr>\n    <tr>\n      <th>4</th>\n      <td>1</td>\n      <td>Pedro</td>\n      <td>20</td>\n      <td>20.0</td>\n    </tr>\n  </tbody>\n</table>\n</div>"
     },
     "execution_count": 12,
     "metadata": {},
     "output_type": "execute_result"
    }
   ],
   "source": [
    "nova_df2 = pd.concat([df, df2]).reset_index()\n",
    "nova_df2.fillna(\"0\", inplace= True)\n",
    "\n",
    "nova_df2"
   ],
   "metadata": {
    "collapsed": false,
    "ExecuteTime": {
     "end_time": "2023-11-06T11:57:12.109728Z",
     "start_time": "2023-11-06T11:57:12.105748Z"
    }
   },
   "id": "404bd91052accf88"
  },
  {
   "cell_type": "code",
   "execution_count": 13,
   "outputs": [
    {
     "data": {
      "text/plain": "    Data\n0  Data1\n1  Data1\n2  Data1\n3  Data1\n4  Data1",
      "text/html": "<div>\n<style scoped>\n    .dataframe tbody tr th:only-of-type {\n        vertical-align: middle;\n    }\n\n    .dataframe tbody tr th {\n        vertical-align: top;\n    }\n\n    .dataframe thead th {\n        text-align: right;\n    }\n</style>\n<table border=\"1\" class=\"dataframe\">\n  <thead>\n    <tr style=\"text-align: right;\">\n      <th></th>\n      <th>Data</th>\n    </tr>\n  </thead>\n  <tbody>\n    <tr>\n      <th>0</th>\n      <td>Data1</td>\n    </tr>\n    <tr>\n      <th>1</th>\n      <td>Data1</td>\n    </tr>\n    <tr>\n      <th>2</th>\n      <td>Data1</td>\n    </tr>\n    <tr>\n      <th>3</th>\n      <td>Data1</td>\n    </tr>\n    <tr>\n      <th>4</th>\n      <td>Data1</td>\n    </tr>\n  </tbody>\n</table>\n</div>"
     },
     "execution_count": 13,
     "metadata": {},
     "output_type": "execute_result"
    }
   ],
   "source": [
    "colDf = pd.DataFrame({\"Data\": [\"Data1\",\"Data1\",\"Data1\",\"Data1\",\"Data1\"]})\n",
    "\n",
    "colDf"
   ],
   "metadata": {
    "collapsed": false,
    "ExecuteTime": {
     "end_time": "2023-11-06T12:00:50.763527Z",
     "start_time": "2023-11-06T12:00:50.754838Z"
    }
   },
   "id": "b9b1566682219a22"
  },
  {
   "cell_type": "code",
   "execution_count": 24,
   "outputs": [
    {
     "data": {
      "text/plain": "  index   Nome  nota nota2        Data\n0    v1   Joao    20     0  2023-11-06\n1    V2  Maria    10     0  2023-11-06\n2    V2   Rita    14     0  2023-11-06\n3     0    Rui    20  20.0  2023-11-06\n4     1  Pedro    20  20.0  2023-11-06",
      "text/html": "<div>\n<style scoped>\n    .dataframe tbody tr th:only-of-type {\n        vertical-align: middle;\n    }\n\n    .dataframe tbody tr th {\n        vertical-align: top;\n    }\n\n    .dataframe thead th {\n        text-align: right;\n    }\n</style>\n<table border=\"1\" class=\"dataframe\">\n  <thead>\n    <tr style=\"text-align: right;\">\n      <th></th>\n      <th>index</th>\n      <th>Nome</th>\n      <th>nota</th>\n      <th>nota2</th>\n      <th>Data</th>\n    </tr>\n  </thead>\n  <tbody>\n    <tr>\n      <th>0</th>\n      <td>v1</td>\n      <td>Joao</td>\n      <td>20</td>\n      <td>0</td>\n      <td>2023-11-06</td>\n    </tr>\n    <tr>\n      <th>1</th>\n      <td>V2</td>\n      <td>Maria</td>\n      <td>10</td>\n      <td>0</td>\n      <td>2023-11-06</td>\n    </tr>\n    <tr>\n      <th>2</th>\n      <td>V2</td>\n      <td>Rita</td>\n      <td>14</td>\n      <td>0</td>\n      <td>2023-11-06</td>\n    </tr>\n    <tr>\n      <th>3</th>\n      <td>0</td>\n      <td>Rui</td>\n      <td>20</td>\n      <td>20.0</td>\n      <td>2023-11-06</td>\n    </tr>\n    <tr>\n      <th>4</th>\n      <td>1</td>\n      <td>Pedro</td>\n      <td>20</td>\n      <td>20.0</td>\n      <td>2023-11-06</td>\n    </tr>\n  </tbody>\n</table>\n</div>"
     },
     "execution_count": 24,
     "metadata": {},
     "output_type": "execute_result"
    }
   ],
   "source": [
    "#nova_df2[\"Data\"] = [\"Data1\",\"Data1\",\"Data1\",\"Data1\",\"Data1\"]\n",
    "nova_df2[\"Data\"] = date.today()\n",
    "nova_df2"
   ],
   "metadata": {
    "collapsed": false,
    "ExecuteTime": {
     "end_time": "2023-11-06T12:08:20.190776Z",
     "start_time": "2023-11-06T12:08:20.184695Z"
    }
   },
   "id": "219390fb59cb8192"
  },
  {
   "cell_type": "code",
   "execution_count": 25,
   "outputs": [
    {
     "data": {
      "text/plain": "   variable       value\n0     index          v1\n1     index          V2\n2     index          V2\n3     index           0\n4     index           1\n5      Nome        Joao\n6      Nome       Maria\n7      Nome        Rita\n8      Nome         Rui\n9      Nome       Pedro\n10     nota          20\n11     nota          10\n12     nota          14\n13     nota          20\n14     nota          20\n15    nota2           0\n16    nota2           0\n17    nota2           0\n18    nota2        20.0\n19    nota2        20.0\n20     Data  2023-11-06\n21     Data  2023-11-06\n22     Data  2023-11-06\n23     Data  2023-11-06\n24     Data  2023-11-06",
      "text/html": "<div>\n<style scoped>\n    .dataframe tbody tr th:only-of-type {\n        vertical-align: middle;\n    }\n\n    .dataframe tbody tr th {\n        vertical-align: top;\n    }\n\n    .dataframe thead th {\n        text-align: right;\n    }\n</style>\n<table border=\"1\" class=\"dataframe\">\n  <thead>\n    <tr style=\"text-align: right;\">\n      <th></th>\n      <th>variable</th>\n      <th>value</th>\n    </tr>\n  </thead>\n  <tbody>\n    <tr>\n      <th>0</th>\n      <td>index</td>\n      <td>v1</td>\n    </tr>\n    <tr>\n      <th>1</th>\n      <td>index</td>\n      <td>V2</td>\n    </tr>\n    <tr>\n      <th>2</th>\n      <td>index</td>\n      <td>V2</td>\n    </tr>\n    <tr>\n      <th>3</th>\n      <td>index</td>\n      <td>0</td>\n    </tr>\n    <tr>\n      <th>4</th>\n      <td>index</td>\n      <td>1</td>\n    </tr>\n    <tr>\n      <th>5</th>\n      <td>Nome</td>\n      <td>Joao</td>\n    </tr>\n    <tr>\n      <th>6</th>\n      <td>Nome</td>\n      <td>Maria</td>\n    </tr>\n    <tr>\n      <th>7</th>\n      <td>Nome</td>\n      <td>Rita</td>\n    </tr>\n    <tr>\n      <th>8</th>\n      <td>Nome</td>\n      <td>Rui</td>\n    </tr>\n    <tr>\n      <th>9</th>\n      <td>Nome</td>\n      <td>Pedro</td>\n    </tr>\n    <tr>\n      <th>10</th>\n      <td>nota</td>\n      <td>20</td>\n    </tr>\n    <tr>\n      <th>11</th>\n      <td>nota</td>\n      <td>10</td>\n    </tr>\n    <tr>\n      <th>12</th>\n      <td>nota</td>\n      <td>14</td>\n    </tr>\n    <tr>\n      <th>13</th>\n      <td>nota</td>\n      <td>20</td>\n    </tr>\n    <tr>\n      <th>14</th>\n      <td>nota</td>\n      <td>20</td>\n    </tr>\n    <tr>\n      <th>15</th>\n      <td>nota2</td>\n      <td>0</td>\n    </tr>\n    <tr>\n      <th>16</th>\n      <td>nota2</td>\n      <td>0</td>\n    </tr>\n    <tr>\n      <th>17</th>\n      <td>nota2</td>\n      <td>0</td>\n    </tr>\n    <tr>\n      <th>18</th>\n      <td>nota2</td>\n      <td>20.0</td>\n    </tr>\n    <tr>\n      <th>19</th>\n      <td>nota2</td>\n      <td>20.0</td>\n    </tr>\n    <tr>\n      <th>20</th>\n      <td>Data</td>\n      <td>2023-11-06</td>\n    </tr>\n    <tr>\n      <th>21</th>\n      <td>Data</td>\n      <td>2023-11-06</td>\n    </tr>\n    <tr>\n      <th>22</th>\n      <td>Data</td>\n      <td>2023-11-06</td>\n    </tr>\n    <tr>\n      <th>23</th>\n      <td>Data</td>\n      <td>2023-11-06</td>\n    </tr>\n    <tr>\n      <th>24</th>\n      <td>Data</td>\n      <td>2023-11-06</td>\n    </tr>\n  </tbody>\n</table>\n</div>"
     },
     "execution_count": 25,
     "metadata": {},
     "output_type": "execute_result"
    }
   ],
   "source": [
    "out = pd.melt(nova_df2)\n",
    "out"
   ],
   "metadata": {
    "collapsed": false,
    "ExecuteTime": {
     "end_time": "2023-11-06T12:09:36.220381Z",
     "start_time": "2023-11-06T12:09:36.210185Z"
    }
   },
   "id": "751aa52d76cf4747"
  },
  {
   "cell_type": "code",
   "execution_count": 26,
   "outputs": [
    {
     "data": {
      "text/plain": "  index   Nome  nota nota2        Data\n1    V2  Maria    10     0  2023-11-06\n2    V2   Rita    14     0  2023-11-06\n0    v1   Joao    20     0  2023-11-06\n3     0    Rui    20  20.0  2023-11-06\n4     1  Pedro    20  20.0  2023-11-06",
      "text/html": "<div>\n<style scoped>\n    .dataframe tbody tr th:only-of-type {\n        vertical-align: middle;\n    }\n\n    .dataframe tbody tr th {\n        vertical-align: top;\n    }\n\n    .dataframe thead th {\n        text-align: right;\n    }\n</style>\n<table border=\"1\" class=\"dataframe\">\n  <thead>\n    <tr style=\"text-align: right;\">\n      <th></th>\n      <th>index</th>\n      <th>Nome</th>\n      <th>nota</th>\n      <th>nota2</th>\n      <th>Data</th>\n    </tr>\n  </thead>\n  <tbody>\n    <tr>\n      <th>1</th>\n      <td>V2</td>\n      <td>Maria</td>\n      <td>10</td>\n      <td>0</td>\n      <td>2023-11-06</td>\n    </tr>\n    <tr>\n      <th>2</th>\n      <td>V2</td>\n      <td>Rita</td>\n      <td>14</td>\n      <td>0</td>\n      <td>2023-11-06</td>\n    </tr>\n    <tr>\n      <th>0</th>\n      <td>v1</td>\n      <td>Joao</td>\n      <td>20</td>\n      <td>0</td>\n      <td>2023-11-06</td>\n    </tr>\n    <tr>\n      <th>3</th>\n      <td>0</td>\n      <td>Rui</td>\n      <td>20</td>\n      <td>20.0</td>\n      <td>2023-11-06</td>\n    </tr>\n    <tr>\n      <th>4</th>\n      <td>1</td>\n      <td>Pedro</td>\n      <td>20</td>\n      <td>20.0</td>\n      <td>2023-11-06</td>\n    </tr>\n  </tbody>\n</table>\n</div>"
     },
     "execution_count": 26,
     "metadata": {},
     "output_type": "execute_result"
    }
   ],
   "source": [
    "s = nova_df2.sort_values(\"nota\")\n",
    "s"
   ],
   "metadata": {
    "collapsed": false,
    "ExecuteTime": {
     "end_time": "2023-11-06T12:12:52.624261Z",
     "start_time": "2023-11-06T12:12:52.609679Z"
    }
   },
   "id": "7c9a85d828580c0c"
  },
  {
   "cell_type": "code",
   "execution_count": 28,
   "outputs": [
    {
     "data": {
      "text/plain": "  index   Nome  nota nota2        Data\n0    v1   Joao    20     0  2023-11-06\n3     0    Rui    20  20.0  2023-11-06\n4     1  Pedro    20  20.0  2023-11-06\n2    V2   Rita    14     0  2023-11-06\n1    V2  Maria    10     0  2023-11-06",
      "text/html": "<div>\n<style scoped>\n    .dataframe tbody tr th:only-of-type {\n        vertical-align: middle;\n    }\n\n    .dataframe tbody tr th {\n        vertical-align: top;\n    }\n\n    .dataframe thead th {\n        text-align: right;\n    }\n</style>\n<table border=\"1\" class=\"dataframe\">\n  <thead>\n    <tr style=\"text-align: right;\">\n      <th></th>\n      <th>index</th>\n      <th>Nome</th>\n      <th>nota</th>\n      <th>nota2</th>\n      <th>Data</th>\n    </tr>\n  </thead>\n  <tbody>\n    <tr>\n      <th>0</th>\n      <td>v1</td>\n      <td>Joao</td>\n      <td>20</td>\n      <td>0</td>\n      <td>2023-11-06</td>\n    </tr>\n    <tr>\n      <th>3</th>\n      <td>0</td>\n      <td>Rui</td>\n      <td>20</td>\n      <td>20.0</td>\n      <td>2023-11-06</td>\n    </tr>\n    <tr>\n      <th>4</th>\n      <td>1</td>\n      <td>Pedro</td>\n      <td>20</td>\n      <td>20.0</td>\n      <td>2023-11-06</td>\n    </tr>\n    <tr>\n      <th>2</th>\n      <td>V2</td>\n      <td>Rita</td>\n      <td>14</td>\n      <td>0</td>\n      <td>2023-11-06</td>\n    </tr>\n    <tr>\n      <th>1</th>\n      <td>V2</td>\n      <td>Maria</td>\n      <td>10</td>\n      <td>0</td>\n      <td>2023-11-06</td>\n    </tr>\n  </tbody>\n</table>\n</div>"
     },
     "execution_count": 28,
     "metadata": {},
     "output_type": "execute_result"
    }
   ],
   "source": [
    "s = nova_df2.sort_values(\"nota\", ascending=False)\n",
    "s"
   ],
   "metadata": {
    "collapsed": false,
    "ExecuteTime": {
     "end_time": "2023-11-06T12:13:29.522123Z",
     "start_time": "2023-11-06T12:13:29.514194Z"
    }
   },
   "id": "89ed5f2b832c822d"
  },
  {
   "cell_type": "code",
   "execution_count": 29,
   "outputs": [
    {
     "data": {
      "text/plain": "   col1  co12  co13\n0     1     4     7\n1     2     5     8\n2     3     6     9",
      "text/html": "<div>\n<style scoped>\n    .dataframe tbody tr th:only-of-type {\n        vertical-align: middle;\n    }\n\n    .dataframe tbody tr th {\n        vertical-align: top;\n    }\n\n    .dataframe thead th {\n        text-align: right;\n    }\n</style>\n<table border=\"1\" class=\"dataframe\">\n  <thead>\n    <tr style=\"text-align: right;\">\n      <th></th>\n      <th>col1</th>\n      <th>co12</th>\n      <th>co13</th>\n    </tr>\n  </thead>\n  <tbody>\n    <tr>\n      <th>0</th>\n      <td>1</td>\n      <td>4</td>\n      <td>7</td>\n    </tr>\n    <tr>\n      <th>1</th>\n      <td>2</td>\n      <td>5</td>\n      <td>8</td>\n    </tr>\n    <tr>\n      <th>2</th>\n      <td>3</td>\n      <td>6</td>\n      <td>9</td>\n    </tr>\n  </tbody>\n</table>\n</div>"
     },
     "execution_count": 29,
     "metadata": {},
     "output_type": "execute_result"
    }
   ],
   "source": [
    "temp = {'col1':[1,2,3], 'co12':[4,5,6], 'co13':[7,8,9]}\n",
    "\n",
    "df2 = pd.DataFrame.from_dict(temp)\n",
    "df2"
   ],
   "metadata": {
    "collapsed": false,
    "ExecuteTime": {
     "end_time": "2023-11-06T12:18:39.002345Z",
     "start_time": "2023-11-06T12:18:38.992303Z"
    }
   },
   "id": "5930e65f13c4aec2"
  }
 ],
 "metadata": {
  "kernelspec": {
   "display_name": "Python 3",
   "language": "python",
   "name": "python3"
  },
  "language_info": {
   "codemirror_mode": {
    "name": "ipython",
    "version": 2
   },
   "file_extension": ".py",
   "mimetype": "text/x-python",
   "name": "python",
   "nbconvert_exporter": "python",
   "pygments_lexer": "ipython2",
   "version": "2.7.6"
  }
 },
 "nbformat": 4,
 "nbformat_minor": 5
}
