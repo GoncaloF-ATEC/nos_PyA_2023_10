{
 "cells": [
  {
   "cell_type": "code",
   "execution_count": 2,
   "id": "initial_id",
   "metadata": {
    "collapsed": true,
    "ExecuteTime": {
     "end_time": "2023-11-06T10:00:18.568530Z",
     "start_time": "2023-11-06T10:00:18.565199Z"
    }
   },
   "outputs": [],
   "source": [
    "import pandas as pd"
   ]
  },
  {
   "cell_type": "code",
   "execution_count": 3,
   "outputs": [
    {
     "data": {
      "text/plain": "'2.0.3'"
     },
     "execution_count": 3,
     "metadata": {},
     "output_type": "execute_result"
    }
   ],
   "source": [
    "pd.__version__"
   ],
   "metadata": {
    "collapsed": false,
    "ExecuteTime": {
     "end_time": "2023-11-06T10:00:20.742840Z",
     "start_time": "2023-11-06T10:00:20.734786Z"
    }
   },
   "id": "4bfb25420f1fb258"
  },
  {
   "cell_type": "code",
   "execution_count": 6,
   "outputs": [
    {
     "data": {
      "text/plain": "0     5\n1     8\n2    10\n3     8\n4     7\ndtype: int64"
     },
     "execution_count": 6,
     "metadata": {},
     "output_type": "execute_result"
    }
   ],
   "source": [
    "s1 = pd.Series([5, 8, 10, 8 ,7])\n",
    "\n",
    "s1"
   ],
   "metadata": {
    "collapsed": false,
    "ExecuteTime": {
     "end_time": "2023-11-06T10:05:38.794729Z",
     "start_time": "2023-11-06T10:05:38.790422Z"
    }
   },
   "id": "450d59dced26d161"
  },
  {
   "cell_type": "code",
   "execution_count": 5,
   "outputs": [
    {
     "name": "stdout",
     "output_type": "stream",
     "text": [
      "0     5\n",
      "1     8\n",
      "2    10\n",
      "3     8\n",
      "4     7\n",
      "dtype: int64\n"
     ]
    }
   ],
   "source": [
    "print(s1)"
   ],
   "metadata": {
    "collapsed": false,
    "ExecuteTime": {
     "end_time": "2023-11-06T10:05:31.885512Z",
     "start_time": "2023-11-06T10:05:31.877153Z"
    }
   },
   "id": "db6ae32ceb6c2ee7"
  },
  {
   "cell_type": "code",
   "execution_count": 10,
   "outputs": [
    {
     "data": {
      "text/plain": "0     5\n1     8\n2    10\n3     8\n4     7\ndtype: int64"
     },
     "execution_count": 10,
     "metadata": {},
     "output_type": "execute_result"
    }
   ],
   "source": [
    "s1"
   ],
   "metadata": {
    "collapsed": false,
    "ExecuteTime": {
     "end_time": "2023-11-06T10:09:39.346023Z",
     "start_time": "2023-11-06T10:09:39.338119Z"
    }
   },
   "id": "2c75767550a15ab5"
  },
  {
   "cell_type": "markdown",
   "source": [
    "pd.Series(data, id da coluna, lista de indices)"
   ],
   "metadata": {
    "collapsed": false
   },
   "id": "d406572200bacf76"
  },
  {
   "cell_type": "code",
   "execution_count": 9,
   "outputs": [
    {
     "data": {
      "text/plain": "key1     5\nkey2     8\nkey3    10\nkey4     8\nkey5     7\nName: Lista 1, dtype: int64"
     },
     "execution_count": 9,
     "metadata": {},
     "output_type": "execute_result"
    }
   ],
   "source": [
    "s2 = pd.Series([5, 8, 10, 8 ,7], name=\"Lista 1\", index=[\"key1\", \"key2\", \"key3\", \"key4\", \"key5\"])\n",
    "\n",
    "s2"
   ],
   "metadata": {
    "collapsed": false,
    "ExecuteTime": {
     "end_time": "2023-11-06T10:09:17.326850Z",
     "start_time": "2023-11-06T10:09:17.319038Z"
    }
   },
   "id": "93522429003211b4"
  },
  {
   "cell_type": "code",
   "execution_count": 24,
   "outputs": [
    {
     "data": {
      "text/plain": "nova key1     5\nnova key2     8\nnova key3    10\nnova key4     8\nnova key5     7\nName: Novo_nome, dtype: int64"
     },
     "execution_count": 24,
     "metadata": {},
     "output_type": "execute_result"
    }
   ],
   "source": [
    "s2.name = \"Novo_nome\"\n",
    "\n",
    "s2"
   ],
   "metadata": {
    "collapsed": false,
    "ExecuteTime": {
     "end_time": "2023-11-06T10:27:51.754320Z",
     "start_time": "2023-11-06T10:27:51.745495Z"
    }
   },
   "id": "fa63bd514aa2de85"
  },
  {
   "cell_type": "code",
   "execution_count": 12,
   "outputs": [
    {
     "data": {
      "text/plain": "nova key1     5\nnova key2     8\nnova key3    10\nnova key4     8\nnova key5     7\nName: Novo nome, dtype: int64"
     },
     "execution_count": 12,
     "metadata": {},
     "output_type": "execute_result"
    }
   ],
   "source": [
    "s2.index = [\"nova key1\", \"nova key2\", \"nova key3\", \"nova key4\", \"nova key5\"]\n",
    "\n",
    "s2"
   ],
   "metadata": {
    "collapsed": false,
    "ExecuteTime": {
     "end_time": "2023-11-06T10:11:49.432258Z",
     "start_time": "2023-11-06T10:11:49.427786Z"
    }
   },
   "id": "d8b45caa42a1f67d"
  },
  {
   "cell_type": "code",
   "execution_count": 14,
   "outputs": [
    {
     "data": {
      "text/plain": "0      5\n1      8\n2     10\n3      8\n4      7\n5      5\n6      8\n7     10\n8      8\n9      7\n10     5\n11     8\n12    10\n13     8\n14     7\n15     5\n16     8\n17    10\n18     8\n19     7\nName: Lista 1, dtype: int64"
     },
     "execution_count": 14,
     "metadata": {},
     "output_type": "execute_result"
    }
   ],
   "source": [
    "s3 = pd.Series([5, 8, 10, 8 ,7,5, 8, 10, 8 ,7,5, 8, 10, 8 ,7,5, 8, 10, 8 ,7], name=\"Lista 1\")\n",
    "\n",
    "s3"
   ],
   "metadata": {
    "collapsed": false,
    "ExecuteTime": {
     "end_time": "2023-11-06T10:16:21.177310Z",
     "start_time": "2023-11-06T10:16:21.172528Z"
    }
   },
   "id": "4016252464bbef91"
  },
  {
   "cell_type": "code",
   "execution_count": 15,
   "outputs": [
    {
     "data": {
      "text/plain": "0     5\n1     8\n2    10\n3     8\n4     7\nName: Lista 1, dtype: int64"
     },
     "execution_count": 15,
     "metadata": {},
     "output_type": "execute_result"
    }
   ],
   "source": [
    "s3.head()"
   ],
   "metadata": {
    "collapsed": false,
    "ExecuteTime": {
     "end_time": "2023-11-06T10:16:46.115756Z",
     "start_time": "2023-11-06T10:16:46.104444Z"
    }
   },
   "id": "92a82b5bd97d1565"
  },
  {
   "cell_type": "code",
   "execution_count": 16,
   "outputs": [
    {
     "data": {
      "text/plain": "0     5\n1     8\n2    10\n3     8\n4     7\n5     5\n6     8\nName: Lista 1, dtype: int64"
     },
     "execution_count": 16,
     "metadata": {},
     "output_type": "execute_result"
    }
   ],
   "source": [
    "s3.head(7)"
   ],
   "metadata": {
    "collapsed": false,
    "ExecuteTime": {
     "end_time": "2023-11-06T10:17:30.848886Z",
     "start_time": "2023-11-06T10:17:30.839502Z"
    }
   },
   "id": "eacac036b74c0cce"
  },
  {
   "cell_type": "code",
   "execution_count": 18,
   "outputs": [
    {
     "data": {
      "text/plain": "15     5\n16     8\n17    10\n18     8\n19     7\nName: Lista 1, dtype: int64"
     },
     "execution_count": 18,
     "metadata": {},
     "output_type": "execute_result"
    }
   ],
   "source": [
    "s3.tail()"
   ],
   "metadata": {
    "collapsed": false,
    "ExecuteTime": {
     "end_time": "2023-11-06T10:19:19.094014Z",
     "start_time": "2023-11-06T10:19:19.084068Z"
    }
   },
   "id": "457957d07aa40"
  },
  {
   "cell_type": "code",
   "execution_count": 19,
   "outputs": [
    {
     "data": {
      "text/plain": "14     7\n15     5\n16     8\n17    10\n18     8\n19     7\nName: Lista 1, dtype: int64"
     },
     "execution_count": 19,
     "metadata": {},
     "output_type": "execute_result"
    }
   ],
   "source": [
    "s3.tail(6)"
   ],
   "metadata": {
    "collapsed": false,
    "ExecuteTime": {
     "end_time": "2023-11-06T10:19:46.980204Z",
     "start_time": "2023-11-06T10:19:46.971506Z"
    }
   },
   "id": "2205ee1511cd4f07"
  },
  {
   "cell_type": "code",
   "execution_count": 21,
   "outputs": [
    {
     "data": {
      "text/plain": "nova key1     5\nnova key2     8\nnova key3    10\nnova key4     8\nnova key5     7\nName: Novo nome, dtype: int64"
     },
     "execution_count": 21,
     "metadata": {},
     "output_type": "execute_result"
    }
   ],
   "source": [
    "s2"
   ],
   "metadata": {
    "collapsed": false,
    "ExecuteTime": {
     "end_time": "2023-11-06T10:20:49.013308Z",
     "start_time": "2023-11-06T10:20:49.005727Z"
    }
   },
   "id": "3b393d85a3665c1e"
  },
  {
   "cell_type": "code",
   "execution_count": 22,
   "outputs": [
    {
     "data": {
      "text/plain": "5"
     },
     "execution_count": 22,
     "metadata": {},
     "output_type": "execute_result"
    }
   ],
   "source": [
    "s2[0]"
   ],
   "metadata": {
    "collapsed": false,
    "ExecuteTime": {
     "end_time": "2023-11-06T10:21:03.870904Z",
     "start_time": "2023-11-06T10:21:03.856960Z"
    }
   },
   "id": "f2c0cbcc05d1d880"
  },
  {
   "cell_type": "code",
   "execution_count": 23,
   "outputs": [
    {
     "data": {
      "text/plain": "5"
     },
     "execution_count": 23,
     "metadata": {},
     "output_type": "execute_result"
    }
   ],
   "source": [
    "s2[\"nova key1\"]"
   ],
   "metadata": {
    "collapsed": false,
    "ExecuteTime": {
     "end_time": "2023-11-06T10:21:25.130880Z",
     "start_time": "2023-11-06T10:21:25.122867Z"
    }
   },
   "id": "9695e224855e275b"
  },
  {
   "cell_type": "code",
   "execution_count": 25,
   "outputs": [
    {
     "data": {
      "text/plain": "38"
     },
     "execution_count": 25,
     "metadata": {},
     "output_type": "execute_result"
    }
   ],
   "source": [
    "s2.sum()"
   ],
   "metadata": {
    "collapsed": false,
    "ExecuteTime": {
     "end_time": "2023-11-06T10:30:08.891890Z",
     "start_time": "2023-11-06T10:30:08.883606Z"
    }
   },
   "id": "8c76805f28f87e0b"
  },
  {
   "cell_type": "code",
   "execution_count": 26,
   "outputs": [
    {
     "data": {
      "text/plain": "5"
     },
     "execution_count": 26,
     "metadata": {},
     "output_type": "execute_result"
    }
   ],
   "source": [
    "s2[\"nova key1\"].sum()"
   ],
   "metadata": {
    "collapsed": false,
    "ExecuteTime": {
     "end_time": "2023-11-06T10:30:28.604739Z",
     "start_time": "2023-11-06T10:30:28.598718Z"
    }
   },
   "id": "26708beeb679981"
  },
  {
   "cell_type": "code",
   "execution_count": 30,
   "outputs": [
    {
     "data": {
      "text/plain": "23"
     },
     "execution_count": 30,
     "metadata": {},
     "output_type": "execute_result"
    }
   ],
   "source": [
    "s2[0:3].sum()"
   ],
   "metadata": {
    "collapsed": false,
    "ExecuteTime": {
     "end_time": "2023-11-06T10:33:07.343561Z",
     "start_time": "2023-11-06T10:33:07.330791Z"
    }
   },
   "id": "85eb9221e9d86e0c"
  },
  {
   "cell_type": "code",
   "execution_count": 32,
   "outputs": [
    {
     "data": {
      "text/plain": "day1    520\nday2    380\nday3    390\nName: calorias, dtype: int64"
     },
     "execution_count": 32,
     "metadata": {},
     "output_type": "execute_result"
    }
   ],
   "source": [
    "calorias = {\"day1\": 420,\n",
    "            \"day2\": 380,\n",
    "            \"day3\": 390}\n",
    "\n",
    "cal = pd.Series(calorias, name=\"calorias\")\n",
    "\n",
    "cal"
   ],
   "metadata": {
    "collapsed": false,
    "ExecuteTime": {
     "end_time": "2023-11-06T10:35:22.303991Z",
     "start_time": "2023-11-06T10:35:22.296233Z"
    }
   },
   "id": "57362f879c778397"
  },
  {
   "cell_type": "code",
   "execution_count": 33,
   "outputs": [
    {
     "data": {
      "text/plain": "key1    1.00\nkey1    2.50\nkey2    1.75\ndtype: float64"
     },
     "execution_count": 33,
     "metadata": {},
     "output_type": "execute_result"
    }
   ],
   "source": [
    "s6 = pd.Series([1, 2.5, 1.75])\n",
    "s6.index = [\"key1\", \"key1\", \"key2\"]\n",
    "\n",
    "s6"
   ],
   "metadata": {
    "collapsed": false,
    "ExecuteTime": {
     "end_time": "2023-11-06T10:38:24.412734Z",
     "start_time": "2023-11-06T10:38:24.379962Z"
    }
   },
   "id": "c5d0fd3bf0d5671d"
  },
  {
   "cell_type": "code",
   "execution_count": 34,
   "outputs": [
    {
     "data": {
      "text/plain": "3.5"
     },
     "execution_count": 34,
     "metadata": {},
     "output_type": "execute_result"
    }
   ],
   "source": [
    "s6[\"key1\"].sum()"
   ],
   "metadata": {
    "collapsed": false,
    "ExecuteTime": {
     "end_time": "2023-11-06T10:39:00.120250Z",
     "start_time": "2023-11-06T10:39:00.113834Z"
    }
   },
   "id": "a5aea4a475e7f716"
  },
  {
   "cell_type": "code",
   "execution_count": 35,
   "outputs": [
    {
     "data": {
      "text/plain": "key1    1.0\nkey1    2.5\ndtype: float64"
     },
     "execution_count": 35,
     "metadata": {},
     "output_type": "execute_result"
    }
   ],
   "source": [
    "s6[\"key1\"]"
   ],
   "metadata": {
    "collapsed": false,
    "ExecuteTime": {
     "end_time": "2023-11-06T10:40:28.861408Z",
     "start_time": "2023-11-06T10:40:28.850322Z"
    }
   },
   "id": "69588b1d316f947a"
  },
  {
   "cell_type": "code",
   "execution_count": 36,
   "outputs": [
    {
     "data": {
      "text/plain": "key1    1.0\nkey1    2.5\ndtype: float64"
     },
     "execution_count": 36,
     "metadata": {},
     "output_type": "execute_result"
    }
   ],
   "source": [
    "s6.get(\"key1\")"
   ],
   "metadata": {
    "collapsed": false,
    "ExecuteTime": {
     "end_time": "2023-11-06T10:40:51.740886Z",
     "start_time": "2023-11-06T10:40:51.731553Z"
    }
   },
   "id": "3d603006eeae0684"
  },
  {
   "cell_type": "code",
   "execution_count": 44,
   "outputs": [
    {
     "data": {
      "text/plain": "Key1  20    1.00\n      40    2.50\nKey2  25    1.75\ndtype: float64"
     },
     "execution_count": 44,
     "metadata": {},
     "output_type": "execute_result"
    }
   ],
   "source": [
    "\n",
    "s7 = pd.Series([1, 2.5, 1.75], index = pd.MultiIndex.from_tuples([(\"Key1\", 20),\n",
    "                                                                  (\"Key1\", 40),\n",
    "                                                                  (\"Key2\", 25)] ))\n",
    "\n",
    "s7"
   ],
   "metadata": {
    "collapsed": false,
    "ExecuteTime": {
     "end_time": "2023-11-06T10:48:25.105941Z",
     "start_time": "2023-11-06T10:48:25.098127Z"
    }
   },
   "id": "e3fbf76f003854d5"
  },
  {
   "cell_type": "code",
   "execution_count": 46,
   "outputs": [
    {
     "data": {
      "text/plain": "3.5"
     },
     "execution_count": 46,
     "metadata": {},
     "output_type": "execute_result"
    }
   ],
   "source": [
    "s7[\"Key1\"].sum()"
   ],
   "metadata": {
    "collapsed": false,
    "ExecuteTime": {
     "end_time": "2023-11-06T10:50:56.993585Z",
     "start_time": "2023-11-06T10:50:56.985961Z"
    }
   },
   "id": "dd20e151f861f462"
  },
  {
   "cell_type": "code",
   "execution_count": 47,
   "outputs": [
    {
     "data": {
      "text/plain": "2.5"
     },
     "execution_count": 47,
     "metadata": {},
     "output_type": "execute_result"
    }
   ],
   "source": [
    "s7[\"Key1\"][40]"
   ],
   "metadata": {
    "collapsed": false,
    "ExecuteTime": {
     "end_time": "2023-11-06T10:51:36.212935Z",
     "start_time": "2023-11-06T10:51:36.207645Z"
    }
   },
   "id": "588eadde8cf79e6a"
  },
  {
   "cell_type": "code",
   "execution_count": 48,
   "outputs": [
    {
     "data": {
      "text/plain": "20    1.0\n40    2.5\ndtype: float64"
     },
     "execution_count": 48,
     "metadata": {},
     "output_type": "execute_result"
    }
   ],
   "source": [
    "s7.get(\"Key1\")"
   ],
   "metadata": {
    "collapsed": false,
    "ExecuteTime": {
     "end_time": "2023-11-06T10:52:06.577894Z",
     "start_time": "2023-11-06T10:52:06.573125Z"
    }
   },
   "id": "b8339aa3a8d8a305"
  },
  {
   "cell_type": "code",
   "execution_count": 49,
   "outputs": [
    {
     "data": {
      "text/plain": "2.5"
     },
     "execution_count": 49,
     "metadata": {},
     "output_type": "execute_result"
    }
   ],
   "source": [
    "s7.get((\"Key1\", 40))"
   ],
   "metadata": {
    "collapsed": false,
    "ExecuteTime": {
     "end_time": "2023-11-06T10:52:39.422021Z",
     "start_time": "2023-11-06T10:52:39.417272Z"
    }
   },
   "id": "845392cb8275c3b8"
  }
 ],
 "metadata": {
  "kernelspec": {
   "display_name": "Python 3",
   "language": "python",
   "name": "python3"
  },
  "language_info": {
   "codemirror_mode": {
    "name": "ipython",
    "version": 2
   },
   "file_extension": ".py",
   "mimetype": "text/x-python",
   "name": "python",
   "nbconvert_exporter": "python",
   "pygments_lexer": "ipython2",
   "version": "2.7.6"
  }
 },
 "nbformat": 4,
 "nbformat_minor": 5
}
