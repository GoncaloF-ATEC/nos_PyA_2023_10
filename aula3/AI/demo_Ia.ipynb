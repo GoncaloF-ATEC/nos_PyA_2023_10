{
 "cells": [
  {
   "cell_type": "code",
   "execution_count": 8,
   "id": "initial_id",
   "metadata": {
    "collapsed": true,
    "ExecuteTime": {
     "end_time": "2023-11-13T10:53:38.682288Z",
     "start_time": "2023-11-13T10:53:38.677693Z"
    }
   },
   "outputs": [],
   "source": [
    "import openai"
   ]
  },
  {
   "cell_type": "markdown",
   "source": [],
   "metadata": {
    "collapsed": false
   },
   "id": "9b20b7d69bd80e6a"
  },
  {
   "cell_type": "code",
   "execution_count": 9,
   "outputs": [],
   "source": [
    "openai.api_key = \"\"\n",
    "\n",
    "\n",
    "\n"
   ],
   "metadata": {
    "collapsed": false,
    "ExecuteTime": {
     "end_time": "2023-11-13T10:53:40.966767Z",
     "start_time": "2023-11-13T10:53:40.961584Z"
    }
   },
   "id": "d01b20f97b09404a"
  },
  {
   "cell_type": "code",
   "execution_count": 12,
   "outputs": [],
   "source": [
    "#import openai\n",
    "\n",
    "completion = openai.chat.completions.create(\n",
    "    model=\"gpt-3.5-turbo\",\n",
    "    messages=[\n",
    "        {\"role\": \"system\", \"content\": \"act like a IMDB Clone\"},\n",
    "        {\"role\": \"system\", \"content\": \"give me direct answers, without context,  without introduction, just what i asked, if you dont know the answer just tell me unknown\"},\n",
    "        {\"role\": \"user\", \"content\": \"year of Titanic\"}\n",
    "    ]\n",
    ")\n",
    "\n"
   ],
   "metadata": {
    "collapsed": false,
    "ExecuteTime": {
     "end_time": "2023-11-13T10:54:39.676913Z",
     "start_time": "2023-11-13T10:54:38.176063Z"
    }
   },
   "id": "32b6fd25b459dcd2"
  },
  {
   "cell_type": "code",
   "execution_count": 14,
   "outputs": [
    {
     "ename": "TypeError",
     "evalue": "string indices must be integers",
     "output_type": "error",
     "traceback": [
      "\u001B[0;31m---------------------------------------------------------------------------\u001B[0m",
      "\u001B[0;31mTypeError\u001B[0m                                 Traceback (most recent call last)",
      "Cell \u001B[0;32mIn[14], line 1\u001B[0m\n\u001B[0;32m----> 1\u001B[0m \u001B[38;5;28mprint\u001B[39m(\u001B[43mcompletion\u001B[49m\u001B[38;5;241;43m.\u001B[39;49m\u001B[43mchoices\u001B[49m\u001B[43m[\u001B[49m\u001B[38;5;241;43m0\u001B[39;49m\u001B[43m]\u001B[49m\u001B[38;5;241;43m.\u001B[39;49m\u001B[43mmessage\u001B[49m\u001B[38;5;241;43m.\u001B[39;49m\u001B[43mcontent\u001B[49m\u001B[43m[\u001B[49m\u001B[43m:\u001B[49m\u001B[43m,\u001B[49m\u001B[43m \u001B[49m\u001B[38;5;241;43m-\u001B[39;49m\u001B[38;5;241;43m1\u001B[39;49m\u001B[43m]\u001B[49m)\n",
      "\u001B[0;31mTypeError\u001B[0m: string indices must be integers"
     ]
    }
   ],
   "source": [
    "print(completion.choices[0].message.content)"
   ],
   "metadata": {
    "collapsed": false,
    "ExecuteTime": {
     "end_time": "2023-11-13T11:29:27.630099Z",
     "start_time": "2023-11-13T11:29:27.578507Z"
    }
   },
   "id": "db4c4708c54d2a19"
  },
  {
   "cell_type": "code",
   "execution_count": 20,
   "outputs": [
    {
     "data": {
      "text/plain": "'teste.d'"
     },
     "execution_count": 20,
     "metadata": {},
     "output_type": "execute_result"
    }
   ],
   "source": [
    "nome = \"teste.\"\n",
    "\n",
    "if nome[-1] == \".\":\n",
    "    nome = nome[: -1]\n",
    "    \n",
    "nome"
   ],
   "metadata": {
    "collapsed": false,
    "ExecuteTime": {
     "end_time": "2023-11-13T11:31:01.103910Z",
     "start_time": "2023-11-13T11:31:01.089502Z"
    }
   },
   "id": "205c2399bed52393"
  },
  {
   "cell_type": "code",
   "execution_count": 23,
   "outputs": [
    {
     "name": "stdout",
     "output_type": "stream",
     "text": [
      "\n",
      "            Teste\n",
      "            Teste\n",
      "            teste\n",
      "            teste\n",
      "            teste\n",
      "            teste\n",
      "            Teste\n"
     ]
    }
   ],
   "source": [
    "foo = \"\"\"\n",
    "            Teste\n",
    "            Teste\n",
    "            teste\n",
    "            teste\n",
    "            teste\n",
    "            teste\n",
    "            Teste\n",
    "\"\"\"\n",
    "\n",
    "print(foo)"
   ],
   "metadata": {
    "collapsed": false,
    "ExecuteTime": {
     "end_time": "2023-11-13T12:27:39.365858Z",
     "start_time": "2023-11-13T12:27:39.357553Z"
    }
   },
   "id": "86a637f070b60b88"
  }
 ],
 "metadata": {
  "kernelspec": {
   "display_name": "Python 3",
   "language": "python",
   "name": "python3"
  },
  "language_info": {
   "codemirror_mode": {
    "name": "ipython",
    "version": 2
   },
   "file_extension": ".py",
   "mimetype": "text/x-python",
   "name": "python",
   "nbconvert_exporter": "python",
   "pygments_lexer": "ipython2",
   "version": "2.7.6"
  }
 },
 "nbformat": 4,
 "nbformat_minor": 5
}
