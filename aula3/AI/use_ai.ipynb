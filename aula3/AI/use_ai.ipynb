{
 "cells": [
  {
   "cell_type": "code",
   "execution_count": 31,
   "id": "initial_id",
   "metadata": {
    "collapsed": true,
    "ExecuteTime": {
     "end_time": "2023-11-13T11:23:25.618364Z",
     "start_time": "2023-11-13T11:23:25.608028Z"
    }
   },
   "outputs": [],
   "source": [
    "import pandas as pd\n",
    "import openai\n",
    "import time as t"
   ]
  },
  {
   "cell_type": "code",
   "execution_count": 32,
   "outputs": [],
   "source": [
    "openai.api_key = \"\"\n",
    "count = 0"
   ],
   "metadata": {
    "collapsed": false,
    "ExecuteTime": {
     "end_time": "2023-11-13T11:23:25.620348Z",
     "start_time": "2023-11-13T11:23:25.613160Z"
    }
   },
   "id": "cde24a868fedfca9"
  },
  {
   "cell_type": "code",
   "execution_count": 33,
   "outputs": [
    {
     "data": {
      "text/plain": "  show_id     type                            title            director  \\\n0     s20    Movie                              Zoe       Drake Doremus   \n1     s21  TV Show                       Zoboomafoo                 NaN   \n2     s26    Movie           Zambezi: Force of Life  Dr. Rudolf Lammers   \n3     s34    Movie  Young Love (at the Sun Factory)                 NaN   \n4     s35    Movie  Young Love (at Bowery Ballroom)                 NaN   \n\n                                                cast  country  date_added  \\\n0  Ewan McGregor, Léa Seydoux, Theo James, Mirand...      NaN         NaN   \n1                                                NaN      NaN         NaN   \n2                                                NaN      NaN         NaN   \n3                                                NaN      NaN         NaN   \n4                                                NaN      NaN         NaN   \n\n   release_year rating  duration                  listed_in  \\\n0          2018      R   104 min            Science Fiction   \n1          2001   TV-Y  1 Season                       Kids   \n2          2005    ALL    50 min                Documentary   \n3          2007     NR    36 min  Music Videos and Concerts   \n4          2007     NR    37 min  Music Videos and Concerts   \n\n                                         description  \n0  ZOE tells a tale of forbidden love between an ...  \n1  Chris and Martin Kratt bring their enthusiasm ...  \n2  The Zambezi river is the fourth-longest river ...  \n3  Young Love celebrates the release of \"Too Youn...  \n4  Young Love returns to Baeble's silver screen w...  ",
      "text/html": "<div>\n<style scoped>\n    .dataframe tbody tr th:only-of-type {\n        vertical-align: middle;\n    }\n\n    .dataframe tbody tr th {\n        vertical-align: top;\n    }\n\n    .dataframe thead th {\n        text-align: right;\n    }\n</style>\n<table border=\"1\" class=\"dataframe\">\n  <thead>\n    <tr style=\"text-align: right;\">\n      <th></th>\n      <th>show_id</th>\n      <th>type</th>\n      <th>title</th>\n      <th>director</th>\n      <th>cast</th>\n      <th>country</th>\n      <th>date_added</th>\n      <th>release_year</th>\n      <th>rating</th>\n      <th>duration</th>\n      <th>listed_in</th>\n      <th>description</th>\n    </tr>\n  </thead>\n  <tbody>\n    <tr>\n      <th>0</th>\n      <td>s20</td>\n      <td>Movie</td>\n      <td>Zoe</td>\n      <td>Drake Doremus</td>\n      <td>Ewan McGregor, Léa Seydoux, Theo James, Mirand...</td>\n      <td>NaN</td>\n      <td>NaN</td>\n      <td>2018</td>\n      <td>R</td>\n      <td>104 min</td>\n      <td>Science Fiction</td>\n      <td>ZOE tells a tale of forbidden love between an ...</td>\n    </tr>\n    <tr>\n      <th>1</th>\n      <td>s21</td>\n      <td>TV Show</td>\n      <td>Zoboomafoo</td>\n      <td>NaN</td>\n      <td>NaN</td>\n      <td>NaN</td>\n      <td>NaN</td>\n      <td>2001</td>\n      <td>TV-Y</td>\n      <td>1 Season</td>\n      <td>Kids</td>\n      <td>Chris and Martin Kratt bring their enthusiasm ...</td>\n    </tr>\n    <tr>\n      <th>2</th>\n      <td>s26</td>\n      <td>Movie</td>\n      <td>Zambezi: Force of Life</td>\n      <td>Dr. Rudolf Lammers</td>\n      <td>NaN</td>\n      <td>NaN</td>\n      <td>NaN</td>\n      <td>2005</td>\n      <td>ALL</td>\n      <td>50 min</td>\n      <td>Documentary</td>\n      <td>The Zambezi river is the fourth-longest river ...</td>\n    </tr>\n    <tr>\n      <th>3</th>\n      <td>s34</td>\n      <td>Movie</td>\n      <td>Young Love (at the Sun Factory)</td>\n      <td>NaN</td>\n      <td>NaN</td>\n      <td>NaN</td>\n      <td>NaN</td>\n      <td>2007</td>\n      <td>NR</td>\n      <td>36 min</td>\n      <td>Music Videos and Concerts</td>\n      <td>Young Love celebrates the release of \"Too Youn...</td>\n    </tr>\n    <tr>\n      <th>4</th>\n      <td>s35</td>\n      <td>Movie</td>\n      <td>Young Love (at Bowery Ballroom)</td>\n      <td>NaN</td>\n      <td>NaN</td>\n      <td>NaN</td>\n      <td>NaN</td>\n      <td>2007</td>\n      <td>NR</td>\n      <td>37 min</td>\n      <td>Music Videos and Concerts</td>\n      <td>Young Love returns to Baeble's silver screen w...</td>\n    </tr>\n  </tbody>\n</table>\n</div>"
     },
     "execution_count": 33,
     "metadata": {},
     "output_type": "execute_result"
    }
   ],
   "source": [
    "data = pd.read_csv(\"amazon_prime_titles.csv\")\n",
    "data"
   ],
   "metadata": {
    "collapsed": false,
    "ExecuteTime": {
     "end_time": "2023-11-13T11:23:25.643343Z",
     "start_time": "2023-11-13T11:23:25.615814Z"
    }
   },
   "id": "927db79c16ab207c"
  },
  {
   "cell_type": "code",
   "execution_count": 34,
   "outputs": [],
   "source": [
    "def rate_limit():\n",
    "    global count\n",
    "    \n",
    "    if count == 3:\n",
    "        t.sleep(65)\n",
    "        count = 0\n",
    "\"\"\"\n",
    "    :param info bla bla bla  \n",
    "    :param movie\n",
    "    \n",
    "    :return\n",
    "\"\"\"\n",
    "def get_info(info, movie):\n",
    "    global count\n",
    "    \n",
    "    rate_limit()\n",
    "    completion = openai.chat.completions.create(\n",
    "        model=\"gpt-3.5-turbo\",\n",
    "        messages=[\n",
    "            {\"role\": \"system\", \"content\": \"act like a IMDB Clone\"},\n",
    "            {\"role\": \"system\", \"content\": \"give me direct answers, without context,  without introduction, just what i asked, if you dont know the answer just tell me unknown\"},\n",
    "            {\"role\": \"user\", \"content\": f\"{info} of {movie}\"}\n",
    "        ]\n",
    "    )\n",
    "    count += 1\n",
    "    return completion.choices[0].message.content[: -1] # [: -1] <- selecionar o ultima char \n",
    "    \n",
    "    "
   ],
   "metadata": {
    "collapsed": false,
    "ExecuteTime": {
     "end_time": "2023-11-13T11:23:25.643663Z",
     "start_time": "2023-11-13T11:23:25.633916Z"
    }
   },
   "id": "53cec172f97e0ff6"
  },
  {
   "cell_type": "code",
   "execution_count": 35,
   "outputs": [],
   "source": [
    "def set_cast(x):\n",
    "    if pd.isna(x.cast):\n",
    "        return get_info(\"cast\", x.title)\n",
    "    else:\n",
    "        return x.cast\n",
    "\n",
    "def set_director(x):\n",
    "    if pd.isna(x.director):\n",
    "        return get_info(\"director\", x.title)\n",
    "    else:\n",
    "        return x.director\n",
    "\n",
    "\n",
    "def set_info(info,title, campo):\n",
    "    if pd.isna(campo):\n",
    "        return get_info(info, title)\n",
    "    else:\n",
    "        return campo"
   ],
   "metadata": {
    "collapsed": false,
    "ExecuteTime": {
     "end_time": "2023-11-13T11:23:25.651215Z",
     "start_time": "2023-11-13T11:23:25.643779Z"
    }
   },
   "id": "d93360a7b2423486"
  },
  {
   "cell_type": "code",
   "execution_count": 36,
   "outputs": [
    {
     "data": {
      "text/plain": "  show_id     type                            title            director  \\\n0     s20    Movie                              Zoe       Drake Doremus   \n1     s21  TV Show                       Zoboomafoo                 NaN   \n2     s26    Movie           Zambezi: Force of Life  Dr. Rudolf Lammers   \n3     s34    Movie  Young Love (at the Sun Factory)                 NaN   \n4     s35    Movie  Young Love (at Bowery Ballroom)                 NaN   \n\n                                                cast  country  date_added  \\\n0  Ewan McGregor, Léa Seydoux, Theo James, Mirand...      NaN         NaN   \n1  Martin Kratt, Chris Kratt, and the lemur puppe...      NaN         NaN   \n2                                           Unknown.      NaN         NaN   \n3                                            unknown      NaN         NaN   \n4                                           Unknown.      NaN         NaN   \n\n   release_year rating  duration                  listed_in  \\\n0          2018      R   104 min            Science Fiction   \n1          2001   TV-Y  1 Season                       Kids   \n2          2005    ALL    50 min                Documentary   \n3          2007     NR    36 min  Music Videos and Concerts   \n4          2007     NR    37 min  Music Videos and Concerts   \n\n                                         description  \n0  ZOE tells a tale of forbidden love between an ...  \n1  Chris and Martin Kratt bring their enthusiasm ...  \n2  The Zambezi river is the fourth-longest river ...  \n3  Young Love celebrates the release of \"Too Youn...  \n4  Young Love returns to Baeble's silver screen w...  ",
      "text/html": "<div>\n<style scoped>\n    .dataframe tbody tr th:only-of-type {\n        vertical-align: middle;\n    }\n\n    .dataframe tbody tr th {\n        vertical-align: top;\n    }\n\n    .dataframe thead th {\n        text-align: right;\n    }\n</style>\n<table border=\"1\" class=\"dataframe\">\n  <thead>\n    <tr style=\"text-align: right;\">\n      <th></th>\n      <th>show_id</th>\n      <th>type</th>\n      <th>title</th>\n      <th>director</th>\n      <th>cast</th>\n      <th>country</th>\n      <th>date_added</th>\n      <th>release_year</th>\n      <th>rating</th>\n      <th>duration</th>\n      <th>listed_in</th>\n      <th>description</th>\n    </tr>\n  </thead>\n  <tbody>\n    <tr>\n      <th>0</th>\n      <td>s20</td>\n      <td>Movie</td>\n      <td>Zoe</td>\n      <td>Drake Doremus</td>\n      <td>Ewan McGregor, Léa Seydoux, Theo James, Mirand...</td>\n      <td>NaN</td>\n      <td>NaN</td>\n      <td>2018</td>\n      <td>R</td>\n      <td>104 min</td>\n      <td>Science Fiction</td>\n      <td>ZOE tells a tale of forbidden love between an ...</td>\n    </tr>\n    <tr>\n      <th>1</th>\n      <td>s21</td>\n      <td>TV Show</td>\n      <td>Zoboomafoo</td>\n      <td>NaN</td>\n      <td>Martin Kratt, Chris Kratt, and the lemur puppe...</td>\n      <td>NaN</td>\n      <td>NaN</td>\n      <td>2001</td>\n      <td>TV-Y</td>\n      <td>1 Season</td>\n      <td>Kids</td>\n      <td>Chris and Martin Kratt bring their enthusiasm ...</td>\n    </tr>\n    <tr>\n      <th>2</th>\n      <td>s26</td>\n      <td>Movie</td>\n      <td>Zambezi: Force of Life</td>\n      <td>Dr. Rudolf Lammers</td>\n      <td>Unknown.</td>\n      <td>NaN</td>\n      <td>NaN</td>\n      <td>2005</td>\n      <td>ALL</td>\n      <td>50 min</td>\n      <td>Documentary</td>\n      <td>The Zambezi river is the fourth-longest river ...</td>\n    </tr>\n    <tr>\n      <th>3</th>\n      <td>s34</td>\n      <td>Movie</td>\n      <td>Young Love (at the Sun Factory)</td>\n      <td>NaN</td>\n      <td>unknown</td>\n      <td>NaN</td>\n      <td>NaN</td>\n      <td>2007</td>\n      <td>NR</td>\n      <td>36 min</td>\n      <td>Music Videos and Concerts</td>\n      <td>Young Love celebrates the release of \"Too Youn...</td>\n    </tr>\n    <tr>\n      <th>4</th>\n      <td>s35</td>\n      <td>Movie</td>\n      <td>Young Love (at Bowery Ballroom)</td>\n      <td>NaN</td>\n      <td>Unknown.</td>\n      <td>NaN</td>\n      <td>NaN</td>\n      <td>2007</td>\n      <td>NR</td>\n      <td>37 min</td>\n      <td>Music Videos and Concerts</td>\n      <td>Young Love returns to Baeble's silver screen w...</td>\n    </tr>\n  </tbody>\n</table>\n</div>"
     },
     "execution_count": 36,
     "metadata": {},
     "output_type": "execute_result"
    }
   ],
   "source": [
    "data.cast = data.apply(lambda x: set_info(\"cast\", x.title, x.cast), axis=1)\n",
    "data"
   ],
   "metadata": {
    "collapsed": false,
    "ExecuteTime": {
     "end_time": "2023-11-13T11:24:41.002331Z",
     "start_time": "2023-11-13T11:23:25.646392Z"
    }
   },
   "id": "889f0f23cbda39e5"
  },
  {
   "cell_type": "code",
   "execution_count": 37,
   "outputs": [
    {
     "data": {
      "text/plain": "  show_id     type                            title            director  \\\n0     s20    Movie                              Zoe       Drake Doremus   \n1     s21  TV Show                       Zoboomafoo            Unknown.   \n2     s26    Movie           Zambezi: Force of Life  Dr. Rudolf Lammers   \n3     s34    Movie  Young Love (at the Sun Factory)            Unknown.   \n4     s35    Movie  Young Love (at Bowery Ballroom)            Unknown.   \n\n                                                cast  country  date_added  \\\n0  Ewan McGregor, Léa Seydoux, Theo James, Mirand...      NaN         NaN   \n1  Martin Kratt, Chris Kratt, and the lemur puppe...      NaN         NaN   \n2                                           Unknown.      NaN         NaN   \n3                                            unknown      NaN         NaN   \n4                                           Unknown.      NaN         NaN   \n\n   release_year rating  duration                  listed_in  \\\n0          2018      R   104 min            Science Fiction   \n1          2001   TV-Y  1 Season                       Kids   \n2          2005    ALL    50 min                Documentary   \n3          2007     NR    36 min  Music Videos and Concerts   \n4          2007     NR    37 min  Music Videos and Concerts   \n\n                                         description  \n0  ZOE tells a tale of forbidden love between an ...  \n1  Chris and Martin Kratt bring their enthusiasm ...  \n2  The Zambezi river is the fourth-longest river ...  \n3  Young Love celebrates the release of \"Too Youn...  \n4  Young Love returns to Baeble's silver screen w...  ",
      "text/html": "<div>\n<style scoped>\n    .dataframe tbody tr th:only-of-type {\n        vertical-align: middle;\n    }\n\n    .dataframe tbody tr th {\n        vertical-align: top;\n    }\n\n    .dataframe thead th {\n        text-align: right;\n    }\n</style>\n<table border=\"1\" class=\"dataframe\">\n  <thead>\n    <tr style=\"text-align: right;\">\n      <th></th>\n      <th>show_id</th>\n      <th>type</th>\n      <th>title</th>\n      <th>director</th>\n      <th>cast</th>\n      <th>country</th>\n      <th>date_added</th>\n      <th>release_year</th>\n      <th>rating</th>\n      <th>duration</th>\n      <th>listed_in</th>\n      <th>description</th>\n    </tr>\n  </thead>\n  <tbody>\n    <tr>\n      <th>0</th>\n      <td>s20</td>\n      <td>Movie</td>\n      <td>Zoe</td>\n      <td>Drake Doremus</td>\n      <td>Ewan McGregor, Léa Seydoux, Theo James, Mirand...</td>\n      <td>NaN</td>\n      <td>NaN</td>\n      <td>2018</td>\n      <td>R</td>\n      <td>104 min</td>\n      <td>Science Fiction</td>\n      <td>ZOE tells a tale of forbidden love between an ...</td>\n    </tr>\n    <tr>\n      <th>1</th>\n      <td>s21</td>\n      <td>TV Show</td>\n      <td>Zoboomafoo</td>\n      <td>Unknown.</td>\n      <td>Martin Kratt, Chris Kratt, and the lemur puppe...</td>\n      <td>NaN</td>\n      <td>NaN</td>\n      <td>2001</td>\n      <td>TV-Y</td>\n      <td>1 Season</td>\n      <td>Kids</td>\n      <td>Chris and Martin Kratt bring their enthusiasm ...</td>\n    </tr>\n    <tr>\n      <th>2</th>\n      <td>s26</td>\n      <td>Movie</td>\n      <td>Zambezi: Force of Life</td>\n      <td>Dr. Rudolf Lammers</td>\n      <td>Unknown.</td>\n      <td>NaN</td>\n      <td>NaN</td>\n      <td>2005</td>\n      <td>ALL</td>\n      <td>50 min</td>\n      <td>Documentary</td>\n      <td>The Zambezi river is the fourth-longest river ...</td>\n    </tr>\n    <tr>\n      <th>3</th>\n      <td>s34</td>\n      <td>Movie</td>\n      <td>Young Love (at the Sun Factory)</td>\n      <td>Unknown.</td>\n      <td>unknown</td>\n      <td>NaN</td>\n      <td>NaN</td>\n      <td>2007</td>\n      <td>NR</td>\n      <td>36 min</td>\n      <td>Music Videos and Concerts</td>\n      <td>Young Love celebrates the release of \"Too Youn...</td>\n    </tr>\n    <tr>\n      <th>4</th>\n      <td>s35</td>\n      <td>Movie</td>\n      <td>Young Love (at Bowery Ballroom)</td>\n      <td>Unknown.</td>\n      <td>Unknown.</td>\n      <td>NaN</td>\n      <td>NaN</td>\n      <td>2007</td>\n      <td>NR</td>\n      <td>37 min</td>\n      <td>Music Videos and Concerts</td>\n      <td>Young Love returns to Baeble's silver screen w...</td>\n    </tr>\n  </tbody>\n</table>\n</div>"
     },
     "execution_count": 37,
     "metadata": {},
     "output_type": "execute_result"
    }
   ],
   "source": [
    "data.director = data.apply(lambda x: set_info(\"director\", x.title, x.director), axis=1)\n",
    "data"
   ],
   "metadata": {
    "collapsed": false,
    "ExecuteTime": {
     "end_time": "2023-11-13T11:25:55.269264Z",
     "start_time": "2023-11-13T11:24:41.033355Z"
    }
   },
   "id": "ea943d50d7dfcfe3"
  },
  {
   "cell_type": "code",
   "execution_count": 38,
   "outputs": [
    {
     "data": {
      "text/plain": "  show_id     type                            title            director  \\\n0     s20    Movie                              Zoe       Drake Doremus   \n1     s21  TV Show                       Zoboomafoo            Unknown.   \n2     s26    Movie           Zambezi: Force of Life  Dr. Rudolf Lammers   \n3     s34    Movie  Young Love (at the Sun Factory)            Unknown.   \n4     s35    Movie  Young Love (at Bowery Ballroom)            Unknown.   \n\n                                                cast        country  \\\n0  Ewan McGregor, Léa Seydoux, Theo James, Mirand...        unknown   \n1  Martin Kratt, Chris Kratt, and the lemur puppe...  United States   \n2                                           Unknown.       Unknown.   \n3                                            unknown       Unknown.   \n4                                           Unknown.       Unknown.   \n\n   date_added  release_year rating  duration                  listed_in  \\\n0         NaN          2018      R   104 min            Science Fiction   \n1         NaN          2001   TV-Y  1 Season                       Kids   \n2         NaN          2005    ALL    50 min                Documentary   \n3         NaN          2007     NR    36 min  Music Videos and Concerts   \n4         NaN          2007     NR    37 min  Music Videos and Concerts   \n\n                                         description  \n0  ZOE tells a tale of forbidden love between an ...  \n1  Chris and Martin Kratt bring their enthusiasm ...  \n2  The Zambezi river is the fourth-longest river ...  \n3  Young Love celebrates the release of \"Too Youn...  \n4  Young Love returns to Baeble's silver screen w...  ",
      "text/html": "<div>\n<style scoped>\n    .dataframe tbody tr th:only-of-type {\n        vertical-align: middle;\n    }\n\n    .dataframe tbody tr th {\n        vertical-align: top;\n    }\n\n    .dataframe thead th {\n        text-align: right;\n    }\n</style>\n<table border=\"1\" class=\"dataframe\">\n  <thead>\n    <tr style=\"text-align: right;\">\n      <th></th>\n      <th>show_id</th>\n      <th>type</th>\n      <th>title</th>\n      <th>director</th>\n      <th>cast</th>\n      <th>country</th>\n      <th>date_added</th>\n      <th>release_year</th>\n      <th>rating</th>\n      <th>duration</th>\n      <th>listed_in</th>\n      <th>description</th>\n    </tr>\n  </thead>\n  <tbody>\n    <tr>\n      <th>0</th>\n      <td>s20</td>\n      <td>Movie</td>\n      <td>Zoe</td>\n      <td>Drake Doremus</td>\n      <td>Ewan McGregor, Léa Seydoux, Theo James, Mirand...</td>\n      <td>unknown</td>\n      <td>NaN</td>\n      <td>2018</td>\n      <td>R</td>\n      <td>104 min</td>\n      <td>Science Fiction</td>\n      <td>ZOE tells a tale of forbidden love between an ...</td>\n    </tr>\n    <tr>\n      <th>1</th>\n      <td>s21</td>\n      <td>TV Show</td>\n      <td>Zoboomafoo</td>\n      <td>Unknown.</td>\n      <td>Martin Kratt, Chris Kratt, and the lemur puppe...</td>\n      <td>United States</td>\n      <td>NaN</td>\n      <td>2001</td>\n      <td>TV-Y</td>\n      <td>1 Season</td>\n      <td>Kids</td>\n      <td>Chris and Martin Kratt bring their enthusiasm ...</td>\n    </tr>\n    <tr>\n      <th>2</th>\n      <td>s26</td>\n      <td>Movie</td>\n      <td>Zambezi: Force of Life</td>\n      <td>Dr. Rudolf Lammers</td>\n      <td>Unknown.</td>\n      <td>Unknown.</td>\n      <td>NaN</td>\n      <td>2005</td>\n      <td>ALL</td>\n      <td>50 min</td>\n      <td>Documentary</td>\n      <td>The Zambezi river is the fourth-longest river ...</td>\n    </tr>\n    <tr>\n      <th>3</th>\n      <td>s34</td>\n      <td>Movie</td>\n      <td>Young Love (at the Sun Factory)</td>\n      <td>Unknown.</td>\n      <td>unknown</td>\n      <td>Unknown.</td>\n      <td>NaN</td>\n      <td>2007</td>\n      <td>NR</td>\n      <td>36 min</td>\n      <td>Music Videos and Concerts</td>\n      <td>Young Love celebrates the release of \"Too Youn...</td>\n    </tr>\n    <tr>\n      <th>4</th>\n      <td>s35</td>\n      <td>Movie</td>\n      <td>Young Love (at Bowery Ballroom)</td>\n      <td>Unknown.</td>\n      <td>Unknown.</td>\n      <td>Unknown.</td>\n      <td>NaN</td>\n      <td>2007</td>\n      <td>NR</td>\n      <td>37 min</td>\n      <td>Music Videos and Concerts</td>\n      <td>Young Love returns to Baeble's silver screen w...</td>\n    </tr>\n  </tbody>\n</table>\n</div>"
     },
     "execution_count": 38,
     "metadata": {},
     "output_type": "execute_result"
    }
   ],
   "source": [
    "data.country = data.apply(lambda x: set_info(\"country\", x.title, x.country), axis=1)\n",
    "data"
   ],
   "metadata": {
    "collapsed": false,
    "ExecuteTime": {
     "end_time": "2023-11-13T11:28:20.157880Z",
     "start_time": "2023-11-13T11:27:01.303796Z"
    }
   },
   "id": "14bb19db7e14a97b"
  }
 ],
 "metadata": {
  "kernelspec": {
   "display_name": "Python 3",
   "language": "python",
   "name": "python3"
  },
  "language_info": {
   "codemirror_mode": {
    "name": "ipython",
    "version": 2
   },
   "file_extension": ".py",
   "mimetype": "text/x-python",
   "name": "python",
   "nbconvert_exporter": "python",
   "pygments_lexer": "ipython2",
   "version": "2.7.6"
  }
 },
 "nbformat": 4,
 "nbformat_minor": 5
}
