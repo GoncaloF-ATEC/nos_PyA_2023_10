{
 "cells": [
  {
   "cell_type": "code",
   "execution_count": 28,
   "id": "initial_id",
   "metadata": {
    "collapsed": true,
    "ExecuteTime": {
     "end_time": "2023-11-10T11:30:32.090912Z",
     "start_time": "2023-11-10T11:30:32.041818Z"
    }
   },
   "outputs": [],
   "source": [
    "import pandas as pd \n",
    "from sqlite3 import  connect"
   ]
  },
  {
   "cell_type": "code",
   "execution_count": 17,
   "outputs": [
    {
     "data": {
      "text/plain": "'\\nconn = mysql.connector.connect(\\n    host=\"localhost\",\\n    user=\"yourusername\",\\n    password=\"yourpassword\",\\n    port=9999\\n)\\n'"
     },
     "execution_count": 17,
     "metadata": {},
     "output_type": "execute_result"
    }
   ],
   "source": [
    "'''\n",
    "conn = mysql.connector.connect(\n",
    "    host=\"localhost\",\n",
    "    user=\"yourusername\",\n",
    "    password=\"yourpassword\",\n",
    "    port=9999\n",
    ")\n",
    "'''"
   ],
   "metadata": {
    "collapsed": false,
    "ExecuteTime": {
     "end_time": "2023-11-10T10:17:18.833461Z",
     "start_time": "2023-11-10T10:17:18.595199Z"
    }
   },
   "id": "b1baab16f817d053"
  },
  {
   "cell_type": "markdown",
   "source": [
    "# Criar tabelas na DB"
   ],
   "metadata": {
    "collapsed": false
   },
   "id": "709a65cd0b7ffd48"
  },
  {
   "cell_type": "code",
   "execution_count": 21,
   "outputs": [],
   "source": [
    "conn = connect(\"teste.db\")\n",
    "cur = conn.cursor()"
   ],
   "metadata": {
    "collapsed": false,
    "ExecuteTime": {
     "end_time": "2023-11-10T10:18:00.138900Z",
     "start_time": "2023-11-10T10:18:00.131407Z"
    }
   },
   "id": "2afd2b9511cc57fb"
  },
  {
   "cell_type": "code",
   "execution_count": 18,
   "outputs": [
    {
     "data": {
      "text/plain": "<sqlite3.Cursor at 0x7fd1a866e810>"
     },
     "execution_count": 18,
     "metadata": {},
     "output_type": "execute_result"
    }
   ],
   "source": [
    "cur.execute('''CREATE TABLE IF NOT EXISTS STUDENT\n",
    "(student_id INTEGER PRIMARY KEY,\n",
    "student_name TEXT,\n",
    "course TEXT,\n",
    "marks INTEGER)\n",
    "''')"
   ],
   "metadata": {
    "collapsed": false,
    "ExecuteTime": {
     "end_time": "2023-11-10T10:17:18.833838Z",
     "start_time": "2023-11-10T10:17:18.666377Z"
    }
   },
   "id": "5f1ebd5a62fd27b1"
  },
  {
   "cell_type": "markdown",
   "source": [
    "# Add dados"
   ],
   "metadata": {
    "collapsed": false
   },
   "id": "196d3a02f17259ee"
  },
  {
   "cell_type": "code",
   "execution_count": 19,
   "outputs": [
    {
     "ename": "IntegrityError",
     "evalue": "UNIQUE constraint failed: STUDENT.student_id",
     "output_type": "error",
     "traceback": [
      "\u001B[0;31m---------------------------------------------------------------------------\u001B[0m",
      "\u001B[0;31mIntegrityError\u001B[0m                            Traceback (most recent call last)",
      "Cell \u001B[0;32mIn[19], line 1\u001B[0m\n\u001B[0;32m----> 1\u001B[0m \u001B[43mcur\u001B[49m\u001B[38;5;241;43m.\u001B[39;49m\u001B[43mexecute\u001B[49m\u001B[43m(\u001B[49m\u001B[38;5;124;43m'''\u001B[39;49m\u001B[38;5;124;43mINSERT INTO STUDENT (student_id, student_name, course, marks)\u001B[39;49m\n\u001B[1;32m      2\u001B[0m \u001B[38;5;124;43mVALUES (1, \u001B[39;49m\u001B[38;5;124;43m'\u001B[39;49m\u001B[38;5;124;43mMark\u001B[39;49m\u001B[38;5;124;43m'\u001B[39;49m\u001B[38;5;124;43m, \u001B[39;49m\u001B[38;5;124;43m'\u001B[39;49m\u001B[38;5;124;43mPython\u001B[39;49m\u001B[38;5;124;43m'\u001B[39;49m\u001B[38;5;124;43m, 65),\u001B[39;49m\n\u001B[1;32m      3\u001B[0m \u001B[38;5;124;43m(2, \u001B[39;49m\u001B[38;5;124;43m'\u001B[39;49m\u001B[38;5;124;43mAlice\u001B[39;49m\u001B[38;5;124;43m'\u001B[39;49m\u001B[38;5;124;43m, \u001B[39;49m\u001B[38;5;124;43m'\u001B[39;49m\u001B[38;5;124;43mMaths\u001B[39;49m\u001B[38;5;124;43m'\u001B[39;49m\u001B[38;5;124;43m, 55),\u001B[39;49m\n\u001B[1;32m      4\u001B[0m \u001B[38;5;124;43m(3, \u001B[39;49m\u001B[38;5;124;43m'\u001B[39;49m\u001B[38;5;124;43mBob\u001B[39;49m\u001B[38;5;124;43m'\u001B[39;49m\u001B[38;5;124;43m, \u001B[39;49m\u001B[38;5;124;43m'\u001B[39;49m\u001B[38;5;124;43mLinux\u001B[39;49m\u001B[38;5;124;43m'\u001B[39;49m\u001B[38;5;124;43m, 68),\u001B[39;49m\n\u001B[1;32m      5\u001B[0m \u001B[38;5;124;43m(4, \u001B[39;49m\u001B[38;5;124;43m'\u001B[39;49m\u001B[38;5;124;43mEmily\u001B[39;49m\u001B[38;5;124;43m'\u001B[39;49m\u001B[38;5;124;43m, \u001B[39;49m\u001B[38;5;124;43m'\u001B[39;49m\u001B[38;5;124;43mEnglish\u001B[39;49m\u001B[38;5;124;43m'\u001B[39;49m\u001B[38;5;124;43m, 50)\u001B[39;49m\n\u001B[1;32m      6\u001B[0m \u001B[38;5;124;43m'''\u001B[39;49m\u001B[43m)\u001B[49m\n\u001B[1;32m      8\u001B[0m conn\u001B[38;5;241m.\u001B[39mcommit()\n",
      "\u001B[0;31mIntegrityError\u001B[0m: UNIQUE constraint failed: STUDENT.student_id"
     ]
    }
   ],
   "source": [
    "cur.execute('''INSERT INTO STUDENT (student_id, student_name, course, marks)\n",
    "VALUES (1, 'Mark', 'Python', 65),\n",
    "(2, 'Alice', 'Maths', 55),\n",
    "(3, 'Bob', 'Linux', 68),\n",
    "(4, 'Emily', 'English', 50)\n",
    "''')\n",
    "\n",
    "conn.commit()"
   ],
   "metadata": {
    "collapsed": false,
    "ExecuteTime": {
     "end_time": "2023-11-10T10:17:19.678139Z",
     "start_time": "2023-11-10T10:17:18.726309Z"
    }
   },
   "id": "31d722f43a7e0354"
  },
  {
   "cell_type": "markdown",
   "source": [
    "# Ler dados "
   ],
   "metadata": {
    "collapsed": false
   },
   "id": "ff8702cc371f2a7c"
  },
  {
   "cell_type": "code",
   "execution_count": 22,
   "outputs": [
    {
     "data": {
      "text/plain": "   student_id student_name   course  marks\n0           1         Mark   Python     65\n1           2        Alice    Maths     55\n2           3          Bob    Linux     68\n3           4        Emily  English     50",
      "text/html": "<div>\n<style scoped>\n    .dataframe tbody tr th:only-of-type {\n        vertical-align: middle;\n    }\n\n    .dataframe tbody tr th {\n        vertical-align: top;\n    }\n\n    .dataframe thead th {\n        text-align: right;\n    }\n</style>\n<table border=\"1\" class=\"dataframe\">\n  <thead>\n    <tr style=\"text-align: right;\">\n      <th></th>\n      <th>student_id</th>\n      <th>student_name</th>\n      <th>course</th>\n      <th>marks</th>\n    </tr>\n  </thead>\n  <tbody>\n    <tr>\n      <th>0</th>\n      <td>1</td>\n      <td>Mark</td>\n      <td>Python</td>\n      <td>65</td>\n    </tr>\n    <tr>\n      <th>1</th>\n      <td>2</td>\n      <td>Alice</td>\n      <td>Maths</td>\n      <td>55</td>\n    </tr>\n    <tr>\n      <th>2</th>\n      <td>3</td>\n      <td>Bob</td>\n      <td>Linux</td>\n      <td>68</td>\n    </tr>\n    <tr>\n      <th>3</th>\n      <td>4</td>\n      <td>Emily</td>\n      <td>English</td>\n      <td>50</td>\n    </tr>\n  </tbody>\n</table>\n</div>"
     },
     "execution_count": 22,
     "metadata": {},
     "output_type": "execute_result"
    }
   ],
   "source": [
    "sql_query = pd.read_sql('SELECT * FROM STUDENT', conn)\n",
    "\n",
    "sql_query"
   ],
   "metadata": {
    "collapsed": false,
    "ExecuteTime": {
     "end_time": "2023-11-10T10:18:13.185438Z",
     "start_time": "2023-11-10T10:18:13.175269Z"
    }
   },
   "id": "c06e1bfc9ee8fb81"
  },
  {
   "cell_type": "code",
   "execution_count": 23,
   "outputs": [
    {
     "data": {
      "text/plain": "   student_id student_name   course  marks\n0           1         Mark   Python     65\n1           2        Alice    Maths     55\n2           3          Bob    Linux     68\n3           4        Emily  English     50",
      "text/html": "<div>\n<style scoped>\n    .dataframe tbody tr th:only-of-type {\n        vertical-align: middle;\n    }\n\n    .dataframe tbody tr th {\n        vertical-align: top;\n    }\n\n    .dataframe thead th {\n        text-align: right;\n    }\n</style>\n<table border=\"1\" class=\"dataframe\">\n  <thead>\n    <tr style=\"text-align: right;\">\n      <th></th>\n      <th>student_id</th>\n      <th>student_name</th>\n      <th>course</th>\n      <th>marks</th>\n    </tr>\n  </thead>\n  <tbody>\n    <tr>\n      <th>0</th>\n      <td>1</td>\n      <td>Mark</td>\n      <td>Python</td>\n      <td>65</td>\n    </tr>\n    <tr>\n      <th>1</th>\n      <td>2</td>\n      <td>Alice</td>\n      <td>Maths</td>\n      <td>55</td>\n    </tr>\n    <tr>\n      <th>2</th>\n      <td>3</td>\n      <td>Bob</td>\n      <td>Linux</td>\n      <td>68</td>\n    </tr>\n    <tr>\n      <th>3</th>\n      <td>4</td>\n      <td>Emily</td>\n      <td>English</td>\n      <td>50</td>\n    </tr>\n  </tbody>\n</table>\n</div>"
     },
     "execution_count": 23,
     "metadata": {},
     "output_type": "execute_result"
    }
   ],
   "source": [
    "df = pd.DataFrame(sql_query)\n",
    "df"
   ],
   "metadata": {
    "collapsed": false,
    "ExecuteTime": {
     "end_time": "2023-11-10T10:18:16.126970Z",
     "start_time": "2023-11-10T10:18:16.121121Z"
    }
   },
   "id": "4c40617cfbd34b1c"
  },
  {
   "cell_type": "code",
   "execution_count": 24,
   "outputs": [
    {
     "data": {
      "text/plain": "           student_name   course  marks\nstudent_id                             \n1                  Mark   Python     65\n2                 Alice    Maths     55\n3                   Bob    Linux     68\n4                 Emily  English     50",
      "text/html": "<div>\n<style scoped>\n    .dataframe tbody tr th:only-of-type {\n        vertical-align: middle;\n    }\n\n    .dataframe tbody tr th {\n        vertical-align: top;\n    }\n\n    .dataframe thead th {\n        text-align: right;\n    }\n</style>\n<table border=\"1\" class=\"dataframe\">\n  <thead>\n    <tr style=\"text-align: right;\">\n      <th></th>\n      <th>student_name</th>\n      <th>course</th>\n      <th>marks</th>\n    </tr>\n    <tr>\n      <th>student_id</th>\n      <th></th>\n      <th></th>\n      <th></th>\n    </tr>\n  </thead>\n  <tbody>\n    <tr>\n      <th>1</th>\n      <td>Mark</td>\n      <td>Python</td>\n      <td>65</td>\n    </tr>\n    <tr>\n      <th>2</th>\n      <td>Alice</td>\n      <td>Maths</td>\n      <td>55</td>\n    </tr>\n    <tr>\n      <th>3</th>\n      <td>Bob</td>\n      <td>Linux</td>\n      <td>68</td>\n    </tr>\n    <tr>\n      <th>4</th>\n      <td>Emily</td>\n      <td>English</td>\n      <td>50</td>\n    </tr>\n  </tbody>\n</table>\n</div>"
     },
     "execution_count": 24,
     "metadata": {},
     "output_type": "execute_result"
    }
   ],
   "source": [
    "sql_query = pd.read_sql('SELECT * FROM STUDENT', conn, index_col=\"student_id\")\n",
    "\n",
    "sql_query"
   ],
   "metadata": {
    "collapsed": false,
    "ExecuteTime": {
     "end_time": "2023-11-10T10:18:19.389644Z",
     "start_time": "2023-11-10T10:18:19.379844Z"
    }
   },
   "id": "1dc669a6d807fe0d"
  },
  {
   "cell_type": "code",
   "execution_count": 25,
   "outputs": [
    {
     "data": {
      "text/plain": "  student_name  marks\n0         Mark     65\n1        Alice     55\n2          Bob     68\n3        Emily     50",
      "text/html": "<div>\n<style scoped>\n    .dataframe tbody tr th:only-of-type {\n        vertical-align: middle;\n    }\n\n    .dataframe tbody tr th {\n        vertical-align: top;\n    }\n\n    .dataframe thead th {\n        text-align: right;\n    }\n</style>\n<table border=\"1\" class=\"dataframe\">\n  <thead>\n    <tr style=\"text-align: right;\">\n      <th></th>\n      <th>student_name</th>\n      <th>marks</th>\n    </tr>\n  </thead>\n  <tbody>\n    <tr>\n      <th>0</th>\n      <td>Mark</td>\n      <td>65</td>\n    </tr>\n    <tr>\n      <th>1</th>\n      <td>Alice</td>\n      <td>55</td>\n    </tr>\n    <tr>\n      <th>2</th>\n      <td>Bob</td>\n      <td>68</td>\n    </tr>\n    <tr>\n      <th>3</th>\n      <td>Emily</td>\n      <td>50</td>\n    </tr>\n  </tbody>\n</table>\n</div>"
     },
     "execution_count": 25,
     "metadata": {},
     "output_type": "execute_result"
    }
   ],
   "source": [
    "sql_query = pd.read_sql('SELECT * FROM STUDENT', conn)\n",
    "\n",
    "my_df = pd.DataFrame(sql_query, columns=[\"student_name\", \"marks\"])\n",
    "my_df"
   ],
   "metadata": {
    "collapsed": false,
    "ExecuteTime": {
     "end_time": "2023-11-10T10:18:22.361140Z",
     "start_time": "2023-11-10T10:18:22.352612Z"
    }
   },
   "id": "8d7a067a140ef14a"
  },
  {
   "cell_type": "code",
   "execution_count": 26,
   "outputs": [
    {
     "data": {
      "text/plain": "   marks   course\n0     65   Python\n1     55    Maths\n2     68    Linux\n3     50  English",
      "text/html": "<div>\n<style scoped>\n    .dataframe tbody tr th:only-of-type {\n        vertical-align: middle;\n    }\n\n    .dataframe tbody tr th {\n        vertical-align: top;\n    }\n\n    .dataframe thead th {\n        text-align: right;\n    }\n</style>\n<table border=\"1\" class=\"dataframe\">\n  <thead>\n    <tr style=\"text-align: right;\">\n      <th></th>\n      <th>marks</th>\n      <th>course</th>\n    </tr>\n  </thead>\n  <tbody>\n    <tr>\n      <th>0</th>\n      <td>65</td>\n      <td>Python</td>\n    </tr>\n    <tr>\n      <th>1</th>\n      <td>55</td>\n      <td>Maths</td>\n    </tr>\n    <tr>\n      <th>2</th>\n      <td>68</td>\n      <td>Linux</td>\n    </tr>\n    <tr>\n      <th>3</th>\n      <td>50</td>\n      <td>English</td>\n    </tr>\n  </tbody>\n</table>\n</div>"
     },
     "execution_count": 26,
     "metadata": {},
     "output_type": "execute_result"
    }
   ],
   "source": [
    "my_df = pd.DataFrame(sql_query, columns=[\"marks\", \"course\"])\n",
    "my_df"
   ],
   "metadata": {
    "collapsed": false,
    "ExecuteTime": {
     "end_time": "2023-11-10T10:18:25.799633Z",
     "start_time": "2023-11-10T10:18:25.790309Z"
    }
   },
   "id": "32c1a1ad6d52c260"
  },
  {
   "cell_type": "code",
   "execution_count": 26,
   "outputs": [],
   "source": [],
   "metadata": {
    "collapsed": false,
    "ExecuteTime": {
     "end_time": "2023-11-10T10:18:32.026553Z",
     "start_time": "2023-11-10T10:18:32.018395Z"
    }
   },
   "id": "ea3013b2c1c6122a"
  },
  {
   "cell_type": "code",
   "execution_count": 27,
   "outputs": [
    {
     "data": {
      "text/plain": "  student_name  marks\n0         Mark     65\n1        Alice     55\n2          Bob     68\n3        Emily     50",
      "text/html": "<div>\n<style scoped>\n    .dataframe tbody tr th:only-of-type {\n        vertical-align: middle;\n    }\n\n    .dataframe tbody tr th {\n        vertical-align: top;\n    }\n\n    .dataframe thead th {\n        text-align: right;\n    }\n</style>\n<table border=\"1\" class=\"dataframe\">\n  <thead>\n    <tr style=\"text-align: right;\">\n      <th></th>\n      <th>student_name</th>\n      <th>marks</th>\n    </tr>\n  </thead>\n  <tbody>\n    <tr>\n      <th>0</th>\n      <td>Mark</td>\n      <td>65</td>\n    </tr>\n    <tr>\n      <th>1</th>\n      <td>Alice</td>\n      <td>55</td>\n    </tr>\n    <tr>\n      <th>2</th>\n      <td>Bob</td>\n      <td>68</td>\n    </tr>\n    <tr>\n      <th>3</th>\n      <td>Emily</td>\n      <td>50</td>\n    </tr>\n  </tbody>\n</table>\n</div>"
     },
     "execution_count": 27,
     "metadata": {},
     "output_type": "execute_result"
    }
   ],
   "source": [
    "sql_query = pd.read_sql('SELECT student_name,marks FROM STUDENT', conn)\n",
    "\n",
    "sql_query"
   ],
   "metadata": {
    "collapsed": false,
    "ExecuteTime": {
     "end_time": "2023-11-10T10:18:34.231637Z",
     "start_time": "2023-11-10T10:18:34.208225Z"
    }
   },
   "id": "f0eb4807a14b818d"
  },
  {
   "cell_type": "markdown",
   "source": [
    "# loc vs iloc"
   ],
   "metadata": {
    "collapsed": false
   },
   "id": "b482e1201cc8b05e"
  },
  {
   "cell_type": "code",
   "execution_count": 39,
   "outputs": [
    {
     "data": {
      "text/plain": "           UID iso2 iso3  code3     FIPS      Admin2 Province_State  \\\n0            4   AF  AFG    4.0      NaN         NaN            NaN   \n1            8   AL  ALB    8.0      NaN         NaN            NaN   \n2           10   AQ  ATA   10.0      NaN         NaN            NaN   \n3           12   DZ  DZA   12.0      NaN         NaN            NaN   \n4           20   AD  AND   20.0      NaN         NaN            NaN   \n...        ...  ...  ...    ...      ...         ...            ...   \n4316  84056037   US  USA  840.0  56037.0  Sweetwater        Wyoming   \n4317  84056039   US  USA  840.0  56039.0       Teton        Wyoming   \n4318  84056041   US  USA  840.0  56041.0       Uinta        Wyoming   \n4319  84056043   US  USA  840.0  56043.0    Washakie        Wyoming   \n4320  84056045   US  USA  840.0  56045.0      Weston        Wyoming   \n\n     Country_Region        Lat       Long_             Combined_Key  \\\n0       Afghanistan  33.939110   67.709953              Afghanistan   \n1           Albania  41.153300   20.168300                  Albania   \n2        Antarctica -71.949900   23.347000               Antarctica   \n3           Algeria  28.033900    1.659600                  Algeria   \n4           Andorra  42.506300    1.521800                  Andorra   \n...             ...        ...         ...                      ...   \n4316             US  41.659439 -108.882788  Sweetwater, Wyoming, US   \n4317             US  43.935225 -110.589080       Teton, Wyoming, US   \n4318             US  41.287818 -110.547578       Uinta, Wyoming, US   \n4319             US  43.904516 -107.680187    Washakie, Wyoming, US   \n4320             US  43.839612 -104.567488      Weston, Wyoming, US   \n\n      Population  \n0     38928341.0  \n1      2877800.0  \n2            NaN  \n3     43851043.0  \n4        77265.0  \n...          ...  \n4316     42343.0  \n4317     23464.0  \n4318     20226.0  \n4319      7805.0  \n4320      6927.0  \n\n[4321 rows x 12 columns]",
      "text/html": "<div>\n<style scoped>\n    .dataframe tbody tr th:only-of-type {\n        vertical-align: middle;\n    }\n\n    .dataframe tbody tr th {\n        vertical-align: top;\n    }\n\n    .dataframe thead th {\n        text-align: right;\n    }\n</style>\n<table border=\"1\" class=\"dataframe\">\n  <thead>\n    <tr style=\"text-align: right;\">\n      <th></th>\n      <th>UID</th>\n      <th>iso2</th>\n      <th>iso3</th>\n      <th>code3</th>\n      <th>FIPS</th>\n      <th>Admin2</th>\n      <th>Province_State</th>\n      <th>Country_Region</th>\n      <th>Lat</th>\n      <th>Long_</th>\n      <th>Combined_Key</th>\n      <th>Population</th>\n    </tr>\n  </thead>\n  <tbody>\n    <tr>\n      <th>0</th>\n      <td>4</td>\n      <td>AF</td>\n      <td>AFG</td>\n      <td>4.0</td>\n      <td>NaN</td>\n      <td>NaN</td>\n      <td>NaN</td>\n      <td>Afghanistan</td>\n      <td>33.939110</td>\n      <td>67.709953</td>\n      <td>Afghanistan</td>\n      <td>38928341.0</td>\n    </tr>\n    <tr>\n      <th>1</th>\n      <td>8</td>\n      <td>AL</td>\n      <td>ALB</td>\n      <td>8.0</td>\n      <td>NaN</td>\n      <td>NaN</td>\n      <td>NaN</td>\n      <td>Albania</td>\n      <td>41.153300</td>\n      <td>20.168300</td>\n      <td>Albania</td>\n      <td>2877800.0</td>\n    </tr>\n    <tr>\n      <th>2</th>\n      <td>10</td>\n      <td>AQ</td>\n      <td>ATA</td>\n      <td>10.0</td>\n      <td>NaN</td>\n      <td>NaN</td>\n      <td>NaN</td>\n      <td>Antarctica</td>\n      <td>-71.949900</td>\n      <td>23.347000</td>\n      <td>Antarctica</td>\n      <td>NaN</td>\n    </tr>\n    <tr>\n      <th>3</th>\n      <td>12</td>\n      <td>DZ</td>\n      <td>DZA</td>\n      <td>12.0</td>\n      <td>NaN</td>\n      <td>NaN</td>\n      <td>NaN</td>\n      <td>Algeria</td>\n      <td>28.033900</td>\n      <td>1.659600</td>\n      <td>Algeria</td>\n      <td>43851043.0</td>\n    </tr>\n    <tr>\n      <th>4</th>\n      <td>20</td>\n      <td>AD</td>\n      <td>AND</td>\n      <td>20.0</td>\n      <td>NaN</td>\n      <td>NaN</td>\n      <td>NaN</td>\n      <td>Andorra</td>\n      <td>42.506300</td>\n      <td>1.521800</td>\n      <td>Andorra</td>\n      <td>77265.0</td>\n    </tr>\n    <tr>\n      <th>...</th>\n      <td>...</td>\n      <td>...</td>\n      <td>...</td>\n      <td>...</td>\n      <td>...</td>\n      <td>...</td>\n      <td>...</td>\n      <td>...</td>\n      <td>...</td>\n      <td>...</td>\n      <td>...</td>\n      <td>...</td>\n    </tr>\n    <tr>\n      <th>4316</th>\n      <td>84056037</td>\n      <td>US</td>\n      <td>USA</td>\n      <td>840.0</td>\n      <td>56037.0</td>\n      <td>Sweetwater</td>\n      <td>Wyoming</td>\n      <td>US</td>\n      <td>41.659439</td>\n      <td>-108.882788</td>\n      <td>Sweetwater, Wyoming, US</td>\n      <td>42343.0</td>\n    </tr>\n    <tr>\n      <th>4317</th>\n      <td>84056039</td>\n      <td>US</td>\n      <td>USA</td>\n      <td>840.0</td>\n      <td>56039.0</td>\n      <td>Teton</td>\n      <td>Wyoming</td>\n      <td>US</td>\n      <td>43.935225</td>\n      <td>-110.589080</td>\n      <td>Teton, Wyoming, US</td>\n      <td>23464.0</td>\n    </tr>\n    <tr>\n      <th>4318</th>\n      <td>84056041</td>\n      <td>US</td>\n      <td>USA</td>\n      <td>840.0</td>\n      <td>56041.0</td>\n      <td>Uinta</td>\n      <td>Wyoming</td>\n      <td>US</td>\n      <td>41.287818</td>\n      <td>-110.547578</td>\n      <td>Uinta, Wyoming, US</td>\n      <td>20226.0</td>\n    </tr>\n    <tr>\n      <th>4319</th>\n      <td>84056043</td>\n      <td>US</td>\n      <td>USA</td>\n      <td>840.0</td>\n      <td>56043.0</td>\n      <td>Washakie</td>\n      <td>Wyoming</td>\n      <td>US</td>\n      <td>43.904516</td>\n      <td>-107.680187</td>\n      <td>Washakie, Wyoming, US</td>\n      <td>7805.0</td>\n    </tr>\n    <tr>\n      <th>4320</th>\n      <td>84056045</td>\n      <td>US</td>\n      <td>USA</td>\n      <td>840.0</td>\n      <td>56045.0</td>\n      <td>Weston</td>\n      <td>Wyoming</td>\n      <td>US</td>\n      <td>43.839612</td>\n      <td>-104.567488</td>\n      <td>Weston, Wyoming, US</td>\n      <td>6927.0</td>\n    </tr>\n  </tbody>\n</table>\n<p>4321 rows × 12 columns</p>\n</div>"
     },
     "execution_count": 39,
     "metadata": {},
     "output_type": "execute_result"
    }
   ],
   "source": [
    "df = pd.read_csv(\"UID_ISO_FIPS_LookUp_Table.csv\")\n",
    "df"
   ],
   "metadata": {
    "collapsed": false,
    "ExecuteTime": {
     "end_time": "2023-11-10T11:36:35.996463Z",
     "start_time": "2023-11-10T11:36:35.954445Z"
    }
   },
   "id": "f1e2c6b93e929d73"
  },
  {
   "cell_type": "code",
   "execution_count": 32,
   "outputs": [
    {
     "data": {
      "text/plain": "   UID iso2 iso3  code3  FIPS Admin2 Province_State Country_Region      Lat  \\\n1    8   AL  ALB    8.0   NaN    NaN            NaN        Albania  41.1533   \n2   10   AQ  ATA   10.0   NaN    NaN            NaN     Antarctica -71.9499   \n3   12   DZ  DZA   12.0   NaN    NaN            NaN        Algeria  28.0339   \n4   20   AD  AND   20.0   NaN    NaN            NaN        Andorra  42.5063   \n5   24   AO  AGO   24.0   NaN    NaN            NaN         Angola -11.2027   \n\n     Long_ Combined_Key  Population  \n1  20.1683      Albania   2877800.0  \n2  23.3470   Antarctica         NaN  \n3   1.6596      Algeria  43851043.0  \n4   1.5218      Andorra     77265.0  \n5  17.8739       Angola  32866268.0  ",
      "text/html": "<div>\n<style scoped>\n    .dataframe tbody tr th:only-of-type {\n        vertical-align: middle;\n    }\n\n    .dataframe tbody tr th {\n        vertical-align: top;\n    }\n\n    .dataframe thead th {\n        text-align: right;\n    }\n</style>\n<table border=\"1\" class=\"dataframe\">\n  <thead>\n    <tr style=\"text-align: right;\">\n      <th></th>\n      <th>UID</th>\n      <th>iso2</th>\n      <th>iso3</th>\n      <th>code3</th>\n      <th>FIPS</th>\n      <th>Admin2</th>\n      <th>Province_State</th>\n      <th>Country_Region</th>\n      <th>Lat</th>\n      <th>Long_</th>\n      <th>Combined_Key</th>\n      <th>Population</th>\n    </tr>\n  </thead>\n  <tbody>\n    <tr>\n      <th>1</th>\n      <td>8</td>\n      <td>AL</td>\n      <td>ALB</td>\n      <td>8.0</td>\n      <td>NaN</td>\n      <td>NaN</td>\n      <td>NaN</td>\n      <td>Albania</td>\n      <td>41.1533</td>\n      <td>20.1683</td>\n      <td>Albania</td>\n      <td>2877800.0</td>\n    </tr>\n    <tr>\n      <th>2</th>\n      <td>10</td>\n      <td>AQ</td>\n      <td>ATA</td>\n      <td>10.0</td>\n      <td>NaN</td>\n      <td>NaN</td>\n      <td>NaN</td>\n      <td>Antarctica</td>\n      <td>-71.9499</td>\n      <td>23.3470</td>\n      <td>Antarctica</td>\n      <td>NaN</td>\n    </tr>\n    <tr>\n      <th>3</th>\n      <td>12</td>\n      <td>DZ</td>\n      <td>DZA</td>\n      <td>12.0</td>\n      <td>NaN</td>\n      <td>NaN</td>\n      <td>NaN</td>\n      <td>Algeria</td>\n      <td>28.0339</td>\n      <td>1.6596</td>\n      <td>Algeria</td>\n      <td>43851043.0</td>\n    </tr>\n    <tr>\n      <th>4</th>\n      <td>20</td>\n      <td>AD</td>\n      <td>AND</td>\n      <td>20.0</td>\n      <td>NaN</td>\n      <td>NaN</td>\n      <td>NaN</td>\n      <td>Andorra</td>\n      <td>42.5063</td>\n      <td>1.5218</td>\n      <td>Andorra</td>\n      <td>77265.0</td>\n    </tr>\n    <tr>\n      <th>5</th>\n      <td>24</td>\n      <td>AO</td>\n      <td>AGO</td>\n      <td>24.0</td>\n      <td>NaN</td>\n      <td>NaN</td>\n      <td>NaN</td>\n      <td>Angola</td>\n      <td>-11.2027</td>\n      <td>17.8739</td>\n      <td>Angola</td>\n      <td>32866268.0</td>\n    </tr>\n  </tbody>\n</table>\n</div>"
     },
     "execution_count": 32,
     "metadata": {},
     "output_type": "execute_result"
    }
   ],
   "source": [
    "df.loc[1:5]"
   ],
   "metadata": {
    "collapsed": false,
    "ExecuteTime": {
     "end_time": "2023-11-10T11:33:07.913418Z",
     "start_time": "2023-11-10T11:33:07.905423Z"
    }
   },
   "id": "f3fe380254a58834"
  },
  {
   "cell_type": "code",
   "execution_count": 35,
   "outputs": [
    {
     "data": {
      "text/plain": "     UID iso2 iso3  code3  FIPS Admin2   Province_State Country_Region  \\\n1      8   AL  ALB    8.0   NaN    NaN              NaN        Albania   \n5     24   AO  AGO   24.0   NaN    NaN              NaN         Angola   \n10    31   AZ  AZE   31.0   NaN    NaN              NaN     Azerbaijan   \n20  5604   BE  BEL   56.0   NaN    NaN  Flemish Brabant        Belgium   \n\n        Lat    Long_              Combined_Key  Population  \n1   41.1533  20.1683                   Albania   2877800.0  \n5  -11.2027  17.8739                    Angola  32866268.0  \n10  40.1431  47.5769                Azerbaijan  10139175.0  \n20  50.9167   4.5833  Flemish Brabant, Belgium   1155843.0  ",
      "text/html": "<div>\n<style scoped>\n    .dataframe tbody tr th:only-of-type {\n        vertical-align: middle;\n    }\n\n    .dataframe tbody tr th {\n        vertical-align: top;\n    }\n\n    .dataframe thead th {\n        text-align: right;\n    }\n</style>\n<table border=\"1\" class=\"dataframe\">\n  <thead>\n    <tr style=\"text-align: right;\">\n      <th></th>\n      <th>UID</th>\n      <th>iso2</th>\n      <th>iso3</th>\n      <th>code3</th>\n      <th>FIPS</th>\n      <th>Admin2</th>\n      <th>Province_State</th>\n      <th>Country_Region</th>\n      <th>Lat</th>\n      <th>Long_</th>\n      <th>Combined_Key</th>\n      <th>Population</th>\n    </tr>\n  </thead>\n  <tbody>\n    <tr>\n      <th>1</th>\n      <td>8</td>\n      <td>AL</td>\n      <td>ALB</td>\n      <td>8.0</td>\n      <td>NaN</td>\n      <td>NaN</td>\n      <td>NaN</td>\n      <td>Albania</td>\n      <td>41.1533</td>\n      <td>20.1683</td>\n      <td>Albania</td>\n      <td>2877800.0</td>\n    </tr>\n    <tr>\n      <th>5</th>\n      <td>24</td>\n      <td>AO</td>\n      <td>AGO</td>\n      <td>24.0</td>\n      <td>NaN</td>\n      <td>NaN</td>\n      <td>NaN</td>\n      <td>Angola</td>\n      <td>-11.2027</td>\n      <td>17.8739</td>\n      <td>Angola</td>\n      <td>32866268.0</td>\n    </tr>\n    <tr>\n      <th>10</th>\n      <td>31</td>\n      <td>AZ</td>\n      <td>AZE</td>\n      <td>31.0</td>\n      <td>NaN</td>\n      <td>NaN</td>\n      <td>NaN</td>\n      <td>Azerbaijan</td>\n      <td>40.1431</td>\n      <td>47.5769</td>\n      <td>Azerbaijan</td>\n      <td>10139175.0</td>\n    </tr>\n    <tr>\n      <th>20</th>\n      <td>5604</td>\n      <td>BE</td>\n      <td>BEL</td>\n      <td>56.0</td>\n      <td>NaN</td>\n      <td>NaN</td>\n      <td>Flemish Brabant</td>\n      <td>Belgium</td>\n      <td>50.9167</td>\n      <td>4.5833</td>\n      <td>Flemish Brabant, Belgium</td>\n      <td>1155843.0</td>\n    </tr>\n  </tbody>\n</table>\n</div>"
     },
     "execution_count": 35,
     "metadata": {},
     "output_type": "execute_result"
    }
   ],
   "source": [
    "df.iloc[[1,5,10,20]]"
   ],
   "metadata": {
    "collapsed": false,
    "ExecuteTime": {
     "end_time": "2023-11-10T11:34:25.497996Z",
     "start_time": "2023-11-10T11:34:25.381681Z"
    }
   },
   "id": "469d91dcc774ae1"
  },
  {
   "cell_type": "code",
   "execution_count": 40,
   "outputs": [
    {
     "data": {
      "text/plain": "           UID iso3  code3     FIPS      Admin2 Province_State Country_Region  \\\niso2                                                                            \nAF           4  AFG    4.0      NaN         NaN            NaN    Afghanistan   \nAL           8  ALB    8.0      NaN         NaN            NaN        Albania   \nAQ          10  ATA   10.0      NaN         NaN            NaN     Antarctica   \nDZ          12  DZA   12.0      NaN         NaN            NaN        Algeria   \nAD          20  AND   20.0      NaN         NaN            NaN        Andorra   \n...        ...  ...    ...      ...         ...            ...            ...   \nUS    84056037  USA  840.0  56037.0  Sweetwater        Wyoming             US   \nUS    84056039  USA  840.0  56039.0       Teton        Wyoming             US   \nUS    84056041  USA  840.0  56041.0       Uinta        Wyoming             US   \nUS    84056043  USA  840.0  56043.0    Washakie        Wyoming             US   \nUS    84056045  USA  840.0  56045.0      Weston        Wyoming             US   \n\n            Lat       Long_             Combined_Key  Population  \niso2                                                              \nAF    33.939110   67.709953              Afghanistan  38928341.0  \nAL    41.153300   20.168300                  Albania   2877800.0  \nAQ   -71.949900   23.347000               Antarctica         NaN  \nDZ    28.033900    1.659600                  Algeria  43851043.0  \nAD    42.506300    1.521800                  Andorra     77265.0  \n...         ...         ...                      ...         ...  \nUS    41.659439 -108.882788  Sweetwater, Wyoming, US     42343.0  \nUS    43.935225 -110.589080       Teton, Wyoming, US     23464.0  \nUS    41.287818 -110.547578       Uinta, Wyoming, US     20226.0  \nUS    43.904516 -107.680187    Washakie, Wyoming, US      7805.0  \nUS    43.839612 -104.567488      Weston, Wyoming, US      6927.0  \n\n[4321 rows x 11 columns]",
      "text/html": "<div>\n<style scoped>\n    .dataframe tbody tr th:only-of-type {\n        vertical-align: middle;\n    }\n\n    .dataframe tbody tr th {\n        vertical-align: top;\n    }\n\n    .dataframe thead th {\n        text-align: right;\n    }\n</style>\n<table border=\"1\" class=\"dataframe\">\n  <thead>\n    <tr style=\"text-align: right;\">\n      <th></th>\n      <th>UID</th>\n      <th>iso3</th>\n      <th>code3</th>\n      <th>FIPS</th>\n      <th>Admin2</th>\n      <th>Province_State</th>\n      <th>Country_Region</th>\n      <th>Lat</th>\n      <th>Long_</th>\n      <th>Combined_Key</th>\n      <th>Population</th>\n    </tr>\n    <tr>\n      <th>iso2</th>\n      <th></th>\n      <th></th>\n      <th></th>\n      <th></th>\n      <th></th>\n      <th></th>\n      <th></th>\n      <th></th>\n      <th></th>\n      <th></th>\n      <th></th>\n    </tr>\n  </thead>\n  <tbody>\n    <tr>\n      <th>AF</th>\n      <td>4</td>\n      <td>AFG</td>\n      <td>4.0</td>\n      <td>NaN</td>\n      <td>NaN</td>\n      <td>NaN</td>\n      <td>Afghanistan</td>\n      <td>33.939110</td>\n      <td>67.709953</td>\n      <td>Afghanistan</td>\n      <td>38928341.0</td>\n    </tr>\n    <tr>\n      <th>AL</th>\n      <td>8</td>\n      <td>ALB</td>\n      <td>8.0</td>\n      <td>NaN</td>\n      <td>NaN</td>\n      <td>NaN</td>\n      <td>Albania</td>\n      <td>41.153300</td>\n      <td>20.168300</td>\n      <td>Albania</td>\n      <td>2877800.0</td>\n    </tr>\n    <tr>\n      <th>AQ</th>\n      <td>10</td>\n      <td>ATA</td>\n      <td>10.0</td>\n      <td>NaN</td>\n      <td>NaN</td>\n      <td>NaN</td>\n      <td>Antarctica</td>\n      <td>-71.949900</td>\n      <td>23.347000</td>\n      <td>Antarctica</td>\n      <td>NaN</td>\n    </tr>\n    <tr>\n      <th>DZ</th>\n      <td>12</td>\n      <td>DZA</td>\n      <td>12.0</td>\n      <td>NaN</td>\n      <td>NaN</td>\n      <td>NaN</td>\n      <td>Algeria</td>\n      <td>28.033900</td>\n      <td>1.659600</td>\n      <td>Algeria</td>\n      <td>43851043.0</td>\n    </tr>\n    <tr>\n      <th>AD</th>\n      <td>20</td>\n      <td>AND</td>\n      <td>20.0</td>\n      <td>NaN</td>\n      <td>NaN</td>\n      <td>NaN</td>\n      <td>Andorra</td>\n      <td>42.506300</td>\n      <td>1.521800</td>\n      <td>Andorra</td>\n      <td>77265.0</td>\n    </tr>\n    <tr>\n      <th>...</th>\n      <td>...</td>\n      <td>...</td>\n      <td>...</td>\n      <td>...</td>\n      <td>...</td>\n      <td>...</td>\n      <td>...</td>\n      <td>...</td>\n      <td>...</td>\n      <td>...</td>\n      <td>...</td>\n    </tr>\n    <tr>\n      <th>US</th>\n      <td>84056037</td>\n      <td>USA</td>\n      <td>840.0</td>\n      <td>56037.0</td>\n      <td>Sweetwater</td>\n      <td>Wyoming</td>\n      <td>US</td>\n      <td>41.659439</td>\n      <td>-108.882788</td>\n      <td>Sweetwater, Wyoming, US</td>\n      <td>42343.0</td>\n    </tr>\n    <tr>\n      <th>US</th>\n      <td>84056039</td>\n      <td>USA</td>\n      <td>840.0</td>\n      <td>56039.0</td>\n      <td>Teton</td>\n      <td>Wyoming</td>\n      <td>US</td>\n      <td>43.935225</td>\n      <td>-110.589080</td>\n      <td>Teton, Wyoming, US</td>\n      <td>23464.0</td>\n    </tr>\n    <tr>\n      <th>US</th>\n      <td>84056041</td>\n      <td>USA</td>\n      <td>840.0</td>\n      <td>56041.0</td>\n      <td>Uinta</td>\n      <td>Wyoming</td>\n      <td>US</td>\n      <td>41.287818</td>\n      <td>-110.547578</td>\n      <td>Uinta, Wyoming, US</td>\n      <td>20226.0</td>\n    </tr>\n    <tr>\n      <th>US</th>\n      <td>84056043</td>\n      <td>USA</td>\n      <td>840.0</td>\n      <td>56043.0</td>\n      <td>Washakie</td>\n      <td>Wyoming</td>\n      <td>US</td>\n      <td>43.904516</td>\n      <td>-107.680187</td>\n      <td>Washakie, Wyoming, US</td>\n      <td>7805.0</td>\n    </tr>\n    <tr>\n      <th>US</th>\n      <td>84056045</td>\n      <td>USA</td>\n      <td>840.0</td>\n      <td>56045.0</td>\n      <td>Weston</td>\n      <td>Wyoming</td>\n      <td>US</td>\n      <td>43.839612</td>\n      <td>-104.567488</td>\n      <td>Weston, Wyoming, US</td>\n      <td>6927.0</td>\n    </tr>\n  </tbody>\n</table>\n<p>4321 rows × 11 columns</p>\n</div>"
     },
     "execution_count": 40,
     "metadata": {},
     "output_type": "execute_result"
    }
   ],
   "source": [
    "new_df = df.set_index(\"iso2\")\n",
    "\n",
    "new_df"
   ],
   "metadata": {
    "collapsed": false,
    "ExecuteTime": {
     "end_time": "2023-11-10T11:36:41.433031Z",
     "start_time": "2023-11-10T11:36:41.425730Z"
    }
   },
   "id": "d2df7f4339c8ee3b"
  },
  {
   "cell_type": "code",
   "execution_count": 41,
   "outputs": [
    {
     "data": {
      "text/plain": "           UID iso3  code3     FIPS      Admin2 Province_State Country_Region  \\\niso2                                                                            \nAF           4  AFG    4.0      NaN         NaN            NaN    Afghanistan   \nAL           8  ALB    8.0      NaN         NaN            NaN        Albania   \nAQ          10  ATA   10.0      NaN         NaN            NaN     Antarctica   \nDZ          12  DZA   12.0      NaN         NaN            NaN        Algeria   \nAD          20  AND   20.0      NaN         NaN            NaN        Andorra   \n...        ...  ...    ...      ...         ...            ...            ...   \nUS    84056037  USA  840.0  56037.0  Sweetwater        Wyoming             US   \nUS    84056039  USA  840.0  56039.0       Teton        Wyoming             US   \nUS    84056041  USA  840.0  56041.0       Uinta        Wyoming             US   \nUS    84056043  USA  840.0  56043.0    Washakie        Wyoming             US   \nUS    84056045  USA  840.0  56045.0      Weston        Wyoming             US   \n\n            Lat       Long_             Combined_Key  Population  \niso2                                                              \nAF    33.939110   67.709953              Afghanistan  38928341.0  \nAL    41.153300   20.168300                  Albania   2877800.0  \nAQ   -71.949900   23.347000               Antarctica         NaN  \nDZ    28.033900    1.659600                  Algeria  43851043.0  \nAD    42.506300    1.521800                  Andorra     77265.0  \n...         ...         ...                      ...         ...  \nUS    41.659439 -108.882788  Sweetwater, Wyoming, US     42343.0  \nUS    43.935225 -110.589080       Teton, Wyoming, US     23464.0  \nUS    41.287818 -110.547578       Uinta, Wyoming, US     20226.0  \nUS    43.904516 -107.680187    Washakie, Wyoming, US      7805.0  \nUS    43.839612 -104.567488      Weston, Wyoming, US      6927.0  \n\n[4321 rows x 11 columns]",
      "text/html": "<div>\n<style scoped>\n    .dataframe tbody tr th:only-of-type {\n        vertical-align: middle;\n    }\n\n    .dataframe tbody tr th {\n        vertical-align: top;\n    }\n\n    .dataframe thead th {\n        text-align: right;\n    }\n</style>\n<table border=\"1\" class=\"dataframe\">\n  <thead>\n    <tr style=\"text-align: right;\">\n      <th></th>\n      <th>UID</th>\n      <th>iso3</th>\n      <th>code3</th>\n      <th>FIPS</th>\n      <th>Admin2</th>\n      <th>Province_State</th>\n      <th>Country_Region</th>\n      <th>Lat</th>\n      <th>Long_</th>\n      <th>Combined_Key</th>\n      <th>Population</th>\n    </tr>\n    <tr>\n      <th>iso2</th>\n      <th></th>\n      <th></th>\n      <th></th>\n      <th></th>\n      <th></th>\n      <th></th>\n      <th></th>\n      <th></th>\n      <th></th>\n      <th></th>\n      <th></th>\n    </tr>\n  </thead>\n  <tbody>\n    <tr>\n      <th>AF</th>\n      <td>4</td>\n      <td>AFG</td>\n      <td>4.0</td>\n      <td>NaN</td>\n      <td>NaN</td>\n      <td>NaN</td>\n      <td>Afghanistan</td>\n      <td>33.939110</td>\n      <td>67.709953</td>\n      <td>Afghanistan</td>\n      <td>38928341.0</td>\n    </tr>\n    <tr>\n      <th>AL</th>\n      <td>8</td>\n      <td>ALB</td>\n      <td>8.0</td>\n      <td>NaN</td>\n      <td>NaN</td>\n      <td>NaN</td>\n      <td>Albania</td>\n      <td>41.153300</td>\n      <td>20.168300</td>\n      <td>Albania</td>\n      <td>2877800.0</td>\n    </tr>\n    <tr>\n      <th>AQ</th>\n      <td>10</td>\n      <td>ATA</td>\n      <td>10.0</td>\n      <td>NaN</td>\n      <td>NaN</td>\n      <td>NaN</td>\n      <td>Antarctica</td>\n      <td>-71.949900</td>\n      <td>23.347000</td>\n      <td>Antarctica</td>\n      <td>NaN</td>\n    </tr>\n    <tr>\n      <th>DZ</th>\n      <td>12</td>\n      <td>DZA</td>\n      <td>12.0</td>\n      <td>NaN</td>\n      <td>NaN</td>\n      <td>NaN</td>\n      <td>Algeria</td>\n      <td>28.033900</td>\n      <td>1.659600</td>\n      <td>Algeria</td>\n      <td>43851043.0</td>\n    </tr>\n    <tr>\n      <th>AD</th>\n      <td>20</td>\n      <td>AND</td>\n      <td>20.0</td>\n      <td>NaN</td>\n      <td>NaN</td>\n      <td>NaN</td>\n      <td>Andorra</td>\n      <td>42.506300</td>\n      <td>1.521800</td>\n      <td>Andorra</td>\n      <td>77265.0</td>\n    </tr>\n    <tr>\n      <th>...</th>\n      <td>...</td>\n      <td>...</td>\n      <td>...</td>\n      <td>...</td>\n      <td>...</td>\n      <td>...</td>\n      <td>...</td>\n      <td>...</td>\n      <td>...</td>\n      <td>...</td>\n      <td>...</td>\n    </tr>\n    <tr>\n      <th>US</th>\n      <td>84056037</td>\n      <td>USA</td>\n      <td>840.0</td>\n      <td>56037.0</td>\n      <td>Sweetwater</td>\n      <td>Wyoming</td>\n      <td>US</td>\n      <td>41.659439</td>\n      <td>-108.882788</td>\n      <td>Sweetwater, Wyoming, US</td>\n      <td>42343.0</td>\n    </tr>\n    <tr>\n      <th>US</th>\n      <td>84056039</td>\n      <td>USA</td>\n      <td>840.0</td>\n      <td>56039.0</td>\n      <td>Teton</td>\n      <td>Wyoming</td>\n      <td>US</td>\n      <td>43.935225</td>\n      <td>-110.589080</td>\n      <td>Teton, Wyoming, US</td>\n      <td>23464.0</td>\n    </tr>\n    <tr>\n      <th>US</th>\n      <td>84056041</td>\n      <td>USA</td>\n      <td>840.0</td>\n      <td>56041.0</td>\n      <td>Uinta</td>\n      <td>Wyoming</td>\n      <td>US</td>\n      <td>41.287818</td>\n      <td>-110.547578</td>\n      <td>Uinta, Wyoming, US</td>\n      <td>20226.0</td>\n    </tr>\n    <tr>\n      <th>US</th>\n      <td>84056043</td>\n      <td>USA</td>\n      <td>840.0</td>\n      <td>56043.0</td>\n      <td>Washakie</td>\n      <td>Wyoming</td>\n      <td>US</td>\n      <td>43.904516</td>\n      <td>-107.680187</td>\n      <td>Washakie, Wyoming, US</td>\n      <td>7805.0</td>\n    </tr>\n    <tr>\n      <th>US</th>\n      <td>84056045</td>\n      <td>USA</td>\n      <td>840.0</td>\n      <td>56045.0</td>\n      <td>Weston</td>\n      <td>Wyoming</td>\n      <td>US</td>\n      <td>43.839612</td>\n      <td>-104.567488</td>\n      <td>Weston, Wyoming, US</td>\n      <td>6927.0</td>\n    </tr>\n  </tbody>\n</table>\n<p>4321 rows × 11 columns</p>\n</div>"
     },
     "execution_count": 41,
     "metadata": {},
     "output_type": "execute_result"
    }
   ],
   "source": [
    "df.set_index(\"iso2\", inplace=True) # df = df.set_index(\"iso2\")\n",
    "\n",
    "df"
   ],
   "metadata": {
    "collapsed": false,
    "ExecuteTime": {
     "end_time": "2023-11-10T11:37:37.883574Z",
     "start_time": "2023-11-10T11:37:37.868489Z"
    }
   },
   "id": "d09a9bd82f3f2af"
  },
  {
   "cell_type": "code",
   "execution_count": 42,
   "outputs": [
    {
     "ename": "KeyError",
     "evalue": "2",
     "output_type": "error",
     "traceback": [
      "\u001B[0;31m---------------------------------------------------------------------------\u001B[0m",
      "\u001B[0;31mKeyError\u001B[0m                                  Traceback (most recent call last)",
      "File \u001B[0;32m~/anaconda3/envs/newConda/lib/python3.8/site-packages/pandas/core/indexes/base.py:3653\u001B[0m, in \u001B[0;36mIndex.get_loc\u001B[0;34m(self, key)\u001B[0m\n\u001B[1;32m   3652\u001B[0m \u001B[38;5;28;01mtry\u001B[39;00m:\n\u001B[0;32m-> 3653\u001B[0m     \u001B[38;5;28;01mreturn\u001B[39;00m \u001B[38;5;28;43mself\u001B[39;49m\u001B[38;5;241;43m.\u001B[39;49m\u001B[43m_engine\u001B[49m\u001B[38;5;241;43m.\u001B[39;49m\u001B[43mget_loc\u001B[49m\u001B[43m(\u001B[49m\u001B[43mcasted_key\u001B[49m\u001B[43m)\u001B[49m\n\u001B[1;32m   3654\u001B[0m \u001B[38;5;28;01mexcept\u001B[39;00m \u001B[38;5;167;01mKeyError\u001B[39;00m \u001B[38;5;28;01mas\u001B[39;00m err:\n",
      "File \u001B[0;32m~/anaconda3/envs/newConda/lib/python3.8/site-packages/pandas/_libs/index.pyx:147\u001B[0m, in \u001B[0;36mpandas._libs.index.IndexEngine.get_loc\u001B[0;34m()\u001B[0m\n",
      "File \u001B[0;32m~/anaconda3/envs/newConda/lib/python3.8/site-packages/pandas/_libs/index.pyx:171\u001B[0m, in \u001B[0;36mpandas._libs.index.IndexEngine.get_loc\u001B[0;34m()\u001B[0m\n",
      "File \u001B[0;32m~/anaconda3/envs/newConda/lib/python3.8/site-packages/pandas/_libs/index.pyx:214\u001B[0m, in \u001B[0;36mpandas._libs.index.IndexEngine._get_loc_duplicates\u001B[0;34m()\u001B[0m\n",
      "File \u001B[0;32m~/anaconda3/envs/newConda/lib/python3.8/site-packages/pandas/_libs/index.pyx:222\u001B[0m, in \u001B[0;36mpandas._libs.index.IndexEngine._maybe_get_bool_indexer\u001B[0;34m()\u001B[0m\n",
      "File \u001B[0;32m~/anaconda3/envs/newConda/lib/python3.8/site-packages/pandas/_libs/index.pyx:114\u001B[0m, in \u001B[0;36mpandas._libs.index._unpack_bool_indexer\u001B[0;34m()\u001B[0m\n",
      "\u001B[0;31mKeyError\u001B[0m: 2",
      "\nThe above exception was the direct cause of the following exception:\n",
      "\u001B[0;31mKeyError\u001B[0m                                  Traceback (most recent call last)",
      "Cell \u001B[0;32mIn[42], line 1\u001B[0m\n\u001B[0;32m----> 1\u001B[0m \u001B[43mdf\u001B[49m\u001B[38;5;241;43m.\u001B[39;49m\u001B[43mloc\u001B[49m\u001B[43m[\u001B[49m\u001B[38;5;241;43m2\u001B[39;49m\u001B[43m]\u001B[49m\n",
      "File \u001B[0;32m~/anaconda3/envs/newConda/lib/python3.8/site-packages/pandas/core/indexing.py:1103\u001B[0m, in \u001B[0;36m_LocationIndexer.__getitem__\u001B[0;34m(self, key)\u001B[0m\n\u001B[1;32m   1100\u001B[0m axis \u001B[38;5;241m=\u001B[39m \u001B[38;5;28mself\u001B[39m\u001B[38;5;241m.\u001B[39maxis \u001B[38;5;129;01mor\u001B[39;00m \u001B[38;5;241m0\u001B[39m\n\u001B[1;32m   1102\u001B[0m maybe_callable \u001B[38;5;241m=\u001B[39m com\u001B[38;5;241m.\u001B[39mapply_if_callable(key, \u001B[38;5;28mself\u001B[39m\u001B[38;5;241m.\u001B[39mobj)\n\u001B[0;32m-> 1103\u001B[0m \u001B[38;5;28;01mreturn\u001B[39;00m \u001B[38;5;28;43mself\u001B[39;49m\u001B[38;5;241;43m.\u001B[39;49m\u001B[43m_getitem_axis\u001B[49m\u001B[43m(\u001B[49m\u001B[43mmaybe_callable\u001B[49m\u001B[43m,\u001B[49m\u001B[43m \u001B[49m\u001B[43maxis\u001B[49m\u001B[38;5;241;43m=\u001B[39;49m\u001B[43maxis\u001B[49m\u001B[43m)\u001B[49m\n",
      "File \u001B[0;32m~/anaconda3/envs/newConda/lib/python3.8/site-packages/pandas/core/indexing.py:1343\u001B[0m, in \u001B[0;36m_LocIndexer._getitem_axis\u001B[0;34m(self, key, axis)\u001B[0m\n\u001B[1;32m   1341\u001B[0m \u001B[38;5;66;03m# fall thru to straight lookup\u001B[39;00m\n\u001B[1;32m   1342\u001B[0m \u001B[38;5;28mself\u001B[39m\u001B[38;5;241m.\u001B[39m_validate_key(key, axis)\n\u001B[0;32m-> 1343\u001B[0m \u001B[38;5;28;01mreturn\u001B[39;00m \u001B[38;5;28;43mself\u001B[39;49m\u001B[38;5;241;43m.\u001B[39;49m\u001B[43m_get_label\u001B[49m\u001B[43m(\u001B[49m\u001B[43mkey\u001B[49m\u001B[43m,\u001B[49m\u001B[43m \u001B[49m\u001B[43maxis\u001B[49m\u001B[38;5;241;43m=\u001B[39;49m\u001B[43maxis\u001B[49m\u001B[43m)\u001B[49m\n",
      "File \u001B[0;32m~/anaconda3/envs/newConda/lib/python3.8/site-packages/pandas/core/indexing.py:1293\u001B[0m, in \u001B[0;36m_LocIndexer._get_label\u001B[0;34m(self, label, axis)\u001B[0m\n\u001B[1;32m   1291\u001B[0m \u001B[38;5;28;01mdef\u001B[39;00m \u001B[38;5;21m_get_label\u001B[39m(\u001B[38;5;28mself\u001B[39m, label, axis: AxisInt):\n\u001B[1;32m   1292\u001B[0m     \u001B[38;5;66;03m# GH#5567 this will fail if the label is not present in the axis.\u001B[39;00m\n\u001B[0;32m-> 1293\u001B[0m     \u001B[38;5;28;01mreturn\u001B[39;00m \u001B[38;5;28;43mself\u001B[39;49m\u001B[38;5;241;43m.\u001B[39;49m\u001B[43mobj\u001B[49m\u001B[38;5;241;43m.\u001B[39;49m\u001B[43mxs\u001B[49m\u001B[43m(\u001B[49m\u001B[43mlabel\u001B[49m\u001B[43m,\u001B[49m\u001B[43m \u001B[49m\u001B[43maxis\u001B[49m\u001B[38;5;241;43m=\u001B[39;49m\u001B[43maxis\u001B[49m\u001B[43m)\u001B[49m\n",
      "File \u001B[0;32m~/anaconda3/envs/newConda/lib/python3.8/site-packages/pandas/core/generic.py:4095\u001B[0m, in \u001B[0;36mNDFrame.xs\u001B[0;34m(self, key, axis, level, drop_level)\u001B[0m\n\u001B[1;32m   4093\u001B[0m             new_index \u001B[38;5;241m=\u001B[39m index[loc]\n\u001B[1;32m   4094\u001B[0m \u001B[38;5;28;01melse\u001B[39;00m:\n\u001B[0;32m-> 4095\u001B[0m     loc \u001B[38;5;241m=\u001B[39m \u001B[43mindex\u001B[49m\u001B[38;5;241;43m.\u001B[39;49m\u001B[43mget_loc\u001B[49m\u001B[43m(\u001B[49m\u001B[43mkey\u001B[49m\u001B[43m)\u001B[49m\n\u001B[1;32m   4097\u001B[0m     \u001B[38;5;28;01mif\u001B[39;00m \u001B[38;5;28misinstance\u001B[39m(loc, np\u001B[38;5;241m.\u001B[39mndarray):\n\u001B[1;32m   4098\u001B[0m         \u001B[38;5;28;01mif\u001B[39;00m loc\u001B[38;5;241m.\u001B[39mdtype \u001B[38;5;241m==\u001B[39m np\u001B[38;5;241m.\u001B[39mbool_:\n",
      "File \u001B[0;32m~/anaconda3/envs/newConda/lib/python3.8/site-packages/pandas/core/indexes/base.py:3655\u001B[0m, in \u001B[0;36mIndex.get_loc\u001B[0;34m(self, key)\u001B[0m\n\u001B[1;32m   3653\u001B[0m     \u001B[38;5;28;01mreturn\u001B[39;00m \u001B[38;5;28mself\u001B[39m\u001B[38;5;241m.\u001B[39m_engine\u001B[38;5;241m.\u001B[39mget_loc(casted_key)\n\u001B[1;32m   3654\u001B[0m \u001B[38;5;28;01mexcept\u001B[39;00m \u001B[38;5;167;01mKeyError\u001B[39;00m \u001B[38;5;28;01mas\u001B[39;00m err:\n\u001B[0;32m-> 3655\u001B[0m     \u001B[38;5;28;01mraise\u001B[39;00m \u001B[38;5;167;01mKeyError\u001B[39;00m(key) \u001B[38;5;28;01mfrom\u001B[39;00m \u001B[38;5;21;01merr\u001B[39;00m\n\u001B[1;32m   3656\u001B[0m \u001B[38;5;28;01mexcept\u001B[39;00m \u001B[38;5;167;01mTypeError\u001B[39;00m:\n\u001B[1;32m   3657\u001B[0m     \u001B[38;5;66;03m# If we have a listlike key, _check_indexing_error will raise\u001B[39;00m\n\u001B[1;32m   3658\u001B[0m     \u001B[38;5;66;03m#  InvalidIndexError. Otherwise we fall through and re-raise\u001B[39;00m\n\u001B[1;32m   3659\u001B[0m     \u001B[38;5;66;03m#  the TypeError.\u001B[39;00m\n\u001B[1;32m   3660\u001B[0m     \u001B[38;5;28mself\u001B[39m\u001B[38;5;241m.\u001B[39m_check_indexing_error(key)\n",
      "\u001B[0;31mKeyError\u001B[0m: 2"
     ]
    }
   ],
   "source": [
    "df.loc[2]"
   ],
   "metadata": {
    "collapsed": false,
    "ExecuteTime": {
     "end_time": "2023-11-10T11:39:14.500184Z",
     "start_time": "2023-11-10T11:39:12.560542Z"
    }
   },
   "id": "afa0261d4f9b2b7a"
  },
  {
   "cell_type": "code",
   "execution_count": 45,
   "outputs": [
    {
     "data": {
      "text/plain": "       UID iso3  code3  FIPS Admin2 Province_State Country_Region      Lat  \\\niso2                                                                         \nAQ      10  ATA   10.0   NaN    NaN            NaN     Antarctica -71.9499   \nAZ      31  AZE   31.0   NaN    NaN            NaN     Azerbaijan  40.1431   \nAO      24  AGO   24.0   NaN    NaN            NaN         Angola -11.2027   \nBE    5602  BEL   56.0   NaN    NaN       Brussels        Belgium  50.8503   \n\n        Long_       Combined_Key  Population  \niso2                                          \nAQ    23.3470         Antarctica         NaN  \nAZ    47.5769         Azerbaijan  10139175.0  \nAO    17.8739             Angola  32866268.0  \nBE     4.3517  Brussels, Belgium   1218255.0  ",
      "text/html": "<div>\n<style scoped>\n    .dataframe tbody tr th:only-of-type {\n        vertical-align: middle;\n    }\n\n    .dataframe tbody tr th {\n        vertical-align: top;\n    }\n\n    .dataframe thead th {\n        text-align: right;\n    }\n</style>\n<table border=\"1\" class=\"dataframe\">\n  <thead>\n    <tr style=\"text-align: right;\">\n      <th></th>\n      <th>UID</th>\n      <th>iso3</th>\n      <th>code3</th>\n      <th>FIPS</th>\n      <th>Admin2</th>\n      <th>Province_State</th>\n      <th>Country_Region</th>\n      <th>Lat</th>\n      <th>Long_</th>\n      <th>Combined_Key</th>\n      <th>Population</th>\n    </tr>\n    <tr>\n      <th>iso2</th>\n      <th></th>\n      <th></th>\n      <th></th>\n      <th></th>\n      <th></th>\n      <th></th>\n      <th></th>\n      <th></th>\n      <th></th>\n      <th></th>\n      <th></th>\n    </tr>\n  </thead>\n  <tbody>\n    <tr>\n      <th>AQ</th>\n      <td>10</td>\n      <td>ATA</td>\n      <td>10.0</td>\n      <td>NaN</td>\n      <td>NaN</td>\n      <td>NaN</td>\n      <td>Antarctica</td>\n      <td>-71.9499</td>\n      <td>23.3470</td>\n      <td>Antarctica</td>\n      <td>NaN</td>\n    </tr>\n    <tr>\n      <th>AZ</th>\n      <td>31</td>\n      <td>AZE</td>\n      <td>31.0</td>\n      <td>NaN</td>\n      <td>NaN</td>\n      <td>NaN</td>\n      <td>Azerbaijan</td>\n      <td>40.1431</td>\n      <td>47.5769</td>\n      <td>Azerbaijan</td>\n      <td>10139175.0</td>\n    </tr>\n    <tr>\n      <th>AO</th>\n      <td>24</td>\n      <td>AGO</td>\n      <td>24.0</td>\n      <td>NaN</td>\n      <td>NaN</td>\n      <td>NaN</td>\n      <td>Angola</td>\n      <td>-11.2027</td>\n      <td>17.8739</td>\n      <td>Angola</td>\n      <td>32866268.0</td>\n    </tr>\n    <tr>\n      <th>BE</th>\n      <td>5602</td>\n      <td>BEL</td>\n      <td>56.0</td>\n      <td>NaN</td>\n      <td>NaN</td>\n      <td>Brussels</td>\n      <td>Belgium</td>\n      <td>50.8503</td>\n      <td>4.3517</td>\n      <td>Brussels, Belgium</td>\n      <td>1218255.0</td>\n    </tr>\n  </tbody>\n</table>\n</div>"
     },
     "execution_count": 45,
     "metadata": {},
     "output_type": "execute_result"
    }
   ],
   "source": [
    "df.iloc[[2,10,5,18]]"
   ],
   "metadata": {
    "collapsed": false,
    "ExecuteTime": {
     "end_time": "2023-11-10T11:40:13.235763Z",
     "start_time": "2023-11-10T11:40:13.224038Z"
    }
   },
   "id": "dcffc7528d1798cd"
  },
  {
   "cell_type": "code",
   "execution_count": 46,
   "outputs": [
    {
     "data": {
      "text/plain": "       UID iso3  code3  FIPS Admin2   Province_State Country_Region      Lat  \\\niso2                                                                           \nBE      56  BEL   56.0   NaN    NaN              NaN        Belgium  50.8333   \nBE    5601  BEL   56.0   NaN    NaN          Antwerp        Belgium  51.2195   \nBE    5602  BEL   56.0   NaN    NaN         Brussels        Belgium  50.8503   \nBE    5603  BEL   56.0   NaN    NaN    East Flanders        Belgium  51.0362   \nBE    5604  BEL   56.0   NaN    NaN  Flemish Brabant        Belgium  50.9167   \nBE    5605  BEL   56.0   NaN    NaN          Hainaut        Belgium  50.5257   \nBE    5606  BEL   56.0   NaN    NaN            Liege        Belgium  50.4496   \nBE    5607  BEL   56.0   NaN    NaN          Limburg        Belgium  50.9739   \nBE    5608  BEL   56.0   NaN    NaN       Luxembourg        Belgium  50.0547   \nBE    5609  BEL   56.0   NaN    NaN            Namur        Belgium  50.3310   \nBE    5610  BEL   56.0   NaN    NaN          Unknown        Belgium      NaN   \nBE    5611  BEL   56.0   NaN    NaN  Walloon Brabant        Belgium  50.4000   \nBE    5612  BEL   56.0   NaN    NaN    West Flanders        Belgium  51.0536   \n\n         Long_              Combined_Key  Population  \niso2                                                  \nBE    4.469936                   Belgium  11492641.0  \nBE    4.402400          Antwerp, Belgium   1869730.0  \nBE    4.351700         Brussels, Belgium   1218255.0  \nBE    3.737300    East Flanders, Belgium   1525255.0  \nBE    4.583300  Flemish Brabant, Belgium   1155843.0  \nBE    4.062100          Hainaut, Belgium   1346840.0  \nBE    5.849200            Liege, Belgium   1109800.0  \nBE    5.342000          Limburg, Belgium    877370.0  \nBE    5.467700       Luxembourg, Belgium    286752.0  \nBE    4.822100            Namur, Belgium    495832.0  \nBE         NaN          Unknown, Belgium         NaN  \nBE    4.350000  Walloon Brabant, Belgium    406019.0  \nBE    3.145800    West Flanders, Belgium   1200945.0  ",
      "text/html": "<div>\n<style scoped>\n    .dataframe tbody tr th:only-of-type {\n        vertical-align: middle;\n    }\n\n    .dataframe tbody tr th {\n        vertical-align: top;\n    }\n\n    .dataframe thead th {\n        text-align: right;\n    }\n</style>\n<table border=\"1\" class=\"dataframe\">\n  <thead>\n    <tr style=\"text-align: right;\">\n      <th></th>\n      <th>UID</th>\n      <th>iso3</th>\n      <th>code3</th>\n      <th>FIPS</th>\n      <th>Admin2</th>\n      <th>Province_State</th>\n      <th>Country_Region</th>\n      <th>Lat</th>\n      <th>Long_</th>\n      <th>Combined_Key</th>\n      <th>Population</th>\n    </tr>\n    <tr>\n      <th>iso2</th>\n      <th></th>\n      <th></th>\n      <th></th>\n      <th></th>\n      <th></th>\n      <th></th>\n      <th></th>\n      <th></th>\n      <th></th>\n      <th></th>\n      <th></th>\n    </tr>\n  </thead>\n  <tbody>\n    <tr>\n      <th>BE</th>\n      <td>56</td>\n      <td>BEL</td>\n      <td>56.0</td>\n      <td>NaN</td>\n      <td>NaN</td>\n      <td>NaN</td>\n      <td>Belgium</td>\n      <td>50.8333</td>\n      <td>4.469936</td>\n      <td>Belgium</td>\n      <td>11492641.0</td>\n    </tr>\n    <tr>\n      <th>BE</th>\n      <td>5601</td>\n      <td>BEL</td>\n      <td>56.0</td>\n      <td>NaN</td>\n      <td>NaN</td>\n      <td>Antwerp</td>\n      <td>Belgium</td>\n      <td>51.2195</td>\n      <td>4.402400</td>\n      <td>Antwerp, Belgium</td>\n      <td>1869730.0</td>\n    </tr>\n    <tr>\n      <th>BE</th>\n      <td>5602</td>\n      <td>BEL</td>\n      <td>56.0</td>\n      <td>NaN</td>\n      <td>NaN</td>\n      <td>Brussels</td>\n      <td>Belgium</td>\n      <td>50.8503</td>\n      <td>4.351700</td>\n      <td>Brussels, Belgium</td>\n      <td>1218255.0</td>\n    </tr>\n    <tr>\n      <th>BE</th>\n      <td>5603</td>\n      <td>BEL</td>\n      <td>56.0</td>\n      <td>NaN</td>\n      <td>NaN</td>\n      <td>East Flanders</td>\n      <td>Belgium</td>\n      <td>51.0362</td>\n      <td>3.737300</td>\n      <td>East Flanders, Belgium</td>\n      <td>1525255.0</td>\n    </tr>\n    <tr>\n      <th>BE</th>\n      <td>5604</td>\n      <td>BEL</td>\n      <td>56.0</td>\n      <td>NaN</td>\n      <td>NaN</td>\n      <td>Flemish Brabant</td>\n      <td>Belgium</td>\n      <td>50.9167</td>\n      <td>4.583300</td>\n      <td>Flemish Brabant, Belgium</td>\n      <td>1155843.0</td>\n    </tr>\n    <tr>\n      <th>BE</th>\n      <td>5605</td>\n      <td>BEL</td>\n      <td>56.0</td>\n      <td>NaN</td>\n      <td>NaN</td>\n      <td>Hainaut</td>\n      <td>Belgium</td>\n      <td>50.5257</td>\n      <td>4.062100</td>\n      <td>Hainaut, Belgium</td>\n      <td>1346840.0</td>\n    </tr>\n    <tr>\n      <th>BE</th>\n      <td>5606</td>\n      <td>BEL</td>\n      <td>56.0</td>\n      <td>NaN</td>\n      <td>NaN</td>\n      <td>Liege</td>\n      <td>Belgium</td>\n      <td>50.4496</td>\n      <td>5.849200</td>\n      <td>Liege, Belgium</td>\n      <td>1109800.0</td>\n    </tr>\n    <tr>\n      <th>BE</th>\n      <td>5607</td>\n      <td>BEL</td>\n      <td>56.0</td>\n      <td>NaN</td>\n      <td>NaN</td>\n      <td>Limburg</td>\n      <td>Belgium</td>\n      <td>50.9739</td>\n      <td>5.342000</td>\n      <td>Limburg, Belgium</td>\n      <td>877370.0</td>\n    </tr>\n    <tr>\n      <th>BE</th>\n      <td>5608</td>\n      <td>BEL</td>\n      <td>56.0</td>\n      <td>NaN</td>\n      <td>NaN</td>\n      <td>Luxembourg</td>\n      <td>Belgium</td>\n      <td>50.0547</td>\n      <td>5.467700</td>\n      <td>Luxembourg, Belgium</td>\n      <td>286752.0</td>\n    </tr>\n    <tr>\n      <th>BE</th>\n      <td>5609</td>\n      <td>BEL</td>\n      <td>56.0</td>\n      <td>NaN</td>\n      <td>NaN</td>\n      <td>Namur</td>\n      <td>Belgium</td>\n      <td>50.3310</td>\n      <td>4.822100</td>\n      <td>Namur, Belgium</td>\n      <td>495832.0</td>\n    </tr>\n    <tr>\n      <th>BE</th>\n      <td>5610</td>\n      <td>BEL</td>\n      <td>56.0</td>\n      <td>NaN</td>\n      <td>NaN</td>\n      <td>Unknown</td>\n      <td>Belgium</td>\n      <td>NaN</td>\n      <td>NaN</td>\n      <td>Unknown, Belgium</td>\n      <td>NaN</td>\n    </tr>\n    <tr>\n      <th>BE</th>\n      <td>5611</td>\n      <td>BEL</td>\n      <td>56.0</td>\n      <td>NaN</td>\n      <td>NaN</td>\n      <td>Walloon Brabant</td>\n      <td>Belgium</td>\n      <td>50.4000</td>\n      <td>4.350000</td>\n      <td>Walloon Brabant, Belgium</td>\n      <td>406019.0</td>\n    </tr>\n    <tr>\n      <th>BE</th>\n      <td>5612</td>\n      <td>BEL</td>\n      <td>56.0</td>\n      <td>NaN</td>\n      <td>NaN</td>\n      <td>West Flanders</td>\n      <td>Belgium</td>\n      <td>51.0536</td>\n      <td>3.145800</td>\n      <td>West Flanders, Belgium</td>\n      <td>1200945.0</td>\n    </tr>\n  </tbody>\n</table>\n</div>"
     },
     "execution_count": 46,
     "metadata": {},
     "output_type": "execute_result"
    }
   ],
   "source": [
    "df.loc[\"BE\"]"
   ],
   "metadata": {
    "collapsed": false,
    "ExecuteTime": {
     "end_time": "2023-11-10T11:41:07.720175Z",
     "start_time": "2023-11-10T11:41:07.715214Z"
    }
   },
   "id": "5233539a2dd50e40"
  },
  {
   "cell_type": "code",
   "execution_count": 54,
   "outputs": [
    {
     "data": {
      "text/plain": "'Luxembourg'"
     },
     "execution_count": 54,
     "metadata": {},
     "output_type": "execute_result"
    }
   ],
   "source": [
    "df.loc[\"BE\"].sort_values(\"Population\", ascending=True).iloc[0].loc[\"Province_State\"]"
   ],
   "metadata": {
    "collapsed": false,
    "ExecuteTime": {
     "end_time": "2023-11-10T11:46:10.287771Z",
     "start_time": "2023-11-10T11:46:10.285876Z"
    }
   },
   "id": "394003e3559109bf"
  },
  {
   "cell_type": "code",
   "execution_count": null,
   "outputs": [],
   "source": [],
   "metadata": {
    "collapsed": false
   },
   "id": "e99c26507052de12"
  }
 ],
 "metadata": {
  "kernelspec": {
   "display_name": "Python 3",
   "language": "python",
   "name": "python3"
  },
  "language_info": {
   "codemirror_mode": {
    "name": "ipython",
    "version": 2
   },
   "file_extension": ".py",
   "mimetype": "text/x-python",
   "name": "python",
   "nbconvert_exporter": "python",
   "pygments_lexer": "ipython2",
   "version": "2.7.6"
  }
 },
 "nbformat": 4,
 "nbformat_minor": 5
}
