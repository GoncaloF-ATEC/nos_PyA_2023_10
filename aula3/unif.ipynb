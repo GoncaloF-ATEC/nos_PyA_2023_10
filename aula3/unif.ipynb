{
 "cells": [
  {
   "cell_type": "code",
   "execution_count": 108,
   "id": "initial_id",
   "metadata": {
    "collapsed": true,
    "ExecuteTime": {
     "end_time": "2023-11-10T12:57:20.116309Z",
     "start_time": "2023-11-10T12:57:20.097516Z"
    }
   },
   "outputs": [],
   "source": [
    "import pandas as pd\n",
    "import datetime"
   ]
  },
  {
   "cell_type": "code",
   "execution_count": 109,
   "outputs": [
    {
     "data": {
      "text/plain": "           Date     Network    Upload  Download     Total\n0    2022-12-21  NOS-F368-5   47,7 MB  135,3 MB    183 MB\n1    2022-12-22  NOS-F368-5    259 MB  447,5 MB  706,5 MB\n2    2022-12-23  NOS-F368-5  263,7 MB  552,7 MB  816,4 MB\n3    2022-12-24  NOS-F368-5    275 MB  660,4 MB  935,4 MB\n4    2022-12-25  NOS-F368-5  100,6 MB  193,6 MB  294,2 MB\n..          ...         ...       ...       ...       ...\n346  2023-11-08       Wi-Fi  110,7 MB  262,7 MB  373,3 MB\n347  2023-11-08       Wi-Fi  110,7 MB  262,7 MB  373,3 MB\n348  2023-11-08       Wi-Fi  110,7 MB  262,7 MB  373,3 MB\n349  2023-11-08       Wi-Fi  110,7 MB  262,7 MB  373,3 MB\n350  2023-11-08       Wi-Fi  110,7 MB  262,7 MB  373,3 MB\n\n[351 rows x 5 columns]",
      "text/html": "<div>\n<style scoped>\n    .dataframe tbody tr th:only-of-type {\n        vertical-align: middle;\n    }\n\n    .dataframe tbody tr th {\n        vertical-align: top;\n    }\n\n    .dataframe thead th {\n        text-align: right;\n    }\n</style>\n<table border=\"1\" class=\"dataframe\">\n  <thead>\n    <tr style=\"text-align: right;\">\n      <th></th>\n      <th>Date</th>\n      <th>Network</th>\n      <th>Upload</th>\n      <th>Download</th>\n      <th>Total</th>\n    </tr>\n  </thead>\n  <tbody>\n    <tr>\n      <th>0</th>\n      <td>2022-12-21</td>\n      <td>NOS-F368-5</td>\n      <td>47,7 MB</td>\n      <td>135,3 MB</td>\n      <td>183 MB</td>\n    </tr>\n    <tr>\n      <th>1</th>\n      <td>2022-12-22</td>\n      <td>NOS-F368-5</td>\n      <td>259 MB</td>\n      <td>447,5 MB</td>\n      <td>706,5 MB</td>\n    </tr>\n    <tr>\n      <th>2</th>\n      <td>2022-12-23</td>\n      <td>NOS-F368-5</td>\n      <td>263,7 MB</td>\n      <td>552,7 MB</td>\n      <td>816,4 MB</td>\n    </tr>\n    <tr>\n      <th>3</th>\n      <td>2022-12-24</td>\n      <td>NOS-F368-5</td>\n      <td>275 MB</td>\n      <td>660,4 MB</td>\n      <td>935,4 MB</td>\n    </tr>\n    <tr>\n      <th>4</th>\n      <td>2022-12-25</td>\n      <td>NOS-F368-5</td>\n      <td>100,6 MB</td>\n      <td>193,6 MB</td>\n      <td>294,2 MB</td>\n    </tr>\n    <tr>\n      <th>...</th>\n      <td>...</td>\n      <td>...</td>\n      <td>...</td>\n      <td>...</td>\n      <td>...</td>\n    </tr>\n    <tr>\n      <th>346</th>\n      <td>2023-11-08</td>\n      <td>Wi-Fi</td>\n      <td>110,7 MB</td>\n      <td>262,7 MB</td>\n      <td>373,3 MB</td>\n    </tr>\n    <tr>\n      <th>347</th>\n      <td>2023-11-08</td>\n      <td>Wi-Fi</td>\n      <td>110,7 MB</td>\n      <td>262,7 MB</td>\n      <td>373,3 MB</td>\n    </tr>\n    <tr>\n      <th>348</th>\n      <td>2023-11-08</td>\n      <td>Wi-Fi</td>\n      <td>110,7 MB</td>\n      <td>262,7 MB</td>\n      <td>373,3 MB</td>\n    </tr>\n    <tr>\n      <th>349</th>\n      <td>2023-11-08</td>\n      <td>Wi-Fi</td>\n      <td>110,7 MB</td>\n      <td>262,7 MB</td>\n      <td>373,3 MB</td>\n    </tr>\n    <tr>\n      <th>350</th>\n      <td>2023-11-08</td>\n      <td>Wi-Fi</td>\n      <td>110,7 MB</td>\n      <td>262,7 MB</td>\n      <td>373,3 MB</td>\n    </tr>\n  </tbody>\n</table>\n<p>351 rows × 5 columns</p>\n</div>"
     },
     "execution_count": 109,
     "metadata": {},
     "output_type": "execute_result"
    }
   ],
   "source": [
    "data = pd.read_csv(\"Network.csv\")\n",
    "\n",
    "data"
   ],
   "metadata": {
    "collapsed": false,
    "ExecuteTime": {
     "end_time": "2023-11-10T12:57:20.126324Z",
     "start_time": "2023-11-10T12:57:20.112151Z"
    }
   },
   "id": "7687611203307f54"
  },
  {
   "cell_type": "code",
   "execution_count": 110,
   "outputs": [
    {
     "data": {
      "text/plain": "0      False\n1      False\n2      False\n3      False\n4      False\n       ...  \n346    False\n347    False\n348    False\n349    False\n350    False\nName: Upload, Length: 351, dtype: bool"
     },
     "execution_count": 110,
     "metadata": {},
     "output_type": "execute_result"
    }
   ],
   "source": [
    "linha = data.Upload.str.contains(\"KB\")\n",
    "linha"
   ],
   "metadata": {
    "collapsed": false,
    "ExecuteTime": {
     "end_time": "2023-11-10T12:57:20.126761Z",
     "start_time": "2023-11-10T12:57:20.121676Z"
    }
   },
   "id": "bf71d4f1b0675c47"
  },
  {
   "cell_type": "code",
   "execution_count": 111,
   "outputs": [
    {
     "data": {
      "text/plain": "Index([ 54,  59, 110, 125, 138, 144, 162, 192, 203, 244, 255, 258, 260, 265,\n       268, 275, 278],\n      dtype='int64')"
     },
     "execution_count": 111,
     "metadata": {},
     "output_type": "execute_result"
    }
   ],
   "source": [
    "i = data[linha].index\n",
    "i"
   ],
   "metadata": {
    "collapsed": false,
    "ExecuteTime": {
     "end_time": "2023-11-10T12:57:20.131474Z",
     "start_time": "2023-11-10T12:57:20.127547Z"
    }
   },
   "id": "c3c627e8e9b23c15"
  },
  {
   "cell_type": "code",
   "execution_count": 112,
   "outputs": [
    {
     "data": {
      "text/plain": "           Date     Network    Upload  Download     Total\n0    2022-12-21  NOS-F368-5   47,7 MB  135,3 MB    183 MB\n1    2022-12-22  NOS-F368-5    259 MB  447,5 MB  706,5 MB\n2    2022-12-23  NOS-F368-5  263,7 MB  552,7 MB  816,4 MB\n3    2022-12-24  NOS-F368-5    275 MB  660,4 MB  935,4 MB\n4    2022-12-25  NOS-F368-5  100,6 MB  193,6 MB  294,2 MB\n..          ...         ...       ...       ...       ...\n346  2023-11-08       Wi-Fi  110,7 MB  262,7 MB  373,3 MB\n347  2023-11-08       Wi-Fi  110,7 MB  262,7 MB  373,3 MB\n348  2023-11-08       Wi-Fi  110,7 MB  262,7 MB  373,3 MB\n349  2023-11-08       Wi-Fi  110,7 MB  262,7 MB  373,3 MB\n350  2023-11-08       Wi-Fi  110,7 MB  262,7 MB  373,3 MB\n\n[334 rows x 5 columns]",
      "text/html": "<div>\n<style scoped>\n    .dataframe tbody tr th:only-of-type {\n        vertical-align: middle;\n    }\n\n    .dataframe tbody tr th {\n        vertical-align: top;\n    }\n\n    .dataframe thead th {\n        text-align: right;\n    }\n</style>\n<table border=\"1\" class=\"dataframe\">\n  <thead>\n    <tr style=\"text-align: right;\">\n      <th></th>\n      <th>Date</th>\n      <th>Network</th>\n      <th>Upload</th>\n      <th>Download</th>\n      <th>Total</th>\n    </tr>\n  </thead>\n  <tbody>\n    <tr>\n      <th>0</th>\n      <td>2022-12-21</td>\n      <td>NOS-F368-5</td>\n      <td>47,7 MB</td>\n      <td>135,3 MB</td>\n      <td>183 MB</td>\n    </tr>\n    <tr>\n      <th>1</th>\n      <td>2022-12-22</td>\n      <td>NOS-F368-5</td>\n      <td>259 MB</td>\n      <td>447,5 MB</td>\n      <td>706,5 MB</td>\n    </tr>\n    <tr>\n      <th>2</th>\n      <td>2022-12-23</td>\n      <td>NOS-F368-5</td>\n      <td>263,7 MB</td>\n      <td>552,7 MB</td>\n      <td>816,4 MB</td>\n    </tr>\n    <tr>\n      <th>3</th>\n      <td>2022-12-24</td>\n      <td>NOS-F368-5</td>\n      <td>275 MB</td>\n      <td>660,4 MB</td>\n      <td>935,4 MB</td>\n    </tr>\n    <tr>\n      <th>4</th>\n      <td>2022-12-25</td>\n      <td>NOS-F368-5</td>\n      <td>100,6 MB</td>\n      <td>193,6 MB</td>\n      <td>294,2 MB</td>\n    </tr>\n    <tr>\n      <th>...</th>\n      <td>...</td>\n      <td>...</td>\n      <td>...</td>\n      <td>...</td>\n      <td>...</td>\n    </tr>\n    <tr>\n      <th>346</th>\n      <td>2023-11-08</td>\n      <td>Wi-Fi</td>\n      <td>110,7 MB</td>\n      <td>262,7 MB</td>\n      <td>373,3 MB</td>\n    </tr>\n    <tr>\n      <th>347</th>\n      <td>2023-11-08</td>\n      <td>Wi-Fi</td>\n      <td>110,7 MB</td>\n      <td>262,7 MB</td>\n      <td>373,3 MB</td>\n    </tr>\n    <tr>\n      <th>348</th>\n      <td>2023-11-08</td>\n      <td>Wi-Fi</td>\n      <td>110,7 MB</td>\n      <td>262,7 MB</td>\n      <td>373,3 MB</td>\n    </tr>\n    <tr>\n      <th>349</th>\n      <td>2023-11-08</td>\n      <td>Wi-Fi</td>\n      <td>110,7 MB</td>\n      <td>262,7 MB</td>\n      <td>373,3 MB</td>\n    </tr>\n    <tr>\n      <th>350</th>\n      <td>2023-11-08</td>\n      <td>Wi-Fi</td>\n      <td>110,7 MB</td>\n      <td>262,7 MB</td>\n      <td>373,3 MB</td>\n    </tr>\n  </tbody>\n</table>\n<p>334 rows × 5 columns</p>\n</div>"
     },
     "execution_count": 112,
     "metadata": {},
     "output_type": "execute_result"
    }
   ],
   "source": [
    "data.drop(i, inplace=True)\n",
    "\n",
    "data"
   ],
   "metadata": {
    "collapsed": false,
    "ExecuteTime": {
     "end_time": "2023-11-10T12:57:20.173060Z",
     "start_time": "2023-11-10T12:57:20.139068Z"
    }
   },
   "id": "8a11e6b4a3805e02"
  },
  {
   "cell_type": "code",
   "execution_count": 113,
   "outputs": [
    {
     "data": {
      "text/plain": "           Date    Upload  Download     Total\n0    2022-12-21   47,7 MB  135,3 MB    183 MB\n1    2022-12-22    259 MB  447,5 MB  706,5 MB\n2    2022-12-23  263,7 MB  552,7 MB  816,4 MB\n3    2022-12-24    275 MB  660,4 MB  935,4 MB\n4    2022-12-25  100,6 MB  193,6 MB  294,2 MB\n..          ...       ...       ...       ...\n346  2023-11-08  110,7 MB  262,7 MB  373,3 MB\n347  2023-11-08  110,7 MB  262,7 MB  373,3 MB\n348  2023-11-08  110,7 MB  262,7 MB  373,3 MB\n349  2023-11-08  110,7 MB  262,7 MB  373,3 MB\n350  2023-11-08  110,7 MB  262,7 MB  373,3 MB\n\n[334 rows x 4 columns]",
      "text/html": "<div>\n<style scoped>\n    .dataframe tbody tr th:only-of-type {\n        vertical-align: middle;\n    }\n\n    .dataframe tbody tr th {\n        vertical-align: top;\n    }\n\n    .dataframe thead th {\n        text-align: right;\n    }\n</style>\n<table border=\"1\" class=\"dataframe\">\n  <thead>\n    <tr style=\"text-align: right;\">\n      <th></th>\n      <th>Date</th>\n      <th>Upload</th>\n      <th>Download</th>\n      <th>Total</th>\n    </tr>\n  </thead>\n  <tbody>\n    <tr>\n      <th>0</th>\n      <td>2022-12-21</td>\n      <td>47,7 MB</td>\n      <td>135,3 MB</td>\n      <td>183 MB</td>\n    </tr>\n    <tr>\n      <th>1</th>\n      <td>2022-12-22</td>\n      <td>259 MB</td>\n      <td>447,5 MB</td>\n      <td>706,5 MB</td>\n    </tr>\n    <tr>\n      <th>2</th>\n      <td>2022-12-23</td>\n      <td>263,7 MB</td>\n      <td>552,7 MB</td>\n      <td>816,4 MB</td>\n    </tr>\n    <tr>\n      <th>3</th>\n      <td>2022-12-24</td>\n      <td>275 MB</td>\n      <td>660,4 MB</td>\n      <td>935,4 MB</td>\n    </tr>\n    <tr>\n      <th>4</th>\n      <td>2022-12-25</td>\n      <td>100,6 MB</td>\n      <td>193,6 MB</td>\n      <td>294,2 MB</td>\n    </tr>\n    <tr>\n      <th>...</th>\n      <td>...</td>\n      <td>...</td>\n      <td>...</td>\n      <td>...</td>\n    </tr>\n    <tr>\n      <th>346</th>\n      <td>2023-11-08</td>\n      <td>110,7 MB</td>\n      <td>262,7 MB</td>\n      <td>373,3 MB</td>\n    </tr>\n    <tr>\n      <th>347</th>\n      <td>2023-11-08</td>\n      <td>110,7 MB</td>\n      <td>262,7 MB</td>\n      <td>373,3 MB</td>\n    </tr>\n    <tr>\n      <th>348</th>\n      <td>2023-11-08</td>\n      <td>110,7 MB</td>\n      <td>262,7 MB</td>\n      <td>373,3 MB</td>\n    </tr>\n    <tr>\n      <th>349</th>\n      <td>2023-11-08</td>\n      <td>110,7 MB</td>\n      <td>262,7 MB</td>\n      <td>373,3 MB</td>\n    </tr>\n    <tr>\n      <th>350</th>\n      <td>2023-11-08</td>\n      <td>110,7 MB</td>\n      <td>262,7 MB</td>\n      <td>373,3 MB</td>\n    </tr>\n  </tbody>\n</table>\n<p>334 rows × 4 columns</p>\n</div>"
     },
     "execution_count": 113,
     "metadata": {},
     "output_type": "execute_result"
    }
   ],
   "source": [
    "data.drop(\"Network\", axis=1, inplace=True)\n",
    "\n",
    "data"
   ],
   "metadata": {
    "collapsed": false,
    "ExecuteTime": {
     "end_time": "2023-11-10T12:57:20.190923Z",
     "start_time": "2023-11-10T12:57:20.150631Z"
    }
   },
   "id": "c829542026b4062a"
  },
  {
   "cell_type": "code",
   "execution_count": 114,
   "outputs": [
    {
     "data": {
      "text/plain": "10.5"
     },
     "execution_count": 114,
     "metadata": {},
     "output_type": "execute_result"
    }
   ],
   "source": [
    "float(10.5)"
   ],
   "metadata": {
    "collapsed": false,
    "ExecuteTime": {
     "end_time": "2023-11-10T12:57:20.201012Z",
     "start_time": "2023-11-10T12:57:20.156181Z"
    }
   },
   "id": "d9e3d2bcdd58fa51"
  },
  {
   "cell_type": "code",
   "execution_count": 115,
   "outputs": [
    {
     "data": {
      "text/plain": "0"
     },
     "execution_count": 115,
     "metadata": {},
     "output_type": "execute_result"
    }
   ],
   "source": [
    "def uniform_size(size: str) -> float:\n",
    "    if type(size) == float:\n",
    "        return size\n",
    "    #valiudar o input\n",
    "    try:\n",
    "        #separar tamanho e unidade \"47,7 MB\" -> (\"47,7\", \"MB\") ou [\"47,7\", \"MB\"]\n",
    "        sep = size.split(\" \")\n",
    "        #converter o numero par float\n",
    "        sep[0] = float(sep[0].replace(\",\", \".\"))\n",
    "        #uniformizar o valor, converter tudo para MB\n",
    "        if sep[1].upper() == \"GB\":\n",
    "            res = sep[0] * 1024\n",
    "            return  res\n",
    "        return sep[0]\n",
    "    except:\n",
    "        return 0\n",
    "\n",
    "uniform_size(\"wrewewr\")"
   ],
   "metadata": {
    "collapsed": false,
    "ExecuteTime": {
     "end_time": "2023-11-10T12:57:20.212566Z",
     "start_time": "2023-11-10T12:57:20.160051Z"
    }
   },
   "id": "cd83d2b7c58e7d"
  },
  {
   "cell_type": "code",
   "execution_count": 116,
   "outputs": [
    {
     "data": {
      "text/plain": "           Date  Upload  Download  Total\n0    2022-12-21    47.7     135.3  183.0\n1    2022-12-22   259.0     447.5  706.5\n2    2022-12-23   263.7     552.7  816.4\n3    2022-12-24   275.0     660.4  935.4\n4    2022-12-25   100.6     193.6  294.2\n..          ...     ...       ...    ...\n346  2023-11-08   110.7     262.7  373.3\n347  2023-11-08   110.7     262.7  373.3\n348  2023-11-08   110.7     262.7  373.3\n349  2023-11-08   110.7     262.7  373.3\n350  2023-11-08   110.7     262.7  373.3\n\n[334 rows x 4 columns]",
      "text/html": "<div>\n<style scoped>\n    .dataframe tbody tr th:only-of-type {\n        vertical-align: middle;\n    }\n\n    .dataframe tbody tr th {\n        vertical-align: top;\n    }\n\n    .dataframe thead th {\n        text-align: right;\n    }\n</style>\n<table border=\"1\" class=\"dataframe\">\n  <thead>\n    <tr style=\"text-align: right;\">\n      <th></th>\n      <th>Date</th>\n      <th>Upload</th>\n      <th>Download</th>\n      <th>Total</th>\n    </tr>\n  </thead>\n  <tbody>\n    <tr>\n      <th>0</th>\n      <td>2022-12-21</td>\n      <td>47.7</td>\n      <td>135.3</td>\n      <td>183.0</td>\n    </tr>\n    <tr>\n      <th>1</th>\n      <td>2022-12-22</td>\n      <td>259.0</td>\n      <td>447.5</td>\n      <td>706.5</td>\n    </tr>\n    <tr>\n      <th>2</th>\n      <td>2022-12-23</td>\n      <td>263.7</td>\n      <td>552.7</td>\n      <td>816.4</td>\n    </tr>\n    <tr>\n      <th>3</th>\n      <td>2022-12-24</td>\n      <td>275.0</td>\n      <td>660.4</td>\n      <td>935.4</td>\n    </tr>\n    <tr>\n      <th>4</th>\n      <td>2022-12-25</td>\n      <td>100.6</td>\n      <td>193.6</td>\n      <td>294.2</td>\n    </tr>\n    <tr>\n      <th>...</th>\n      <td>...</td>\n      <td>...</td>\n      <td>...</td>\n      <td>...</td>\n    </tr>\n    <tr>\n      <th>346</th>\n      <td>2023-11-08</td>\n      <td>110.7</td>\n      <td>262.7</td>\n      <td>373.3</td>\n    </tr>\n    <tr>\n      <th>347</th>\n      <td>2023-11-08</td>\n      <td>110.7</td>\n      <td>262.7</td>\n      <td>373.3</td>\n    </tr>\n    <tr>\n      <th>348</th>\n      <td>2023-11-08</td>\n      <td>110.7</td>\n      <td>262.7</td>\n      <td>373.3</td>\n    </tr>\n    <tr>\n      <th>349</th>\n      <td>2023-11-08</td>\n      <td>110.7</td>\n      <td>262.7</td>\n      <td>373.3</td>\n    </tr>\n    <tr>\n      <th>350</th>\n      <td>2023-11-08</td>\n      <td>110.7</td>\n      <td>262.7</td>\n      <td>373.3</td>\n    </tr>\n  </tbody>\n</table>\n<p>334 rows × 4 columns</p>\n</div>"
     },
     "execution_count": 116,
     "metadata": {},
     "output_type": "execute_result"
    }
   ],
   "source": [
    "data.Upload = data.apply(lambda x: uniform_size(x.Upload), axis = 1)\n",
    "data.Download = data.apply(lambda x: uniform_size(x.Download), axis = 1)\n",
    "data.Total = data.apply(lambda x: uniform_size(x.Total), axis = 1)\n",
    "\n",
    "data"
   ],
   "metadata": {
    "collapsed": false,
    "ExecuteTime": {
     "end_time": "2023-11-10T12:57:20.234873Z",
     "start_time": "2023-11-10T12:57:20.165221Z"
    }
   },
   "id": "9521519b213ad91d"
  },
  {
   "cell_type": "code",
   "execution_count": 117,
   "outputs": [
    {
     "data": {
      "text/plain": "Date\n2023-11-08    8\n2023-01-04    2\n2023-09-23    2\n2023-09-22    2\n2023-04-25    2\n             ..\n2023-04-11    1\n2023-04-10    1\n2023-04-09    1\n2023-04-08    1\n2023-05-29    1\nName: count, Length: 313, dtype: int64"
     },
     "execution_count": 117,
     "metadata": {},
     "output_type": "execute_result"
    }
   ],
   "source": [
    "data.Date.value_counts()"
   ],
   "metadata": {
    "collapsed": false,
    "ExecuteTime": {
     "end_time": "2023-11-10T12:57:20.237757Z",
     "start_time": "2023-11-10T12:57:20.191043Z"
    }
   },
   "id": "863c41e18c200aa1"
  },
  {
   "cell_type": "code",
   "execution_count": 118,
   "outputs": [
    {
     "data": {
      "text/plain": "            Upload  Download    Total\nDate                                 \n2022-12-21    47.7    135.30   183.00\n2022-12-22   259.0    447.50   706.50\n2022-12-23   263.7    552.70   816.40\n2022-12-24   275.0    660.40   935.40\n2022-12-25   100.6    193.60   294.20\n...            ...       ...      ...\n2023-11-04   180.4    826.40  1034.24\n2023-11-05   441.5   3645.44  4096.00\n2023-11-06   949.8   6297.60  7270.40\n2023-11-07   754.0   1331.20  2109.44\n2023-11-08   885.6   2101.60  2986.40\n\n[313 rows x 3 columns]",
      "text/html": "<div>\n<style scoped>\n    .dataframe tbody tr th:only-of-type {\n        vertical-align: middle;\n    }\n\n    .dataframe tbody tr th {\n        vertical-align: top;\n    }\n\n    .dataframe thead th {\n        text-align: right;\n    }\n</style>\n<table border=\"1\" class=\"dataframe\">\n  <thead>\n    <tr style=\"text-align: right;\">\n      <th></th>\n      <th>Upload</th>\n      <th>Download</th>\n      <th>Total</th>\n    </tr>\n    <tr>\n      <th>Date</th>\n      <th></th>\n      <th></th>\n      <th></th>\n    </tr>\n  </thead>\n  <tbody>\n    <tr>\n      <th>2022-12-21</th>\n      <td>47.7</td>\n      <td>135.30</td>\n      <td>183.00</td>\n    </tr>\n    <tr>\n      <th>2022-12-22</th>\n      <td>259.0</td>\n      <td>447.50</td>\n      <td>706.50</td>\n    </tr>\n    <tr>\n      <th>2022-12-23</th>\n      <td>263.7</td>\n      <td>552.70</td>\n      <td>816.40</td>\n    </tr>\n    <tr>\n      <th>2022-12-24</th>\n      <td>275.0</td>\n      <td>660.40</td>\n      <td>935.40</td>\n    </tr>\n    <tr>\n      <th>2022-12-25</th>\n      <td>100.6</td>\n      <td>193.60</td>\n      <td>294.20</td>\n    </tr>\n    <tr>\n      <th>...</th>\n      <td>...</td>\n      <td>...</td>\n      <td>...</td>\n    </tr>\n    <tr>\n      <th>2023-11-04</th>\n      <td>180.4</td>\n      <td>826.40</td>\n      <td>1034.24</td>\n    </tr>\n    <tr>\n      <th>2023-11-05</th>\n      <td>441.5</td>\n      <td>3645.44</td>\n      <td>4096.00</td>\n    </tr>\n    <tr>\n      <th>2023-11-06</th>\n      <td>949.8</td>\n      <td>6297.60</td>\n      <td>7270.40</td>\n    </tr>\n    <tr>\n      <th>2023-11-07</th>\n      <td>754.0</td>\n      <td>1331.20</td>\n      <td>2109.44</td>\n    </tr>\n    <tr>\n      <th>2023-11-08</th>\n      <td>885.6</td>\n      <td>2101.60</td>\n      <td>2986.40</td>\n    </tr>\n  </tbody>\n</table>\n<p>313 rows × 3 columns</p>\n</div>"
     },
     "execution_count": 118,
     "metadata": {},
     "output_type": "execute_result"
    }
   ],
   "source": [
    "data = data.groupby(\"Date\").sum()\n",
    "data"
   ],
   "metadata": {
    "collapsed": false,
    "ExecuteTime": {
     "end_time": "2023-11-10T12:57:20.239369Z",
     "start_time": "2023-11-10T12:57:20.198460Z"
    }
   },
   "id": "84c5cf72ff08eb84"
  },
  {
   "cell_type": "code",
   "execution_count": 119,
   "outputs": [
    {
     "data": {
      "text/plain": "str"
     },
     "execution_count": 119,
     "metadata": {},
     "output_type": "execute_result"
    }
   ],
   "source": [
    "type(data.index[0])"
   ],
   "metadata": {
    "collapsed": false,
    "ExecuteTime": {
     "end_time": "2023-11-10T12:57:20.277452Z",
     "start_time": "2023-11-10T12:57:20.212697Z"
    }
   },
   "id": "76c38c23ba7bccc6"
  },
  {
   "cell_type": "code",
   "execution_count": 120,
   "outputs": [],
   "source": [
    "def strToDate(date_str:str):\n",
    "    \n",
    "    split_date = date_str.split(\"-\")\n",
    "    myDate = datetime.date(int(split_date[0]),int(split_date[1]), int(split_date[2]))\n",
    "    return myDate"
   ],
   "metadata": {
    "collapsed": false,
    "ExecuteTime": {
     "end_time": "2023-11-10T12:57:20.304567Z",
     "start_time": "2023-11-10T12:57:20.218451Z"
    }
   },
   "id": "c0bcb322055cf15f"
  },
  {
   "cell_type": "code",
   "execution_count": 121,
   "outputs": [],
   "source": [
    "data.index = data.index.map(lambda x: strToDate(x))"
   ],
   "metadata": {
    "collapsed": false,
    "ExecuteTime": {
     "end_time": "2023-11-10T12:57:20.317423Z",
     "start_time": "2023-11-10T12:57:20.224335Z"
    }
   },
   "id": "b63862d9e044d647"
  },
  {
   "cell_type": "code",
   "execution_count": 123,
   "outputs": [
    {
     "data": {
      "text/plain": "datetime.date"
     },
     "execution_count": 123,
     "metadata": {},
     "output_type": "execute_result"
    }
   ],
   "source": [
    "type(data.index[0])"
   ],
   "metadata": {
    "collapsed": false,
    "ExecuteTime": {
     "end_time": "2023-11-10T12:57:47.258954Z",
     "start_time": "2023-11-10T12:57:47.254511Z"
    }
   },
   "id": "4b2f94a7c0ab8abb"
  }
 ],
 "metadata": {
  "kernelspec": {
   "display_name": "Python 3",
   "language": "python",
   "name": "python3"
  },
  "language_info": {
   "codemirror_mode": {
    "name": "ipython",
    "version": 2
   },
   "file_extension": ".py",
   "mimetype": "text/x-python",
   "name": "python",
   "nbconvert_exporter": "python",
   "pygments_lexer": "ipython2",
   "version": "2.7.6"
  }
 },
 "nbformat": 4,
 "nbformat_minor": 5
}
