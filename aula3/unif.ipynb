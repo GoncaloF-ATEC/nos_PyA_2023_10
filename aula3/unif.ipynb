{
 "cells": [
  {
   "cell_type": "code",
   "execution_count": 264,
   "id": "initial_id",
   "metadata": {
    "collapsed": true,
    "ExecuteTime": {
     "end_time": "2023-11-13T10:25:49.904963Z",
     "start_time": "2023-11-13T10:25:49.835914Z"
    }
   },
   "outputs": [],
   "source": [
    "import pandas as pd\n",
    "import datetime"
   ]
  },
  {
   "cell_type": "code",
   "execution_count": 265,
   "outputs": [
    {
     "data": {
      "text/plain": "           Date     Network    Upload  Download     Total\n0    2022-12-21  NOS-F368-5   47,7 MB  135,3 MB    183 MB\n1    2022-12-22  NOS-F368-5    259 MB  447,5 MB  706,5 MB\n2    2022-12-23  NOS-F368-5  263,7 MB  552,7 MB  816,4 MB\n3    2022-12-24  NOS-F368-5    275 MB  660,4 MB  935,4 MB\n4    2022-12-25  NOS-F368-5  100,6 MB  193,6 MB  294,2 MB\n..          ...         ...       ...       ...       ...\n346  2023-11-08       Wi-Fi  110,7 MB  262,7 MB  373,3 MB\n347  2023-11-08       Wi-Fi  110,7 MB  262,7 MB  373,3 MB\n348  2023-11-08       Wi-Fi  110,7 MB  262,7 MB  373,3 MB\n349  2023-11-08       Wi-Fi  110,7 MB  262,7 MB  373,3 MB\n350  2023-11-08       Wi-Fi  110,7 MB  262,7 MB  373,3 MB\n\n[351 rows x 5 columns]",
      "text/html": "<div>\n<style scoped>\n    .dataframe tbody tr th:only-of-type {\n        vertical-align: middle;\n    }\n\n    .dataframe tbody tr th {\n        vertical-align: top;\n    }\n\n    .dataframe thead th {\n        text-align: right;\n    }\n</style>\n<table border=\"1\" class=\"dataframe\">\n  <thead>\n    <tr style=\"text-align: right;\">\n      <th></th>\n      <th>Date</th>\n      <th>Network</th>\n      <th>Upload</th>\n      <th>Download</th>\n      <th>Total</th>\n    </tr>\n  </thead>\n  <tbody>\n    <tr>\n      <th>0</th>\n      <td>2022-12-21</td>\n      <td>NOS-F368-5</td>\n      <td>47,7 MB</td>\n      <td>135,3 MB</td>\n      <td>183 MB</td>\n    </tr>\n    <tr>\n      <th>1</th>\n      <td>2022-12-22</td>\n      <td>NOS-F368-5</td>\n      <td>259 MB</td>\n      <td>447,5 MB</td>\n      <td>706,5 MB</td>\n    </tr>\n    <tr>\n      <th>2</th>\n      <td>2022-12-23</td>\n      <td>NOS-F368-5</td>\n      <td>263,7 MB</td>\n      <td>552,7 MB</td>\n      <td>816,4 MB</td>\n    </tr>\n    <tr>\n      <th>3</th>\n      <td>2022-12-24</td>\n      <td>NOS-F368-5</td>\n      <td>275 MB</td>\n      <td>660,4 MB</td>\n      <td>935,4 MB</td>\n    </tr>\n    <tr>\n      <th>4</th>\n      <td>2022-12-25</td>\n      <td>NOS-F368-5</td>\n      <td>100,6 MB</td>\n      <td>193,6 MB</td>\n      <td>294,2 MB</td>\n    </tr>\n    <tr>\n      <th>...</th>\n      <td>...</td>\n      <td>...</td>\n      <td>...</td>\n      <td>...</td>\n      <td>...</td>\n    </tr>\n    <tr>\n      <th>346</th>\n      <td>2023-11-08</td>\n      <td>Wi-Fi</td>\n      <td>110,7 MB</td>\n      <td>262,7 MB</td>\n      <td>373,3 MB</td>\n    </tr>\n    <tr>\n      <th>347</th>\n      <td>2023-11-08</td>\n      <td>Wi-Fi</td>\n      <td>110,7 MB</td>\n      <td>262,7 MB</td>\n      <td>373,3 MB</td>\n    </tr>\n    <tr>\n      <th>348</th>\n      <td>2023-11-08</td>\n      <td>Wi-Fi</td>\n      <td>110,7 MB</td>\n      <td>262,7 MB</td>\n      <td>373,3 MB</td>\n    </tr>\n    <tr>\n      <th>349</th>\n      <td>2023-11-08</td>\n      <td>Wi-Fi</td>\n      <td>110,7 MB</td>\n      <td>262,7 MB</td>\n      <td>373,3 MB</td>\n    </tr>\n    <tr>\n      <th>350</th>\n      <td>2023-11-08</td>\n      <td>Wi-Fi</td>\n      <td>110,7 MB</td>\n      <td>262,7 MB</td>\n      <td>373,3 MB</td>\n    </tr>\n  </tbody>\n</table>\n<p>351 rows × 5 columns</p>\n</div>"
     },
     "execution_count": 265,
     "metadata": {},
     "output_type": "execute_result"
    }
   ],
   "source": [
    "data = pd.read_csv(\"Network.csv\")\n",
    "\n",
    "data"
   ],
   "metadata": {
    "collapsed": false,
    "ExecuteTime": {
     "end_time": "2023-11-13T10:25:49.919947Z",
     "start_time": "2023-11-13T10:25:49.838738Z"
    }
   },
   "id": "7687611203307f54"
  },
  {
   "cell_type": "code",
   "execution_count": 266,
   "outputs": [
    {
     "data": {
      "text/plain": "0      False\n1      False\n2      False\n3      False\n4      False\n       ...  \n346    False\n347    False\n348    False\n349    False\n350    False\nName: Upload, Length: 351, dtype: bool"
     },
     "execution_count": 266,
     "metadata": {},
     "output_type": "execute_result"
    }
   ],
   "source": [
    "linha = data.Upload.str.contains(\"KB\")\n",
    "linha"
   ],
   "metadata": {
    "collapsed": false,
    "ExecuteTime": {
     "end_time": "2023-11-13T10:25:49.959931Z",
     "start_time": "2023-11-13T10:25:49.851737Z"
    }
   },
   "id": "bf71d4f1b0675c47"
  },
  {
   "cell_type": "code",
   "execution_count": 267,
   "outputs": [
    {
     "data": {
      "text/plain": "Index([ 54,  59, 110, 125, 138, 144, 162, 192, 203, 244, 255, 258, 260, 265,\n       268, 275, 278],\n      dtype='int64')"
     },
     "execution_count": 267,
     "metadata": {},
     "output_type": "execute_result"
    }
   ],
   "source": [
    "i = data[linha].index\n",
    "i"
   ],
   "metadata": {
    "collapsed": false,
    "ExecuteTime": {
     "end_time": "2023-11-13T10:25:49.962078Z",
     "start_time": "2023-11-13T10:25:49.858288Z"
    }
   },
   "id": "c3c627e8e9b23c15"
  },
  {
   "cell_type": "code",
   "execution_count": 268,
   "outputs": [
    {
     "data": {
      "text/plain": "           Date     Network    Upload  Download     Total\n0    2022-12-21  NOS-F368-5   47,7 MB  135,3 MB    183 MB\n1    2022-12-22  NOS-F368-5    259 MB  447,5 MB  706,5 MB\n2    2022-12-23  NOS-F368-5  263,7 MB  552,7 MB  816,4 MB\n3    2022-12-24  NOS-F368-5    275 MB  660,4 MB  935,4 MB\n4    2022-12-25  NOS-F368-5  100,6 MB  193,6 MB  294,2 MB\n..          ...         ...       ...       ...       ...\n346  2023-11-08       Wi-Fi  110,7 MB  262,7 MB  373,3 MB\n347  2023-11-08       Wi-Fi  110,7 MB  262,7 MB  373,3 MB\n348  2023-11-08       Wi-Fi  110,7 MB  262,7 MB  373,3 MB\n349  2023-11-08       Wi-Fi  110,7 MB  262,7 MB  373,3 MB\n350  2023-11-08       Wi-Fi  110,7 MB  262,7 MB  373,3 MB\n\n[334 rows x 5 columns]",
      "text/html": "<div>\n<style scoped>\n    .dataframe tbody tr th:only-of-type {\n        vertical-align: middle;\n    }\n\n    .dataframe tbody tr th {\n        vertical-align: top;\n    }\n\n    .dataframe thead th {\n        text-align: right;\n    }\n</style>\n<table border=\"1\" class=\"dataframe\">\n  <thead>\n    <tr style=\"text-align: right;\">\n      <th></th>\n      <th>Date</th>\n      <th>Network</th>\n      <th>Upload</th>\n      <th>Download</th>\n      <th>Total</th>\n    </tr>\n  </thead>\n  <tbody>\n    <tr>\n      <th>0</th>\n      <td>2022-12-21</td>\n      <td>NOS-F368-5</td>\n      <td>47,7 MB</td>\n      <td>135,3 MB</td>\n      <td>183 MB</td>\n    </tr>\n    <tr>\n      <th>1</th>\n      <td>2022-12-22</td>\n      <td>NOS-F368-5</td>\n      <td>259 MB</td>\n      <td>447,5 MB</td>\n      <td>706,5 MB</td>\n    </tr>\n    <tr>\n      <th>2</th>\n      <td>2022-12-23</td>\n      <td>NOS-F368-5</td>\n      <td>263,7 MB</td>\n      <td>552,7 MB</td>\n      <td>816,4 MB</td>\n    </tr>\n    <tr>\n      <th>3</th>\n      <td>2022-12-24</td>\n      <td>NOS-F368-5</td>\n      <td>275 MB</td>\n      <td>660,4 MB</td>\n      <td>935,4 MB</td>\n    </tr>\n    <tr>\n      <th>4</th>\n      <td>2022-12-25</td>\n      <td>NOS-F368-5</td>\n      <td>100,6 MB</td>\n      <td>193,6 MB</td>\n      <td>294,2 MB</td>\n    </tr>\n    <tr>\n      <th>...</th>\n      <td>...</td>\n      <td>...</td>\n      <td>...</td>\n      <td>...</td>\n      <td>...</td>\n    </tr>\n    <tr>\n      <th>346</th>\n      <td>2023-11-08</td>\n      <td>Wi-Fi</td>\n      <td>110,7 MB</td>\n      <td>262,7 MB</td>\n      <td>373,3 MB</td>\n    </tr>\n    <tr>\n      <th>347</th>\n      <td>2023-11-08</td>\n      <td>Wi-Fi</td>\n      <td>110,7 MB</td>\n      <td>262,7 MB</td>\n      <td>373,3 MB</td>\n    </tr>\n    <tr>\n      <th>348</th>\n      <td>2023-11-08</td>\n      <td>Wi-Fi</td>\n      <td>110,7 MB</td>\n      <td>262,7 MB</td>\n      <td>373,3 MB</td>\n    </tr>\n    <tr>\n      <th>349</th>\n      <td>2023-11-08</td>\n      <td>Wi-Fi</td>\n      <td>110,7 MB</td>\n      <td>262,7 MB</td>\n      <td>373,3 MB</td>\n    </tr>\n    <tr>\n      <th>350</th>\n      <td>2023-11-08</td>\n      <td>Wi-Fi</td>\n      <td>110,7 MB</td>\n      <td>262,7 MB</td>\n      <td>373,3 MB</td>\n    </tr>\n  </tbody>\n</table>\n<p>334 rows × 5 columns</p>\n</div>"
     },
     "execution_count": 268,
     "metadata": {},
     "output_type": "execute_result"
    }
   ],
   "source": [
    "data.drop(i, inplace=True)\n",
    "\n",
    "data"
   ],
   "metadata": {
    "collapsed": false,
    "ExecuteTime": {
     "end_time": "2023-11-13T10:25:49.962793Z",
     "start_time": "2023-11-13T10:25:49.864958Z"
    }
   },
   "id": "8a11e6b4a3805e02"
  },
  {
   "cell_type": "code",
   "execution_count": 269,
   "outputs": [
    {
     "data": {
      "text/plain": "           Date    Upload  Download     Total\n0    2022-12-21   47,7 MB  135,3 MB    183 MB\n1    2022-12-22    259 MB  447,5 MB  706,5 MB\n2    2022-12-23  263,7 MB  552,7 MB  816,4 MB\n3    2022-12-24    275 MB  660,4 MB  935,4 MB\n4    2022-12-25  100,6 MB  193,6 MB  294,2 MB\n..          ...       ...       ...       ...\n346  2023-11-08  110,7 MB  262,7 MB  373,3 MB\n347  2023-11-08  110,7 MB  262,7 MB  373,3 MB\n348  2023-11-08  110,7 MB  262,7 MB  373,3 MB\n349  2023-11-08  110,7 MB  262,7 MB  373,3 MB\n350  2023-11-08  110,7 MB  262,7 MB  373,3 MB\n\n[334 rows x 4 columns]",
      "text/html": "<div>\n<style scoped>\n    .dataframe tbody tr th:only-of-type {\n        vertical-align: middle;\n    }\n\n    .dataframe tbody tr th {\n        vertical-align: top;\n    }\n\n    .dataframe thead th {\n        text-align: right;\n    }\n</style>\n<table border=\"1\" class=\"dataframe\">\n  <thead>\n    <tr style=\"text-align: right;\">\n      <th></th>\n      <th>Date</th>\n      <th>Upload</th>\n      <th>Download</th>\n      <th>Total</th>\n    </tr>\n  </thead>\n  <tbody>\n    <tr>\n      <th>0</th>\n      <td>2022-12-21</td>\n      <td>47,7 MB</td>\n      <td>135,3 MB</td>\n      <td>183 MB</td>\n    </tr>\n    <tr>\n      <th>1</th>\n      <td>2022-12-22</td>\n      <td>259 MB</td>\n      <td>447,5 MB</td>\n      <td>706,5 MB</td>\n    </tr>\n    <tr>\n      <th>2</th>\n      <td>2022-12-23</td>\n      <td>263,7 MB</td>\n      <td>552,7 MB</td>\n      <td>816,4 MB</td>\n    </tr>\n    <tr>\n      <th>3</th>\n      <td>2022-12-24</td>\n      <td>275 MB</td>\n      <td>660,4 MB</td>\n      <td>935,4 MB</td>\n    </tr>\n    <tr>\n      <th>4</th>\n      <td>2022-12-25</td>\n      <td>100,6 MB</td>\n      <td>193,6 MB</td>\n      <td>294,2 MB</td>\n    </tr>\n    <tr>\n      <th>...</th>\n      <td>...</td>\n      <td>...</td>\n      <td>...</td>\n      <td>...</td>\n    </tr>\n    <tr>\n      <th>346</th>\n      <td>2023-11-08</td>\n      <td>110,7 MB</td>\n      <td>262,7 MB</td>\n      <td>373,3 MB</td>\n    </tr>\n    <tr>\n      <th>347</th>\n      <td>2023-11-08</td>\n      <td>110,7 MB</td>\n      <td>262,7 MB</td>\n      <td>373,3 MB</td>\n    </tr>\n    <tr>\n      <th>348</th>\n      <td>2023-11-08</td>\n      <td>110,7 MB</td>\n      <td>262,7 MB</td>\n      <td>373,3 MB</td>\n    </tr>\n    <tr>\n      <th>349</th>\n      <td>2023-11-08</td>\n      <td>110,7 MB</td>\n      <td>262,7 MB</td>\n      <td>373,3 MB</td>\n    </tr>\n    <tr>\n      <th>350</th>\n      <td>2023-11-08</td>\n      <td>110,7 MB</td>\n      <td>262,7 MB</td>\n      <td>373,3 MB</td>\n    </tr>\n  </tbody>\n</table>\n<p>334 rows × 4 columns</p>\n</div>"
     },
     "execution_count": 269,
     "metadata": {},
     "output_type": "execute_result"
    }
   ],
   "source": [
    "data.drop(\"Network\", axis=1, inplace=True)\n",
    "\n",
    "data"
   ],
   "metadata": {
    "collapsed": false,
    "ExecuteTime": {
     "end_time": "2023-11-13T10:25:49.963106Z",
     "start_time": "2023-11-13T10:25:49.881145Z"
    }
   },
   "id": "c829542026b4062a"
  },
  {
   "cell_type": "code",
   "execution_count": 270,
   "outputs": [
    {
     "data": {
      "text/plain": "10.5"
     },
     "execution_count": 270,
     "metadata": {},
     "output_type": "execute_result"
    }
   ],
   "source": [
    "float(10.5)"
   ],
   "metadata": {
    "collapsed": false,
    "ExecuteTime": {
     "end_time": "2023-11-13T10:25:49.963241Z",
     "start_time": "2023-11-13T10:25:49.884727Z"
    }
   },
   "id": "d9e3d2bcdd58fa51"
  },
  {
   "cell_type": "code",
   "execution_count": 271,
   "outputs": [
    {
     "data": {
      "text/plain": "0"
     },
     "execution_count": 271,
     "metadata": {},
     "output_type": "execute_result"
    }
   ],
   "source": [
    "mbToGb = 1024\n",
    "\n",
    "def uniform_size(size: str) -> float:\n",
    "    if type(size) == float:\n",
    "        return size\n",
    "    #valiudar o input\n",
    "    try:\n",
    "        #separar tamanho e unidade \"47,7 MB\" -> (\"47,7\", \"MB\") ou [\"47,7\", \"MB\"]\n",
    "        sep = size.split(\" \")\n",
    "        #converter o numero par float\n",
    "        sep[0] = float(sep[0].replace(\",\", \".\"))\n",
    "        #uniformizar o valor, converter tudo para MB\n",
    "        if sep[1].upper() == \"GB\":\n",
    "            res = sep[0] * mbToGb\n",
    "            return  res\n",
    "        return sep[0]\n",
    "    except:\n",
    "        return 0\n",
    "\n",
    "uniform_size(\"wrewewr\")"
   ],
   "metadata": {
    "collapsed": false,
    "ExecuteTime": {
     "end_time": "2023-11-13T10:25:49.963643Z",
     "start_time": "2023-11-13T10:25:49.889197Z"
    }
   },
   "id": "cd83d2b7c58e7d"
  },
  {
   "cell_type": "code",
   "execution_count": 272,
   "outputs": [
    {
     "data": {
      "text/plain": "           Date  Upload  Download  Total\n0    2022-12-21    47.7     135.3  183.0\n1    2022-12-22   259.0     447.5  706.5\n2    2022-12-23   263.7     552.7  816.4\n3    2022-12-24   275.0     660.4  935.4\n4    2022-12-25   100.6     193.6  294.2\n..          ...     ...       ...    ...\n346  2023-11-08   110.7     262.7  373.3\n347  2023-11-08   110.7     262.7  373.3\n348  2023-11-08   110.7     262.7  373.3\n349  2023-11-08   110.7     262.7  373.3\n350  2023-11-08   110.7     262.7  373.3\n\n[334 rows x 4 columns]",
      "text/html": "<div>\n<style scoped>\n    .dataframe tbody tr th:only-of-type {\n        vertical-align: middle;\n    }\n\n    .dataframe tbody tr th {\n        vertical-align: top;\n    }\n\n    .dataframe thead th {\n        text-align: right;\n    }\n</style>\n<table border=\"1\" class=\"dataframe\">\n  <thead>\n    <tr style=\"text-align: right;\">\n      <th></th>\n      <th>Date</th>\n      <th>Upload</th>\n      <th>Download</th>\n      <th>Total</th>\n    </tr>\n  </thead>\n  <tbody>\n    <tr>\n      <th>0</th>\n      <td>2022-12-21</td>\n      <td>47.7</td>\n      <td>135.3</td>\n      <td>183.0</td>\n    </tr>\n    <tr>\n      <th>1</th>\n      <td>2022-12-22</td>\n      <td>259.0</td>\n      <td>447.5</td>\n      <td>706.5</td>\n    </tr>\n    <tr>\n      <th>2</th>\n      <td>2022-12-23</td>\n      <td>263.7</td>\n      <td>552.7</td>\n      <td>816.4</td>\n    </tr>\n    <tr>\n      <th>3</th>\n      <td>2022-12-24</td>\n      <td>275.0</td>\n      <td>660.4</td>\n      <td>935.4</td>\n    </tr>\n    <tr>\n      <th>4</th>\n      <td>2022-12-25</td>\n      <td>100.6</td>\n      <td>193.6</td>\n      <td>294.2</td>\n    </tr>\n    <tr>\n      <th>...</th>\n      <td>...</td>\n      <td>...</td>\n      <td>...</td>\n      <td>...</td>\n    </tr>\n    <tr>\n      <th>346</th>\n      <td>2023-11-08</td>\n      <td>110.7</td>\n      <td>262.7</td>\n      <td>373.3</td>\n    </tr>\n    <tr>\n      <th>347</th>\n      <td>2023-11-08</td>\n      <td>110.7</td>\n      <td>262.7</td>\n      <td>373.3</td>\n    </tr>\n    <tr>\n      <th>348</th>\n      <td>2023-11-08</td>\n      <td>110.7</td>\n      <td>262.7</td>\n      <td>373.3</td>\n    </tr>\n    <tr>\n      <th>349</th>\n      <td>2023-11-08</td>\n      <td>110.7</td>\n      <td>262.7</td>\n      <td>373.3</td>\n    </tr>\n    <tr>\n      <th>350</th>\n      <td>2023-11-08</td>\n      <td>110.7</td>\n      <td>262.7</td>\n      <td>373.3</td>\n    </tr>\n  </tbody>\n</table>\n<p>334 rows × 4 columns</p>\n</div>"
     },
     "execution_count": 272,
     "metadata": {},
     "output_type": "execute_result"
    }
   ],
   "source": [
    "data.Upload = data.apply(lambda x: uniform_size(x.Upload), axis = 1)\n",
    "data.Download = data.apply(lambda x: uniform_size(x.Download), axis = 1)\n",
    "data.Total = data.apply(lambda x: uniform_size(x.Total), axis = 1)\n",
    "\n",
    "data"
   ],
   "metadata": {
    "collapsed": false,
    "ExecuteTime": {
     "end_time": "2023-11-13T10:25:49.977688Z",
     "start_time": "2023-11-13T10:25:49.908931Z"
    }
   },
   "id": "9521519b213ad91d"
  },
  {
   "cell_type": "code",
   "execution_count": 272,
   "outputs": [],
   "source": [],
   "metadata": {
    "collapsed": false,
    "ExecuteTime": {
     "end_time": "2023-11-13T10:25:49.977799Z",
     "start_time": "2023-11-13T10:25:49.915048Z"
    }
   },
   "id": "3127fa2faa054da6"
  },
  {
   "cell_type": "code",
   "execution_count": 273,
   "outputs": [
    {
     "data": {
      "text/plain": "Date\n2023-11-08    8\n2023-01-04    2\n2023-09-23    2\n2023-09-22    2\n2023-04-25    2\n             ..\n2023-04-11    1\n2023-04-10    1\n2023-04-09    1\n2023-04-08    1\n2023-05-29    1\nName: count, Length: 313, dtype: int64"
     },
     "execution_count": 273,
     "metadata": {},
     "output_type": "execute_result"
    }
   ],
   "source": [
    "data.Date.value_counts()"
   ],
   "metadata": {
    "collapsed": false,
    "ExecuteTime": {
     "end_time": "2023-11-13T10:25:49.995749Z",
     "start_time": "2023-11-13T10:25:49.918318Z"
    }
   },
   "id": "863c41e18c200aa1"
  },
  {
   "cell_type": "code",
   "execution_count": 274,
   "outputs": [
    {
     "data": {
      "text/plain": "            Upload  Download    Total\nDate                                 \n2022-12-21    47.7    135.30   183.00\n2022-12-22   259.0    447.50   706.50\n2022-12-23   263.7    552.70   816.40\n2022-12-24   275.0    660.40   935.40\n2022-12-25   100.6    193.60   294.20\n...            ...       ...      ...\n2023-11-04   180.4    826.40  1034.24\n2023-11-05   441.5   3645.44  4096.00\n2023-11-06   949.8   6297.60  7270.40\n2023-11-07   754.0   1331.20  2109.44\n2023-11-08   885.6   2101.60  2986.40\n\n[313 rows x 3 columns]",
      "text/html": "<div>\n<style scoped>\n    .dataframe tbody tr th:only-of-type {\n        vertical-align: middle;\n    }\n\n    .dataframe tbody tr th {\n        vertical-align: top;\n    }\n\n    .dataframe thead th {\n        text-align: right;\n    }\n</style>\n<table border=\"1\" class=\"dataframe\">\n  <thead>\n    <tr style=\"text-align: right;\">\n      <th></th>\n      <th>Upload</th>\n      <th>Download</th>\n      <th>Total</th>\n    </tr>\n    <tr>\n      <th>Date</th>\n      <th></th>\n      <th></th>\n      <th></th>\n    </tr>\n  </thead>\n  <tbody>\n    <tr>\n      <th>2022-12-21</th>\n      <td>47.7</td>\n      <td>135.30</td>\n      <td>183.00</td>\n    </tr>\n    <tr>\n      <th>2022-12-22</th>\n      <td>259.0</td>\n      <td>447.50</td>\n      <td>706.50</td>\n    </tr>\n    <tr>\n      <th>2022-12-23</th>\n      <td>263.7</td>\n      <td>552.70</td>\n      <td>816.40</td>\n    </tr>\n    <tr>\n      <th>2022-12-24</th>\n      <td>275.0</td>\n      <td>660.40</td>\n      <td>935.40</td>\n    </tr>\n    <tr>\n      <th>2022-12-25</th>\n      <td>100.6</td>\n      <td>193.60</td>\n      <td>294.20</td>\n    </tr>\n    <tr>\n      <th>...</th>\n      <td>...</td>\n      <td>...</td>\n      <td>...</td>\n    </tr>\n    <tr>\n      <th>2023-11-04</th>\n      <td>180.4</td>\n      <td>826.40</td>\n      <td>1034.24</td>\n    </tr>\n    <tr>\n      <th>2023-11-05</th>\n      <td>441.5</td>\n      <td>3645.44</td>\n      <td>4096.00</td>\n    </tr>\n    <tr>\n      <th>2023-11-06</th>\n      <td>949.8</td>\n      <td>6297.60</td>\n      <td>7270.40</td>\n    </tr>\n    <tr>\n      <th>2023-11-07</th>\n      <td>754.0</td>\n      <td>1331.20</td>\n      <td>2109.44</td>\n    </tr>\n    <tr>\n      <th>2023-11-08</th>\n      <td>885.6</td>\n      <td>2101.60</td>\n      <td>2986.40</td>\n    </tr>\n  </tbody>\n</table>\n<p>313 rows × 3 columns</p>\n</div>"
     },
     "execution_count": 274,
     "metadata": {},
     "output_type": "execute_result"
    }
   ],
   "source": [
    "data = data.groupby(\"Date\").sum()\n",
    "data"
   ],
   "metadata": {
    "collapsed": false,
    "ExecuteTime": {
     "end_time": "2023-11-13T10:25:50.005740Z",
     "start_time": "2023-11-13T10:25:49.925495Z"
    }
   },
   "id": "84c5cf72ff08eb84"
  },
  {
   "cell_type": "code",
   "execution_count": 275,
   "outputs": [
    {
     "data": {
      "text/plain": "str"
     },
     "execution_count": 275,
     "metadata": {},
     "output_type": "execute_result"
    }
   ],
   "source": [
    "type(data.index[0])"
   ],
   "metadata": {
    "collapsed": false,
    "ExecuteTime": {
     "end_time": "2023-11-13T10:25:50.006012Z",
     "start_time": "2023-11-13T10:25:49.936385Z"
    }
   },
   "id": "76c38c23ba7bccc6"
  },
  {
   "cell_type": "code",
   "execution_count": 276,
   "outputs": [],
   "source": [
    "def strToDate(date_str:str):\n",
    "    \n",
    "    split_date = date_str.split(\"-\")\n",
    "    myDate = datetime.date(int(split_date[0]),int(split_date[1]), int(split_date[2]))\n",
    "    return myDate"
   ],
   "metadata": {
    "collapsed": false,
    "ExecuteTime": {
     "end_time": "2023-11-13T10:25:50.006110Z",
     "start_time": "2023-11-13T10:25:49.944930Z"
    }
   },
   "id": "c0bcb322055cf15f"
  },
  {
   "cell_type": "code",
   "execution_count": 277,
   "outputs": [],
   "source": [
    "data.index = data.index.map(lambda x: strToDate(x))"
   ],
   "metadata": {
    "collapsed": false,
    "ExecuteTime": {
     "end_time": "2023-11-13T10:25:50.006180Z",
     "start_time": "2023-11-13T10:25:49.950038Z"
    }
   },
   "id": "b63862d9e044d647"
  },
  {
   "cell_type": "code",
   "execution_count": 278,
   "outputs": [
    {
     "data": {
      "text/plain": "datetime.date"
     },
     "execution_count": 278,
     "metadata": {},
     "output_type": "execute_result"
    }
   ],
   "source": [
    "type(data.index[0])"
   ],
   "metadata": {
    "collapsed": false,
    "ExecuteTime": {
     "end_time": "2023-11-13T10:25:50.006290Z",
     "start_time": "2023-11-13T10:25:49.953355Z"
    }
   },
   "id": "4b2f94a7c0ab8abb"
  },
  {
   "cell_type": "code",
   "execution_count": 279,
   "outputs": [
    {
     "data": {
      "text/plain": "76.92307692307692"
     },
     "execution_count": 279,
     "metadata": {},
     "output_type": "execute_result"
    }
   ],
   "source": [
    "def calc_precentagem(valor, total):\n",
    "    return (valor * 100) / total\n",
    "\n",
    "calc_precentagem(1331.20, 1730.56)"
   ],
   "metadata": {
    "collapsed": false,
    "ExecuteTime": {
     "end_time": "2023-11-13T10:25:50.008092Z",
     "start_time": "2023-11-13T10:25:49.958931Z"
    }
   },
   "id": "829ab35bc247e750"
  },
  {
   "cell_type": "code",
   "execution_count": 280,
   "outputs": [],
   "source": [
    "data.Total = data.apply(lambda x: x.Upload + x.Download, axis=1)"
   ],
   "metadata": {
    "collapsed": false,
    "ExecuteTime": {
     "end_time": "2023-11-13T10:25:50.015396Z",
     "start_time": "2023-11-13T10:25:49.967487Z"
    }
   },
   "id": "17c34d734a52dda1"
  },
  {
   "cell_type": "code",
   "execution_count": 281,
   "outputs": [
    {
     "data": {
      "text/plain": "            Upload  Download    Total  Upload_Percentage  Download_Percentage\nDate                                                                         \n2022-12-21    47.7    135.30   183.00          26.065574            73.934426\n2022-12-22   259.0    447.50   706.50          36.659590            63.340410\n2022-12-23   263.7    552.70   816.40          32.300343            67.699657\n2022-12-24   275.0    660.40   935.40          29.399188            70.600812\n2022-12-25   100.6    193.60   294.20          34.194426            65.805574\n...            ...       ...      ...                ...                  ...\n2023-11-04   180.4    826.40  1006.80          17.918157            82.081843\n2023-11-05   441.5   3645.44  4086.94          10.802703            89.197297\n2023-11-06   949.8   6297.60  7247.40          13.105390            86.894610\n2023-11-07   754.0   1331.20  2085.20          36.159601            63.840399\n2023-11-08   885.6   2101.60  2987.20          29.646492            70.353508\n\n[313 rows x 5 columns]",
      "text/html": "<div>\n<style scoped>\n    .dataframe tbody tr th:only-of-type {\n        vertical-align: middle;\n    }\n\n    .dataframe tbody tr th {\n        vertical-align: top;\n    }\n\n    .dataframe thead th {\n        text-align: right;\n    }\n</style>\n<table border=\"1\" class=\"dataframe\">\n  <thead>\n    <tr style=\"text-align: right;\">\n      <th></th>\n      <th>Upload</th>\n      <th>Download</th>\n      <th>Total</th>\n      <th>Upload_Percentage</th>\n      <th>Download_Percentage</th>\n    </tr>\n    <tr>\n      <th>Date</th>\n      <th></th>\n      <th></th>\n      <th></th>\n      <th></th>\n      <th></th>\n    </tr>\n  </thead>\n  <tbody>\n    <tr>\n      <th>2022-12-21</th>\n      <td>47.7</td>\n      <td>135.30</td>\n      <td>183.00</td>\n      <td>26.065574</td>\n      <td>73.934426</td>\n    </tr>\n    <tr>\n      <th>2022-12-22</th>\n      <td>259.0</td>\n      <td>447.50</td>\n      <td>706.50</td>\n      <td>36.659590</td>\n      <td>63.340410</td>\n    </tr>\n    <tr>\n      <th>2022-12-23</th>\n      <td>263.7</td>\n      <td>552.70</td>\n      <td>816.40</td>\n      <td>32.300343</td>\n      <td>67.699657</td>\n    </tr>\n    <tr>\n      <th>2022-12-24</th>\n      <td>275.0</td>\n      <td>660.40</td>\n      <td>935.40</td>\n      <td>29.399188</td>\n      <td>70.600812</td>\n    </tr>\n    <tr>\n      <th>2022-12-25</th>\n      <td>100.6</td>\n      <td>193.60</td>\n      <td>294.20</td>\n      <td>34.194426</td>\n      <td>65.805574</td>\n    </tr>\n    <tr>\n      <th>...</th>\n      <td>...</td>\n      <td>...</td>\n      <td>...</td>\n      <td>...</td>\n      <td>...</td>\n    </tr>\n    <tr>\n      <th>2023-11-04</th>\n      <td>180.4</td>\n      <td>826.40</td>\n      <td>1006.80</td>\n      <td>17.918157</td>\n      <td>82.081843</td>\n    </tr>\n    <tr>\n      <th>2023-11-05</th>\n      <td>441.5</td>\n      <td>3645.44</td>\n      <td>4086.94</td>\n      <td>10.802703</td>\n      <td>89.197297</td>\n    </tr>\n    <tr>\n      <th>2023-11-06</th>\n      <td>949.8</td>\n      <td>6297.60</td>\n      <td>7247.40</td>\n      <td>13.105390</td>\n      <td>86.894610</td>\n    </tr>\n    <tr>\n      <th>2023-11-07</th>\n      <td>754.0</td>\n      <td>1331.20</td>\n      <td>2085.20</td>\n      <td>36.159601</td>\n      <td>63.840399</td>\n    </tr>\n    <tr>\n      <th>2023-11-08</th>\n      <td>885.6</td>\n      <td>2101.60</td>\n      <td>2987.20</td>\n      <td>29.646492</td>\n      <td>70.353508</td>\n    </tr>\n  </tbody>\n</table>\n<p>313 rows × 5 columns</p>\n</div>"
     },
     "execution_count": 281,
     "metadata": {},
     "output_type": "execute_result"
    }
   ],
   "source": [
    "data = data.assign(Upload_Percentage = lambda x: calc_precentagem(x.Upload, x.Total))\n",
    "data = data.assign(Download_Percentage = lambda x: calc_precentagem(x.Download, x.Total))\n",
    "\n",
    "#data = data.assign(Total2 = lambda x: (x.Download + x.Upload))\n",
    "#data = data.assign(Diff_Total = lambda x: x.Total - x.Total2)\n",
    "data"
   ],
   "metadata": {
    "collapsed": false,
    "ExecuteTime": {
     "end_time": "2023-11-13T10:25:50.024609Z",
     "start_time": "2023-11-13T10:25:49.970585Z"
    }
   },
   "id": "c6f804efe406f73f"
  },
  {
   "cell_type": "markdown",
   "source": [
    "2023-11-04    ,Wi-Fi,    \"180,4 MB\",   \"826,4 MB\",  \"1,01 GB\"\n"
   ],
   "metadata": {
    "collapsed": false
   },
   "id": "6d45d689b1b3f7aa"
  },
  {
   "cell_type": "code",
   "execution_count": 1,
   "outputs": [
    {
     "ename": "NameError",
     "evalue": "name 'data' is not defined",
     "output_type": "error",
     "traceback": [
      "\u001B[0;31m---------------------------------------------------------------------------\u001B[0m",
      "\u001B[0;31mNameError\u001B[0m                                 Traceback (most recent call last)",
      "Cell \u001B[0;32mIn[1], line 1\u001B[0m\n\u001B[0;32m----> 1\u001B[0m data \u001B[38;5;241m=\u001B[39m \u001B[43mdata\u001B[49m\u001B[38;5;241m.\u001B[39massign(Upload \u001B[38;5;241m=\u001B[39m \u001B[38;5;28;01mlambda\u001B[39;00m x: x\u001B[38;5;241m.\u001B[39mDownload_Percentage \u001B[38;5;241m+\u001B[39m x\u001B[38;5;241m.\u001B[39mUpload_Percentage)\n",
      "\u001B[0;31mNameError\u001B[0m: name 'data' is not defined"
     ]
    }
   ],
   "source": [
    "\n",
    "data = data.assign(Upload = lambda x: x.Download_Percentage + x.Upload_Percentage)\n",
    "#data = data.assign(Sun = lambda x: (x.Download_Percentage + x.Upload_Percentage) * 10)\n"
   ],
   "metadata": {
    "collapsed": false,
    "ExecuteTime": {
     "end_time": "2023-11-17T09:47:10.274344Z",
     "start_time": "2023-11-17T09:47:09.823345Z"
    }
   },
   "id": "2d6c14b5ff0d5397"
  },
  {
   "cell_type": "code",
   "execution_count": 283,
   "outputs": [
    {
     "data": {
      "text/plain": "           Upload  Download    Total  Upload_Percentage  Download_Percentage  \\\nDate                                                                           \n2022-12-21  teste    135.30   183.00          26.065574            73.934426   \n2022-12-22  teste    447.50   706.50          36.659590            63.340410   \n2022-12-23  teste    552.70   816.40          32.300343            67.699657   \n2022-12-24  teste    660.40   935.40          29.399188            70.600812   \n2022-12-25  teste    193.60   294.20          34.194426            65.805574   \n...           ...       ...      ...                ...                  ...   \n2023-11-04  teste    826.40  1006.80          17.918157            82.081843   \n2023-11-05  teste   3645.44  4086.94          10.802703            89.197297   \n2023-11-06  teste   6297.60  7247.40          13.105390            86.894610   \n2023-11-07  teste   1331.20  2085.20          36.159601            63.840399   \n2023-11-08  teste   2101.60  2987.20          29.646492            70.353508   \n\n               Sun  \nDate                \n2022-12-21  1000.0  \n2022-12-22  1000.0  \n2022-12-23  1000.0  \n2022-12-24  1000.0  \n2022-12-25  1000.0  \n...            ...  \n2023-11-04  1000.0  \n2023-11-05  1000.0  \n2023-11-06  1000.0  \n2023-11-07  1000.0  \n2023-11-08  1000.0  \n\n[313 rows x 6 columns]",
      "text/html": "<div>\n<style scoped>\n    .dataframe tbody tr th:only-of-type {\n        vertical-align: middle;\n    }\n\n    .dataframe tbody tr th {\n        vertical-align: top;\n    }\n\n    .dataframe thead th {\n        text-align: right;\n    }\n</style>\n<table border=\"1\" class=\"dataframe\">\n  <thead>\n    <tr style=\"text-align: right;\">\n      <th></th>\n      <th>Upload</th>\n      <th>Download</th>\n      <th>Total</th>\n      <th>Upload_Percentage</th>\n      <th>Download_Percentage</th>\n      <th>Sun</th>\n    </tr>\n    <tr>\n      <th>Date</th>\n      <th></th>\n      <th></th>\n      <th></th>\n      <th></th>\n      <th></th>\n      <th></th>\n    </tr>\n  </thead>\n  <tbody>\n    <tr>\n      <th>2022-12-21</th>\n      <td>teste</td>\n      <td>135.30</td>\n      <td>183.00</td>\n      <td>26.065574</td>\n      <td>73.934426</td>\n      <td>1000.0</td>\n    </tr>\n    <tr>\n      <th>2022-12-22</th>\n      <td>teste</td>\n      <td>447.50</td>\n      <td>706.50</td>\n      <td>36.659590</td>\n      <td>63.340410</td>\n      <td>1000.0</td>\n    </tr>\n    <tr>\n      <th>2022-12-23</th>\n      <td>teste</td>\n      <td>552.70</td>\n      <td>816.40</td>\n      <td>32.300343</td>\n      <td>67.699657</td>\n      <td>1000.0</td>\n    </tr>\n    <tr>\n      <th>2022-12-24</th>\n      <td>teste</td>\n      <td>660.40</td>\n      <td>935.40</td>\n      <td>29.399188</td>\n      <td>70.600812</td>\n      <td>1000.0</td>\n    </tr>\n    <tr>\n      <th>2022-12-25</th>\n      <td>teste</td>\n      <td>193.60</td>\n      <td>294.20</td>\n      <td>34.194426</td>\n      <td>65.805574</td>\n      <td>1000.0</td>\n    </tr>\n    <tr>\n      <th>...</th>\n      <td>...</td>\n      <td>...</td>\n      <td>...</td>\n      <td>...</td>\n      <td>...</td>\n      <td>...</td>\n    </tr>\n    <tr>\n      <th>2023-11-04</th>\n      <td>teste</td>\n      <td>826.40</td>\n      <td>1006.80</td>\n      <td>17.918157</td>\n      <td>82.081843</td>\n      <td>1000.0</td>\n    </tr>\n    <tr>\n      <th>2023-11-05</th>\n      <td>teste</td>\n      <td>3645.44</td>\n      <td>4086.94</td>\n      <td>10.802703</td>\n      <td>89.197297</td>\n      <td>1000.0</td>\n    </tr>\n    <tr>\n      <th>2023-11-06</th>\n      <td>teste</td>\n      <td>6297.60</td>\n      <td>7247.40</td>\n      <td>13.105390</td>\n      <td>86.894610</td>\n      <td>1000.0</td>\n    </tr>\n    <tr>\n      <th>2023-11-07</th>\n      <td>teste</td>\n      <td>1331.20</td>\n      <td>2085.20</td>\n      <td>36.159601</td>\n      <td>63.840399</td>\n      <td>1000.0</td>\n    </tr>\n    <tr>\n      <th>2023-11-08</th>\n      <td>teste</td>\n      <td>2101.60</td>\n      <td>2987.20</td>\n      <td>29.646492</td>\n      <td>70.353508</td>\n      <td>1000.0</td>\n    </tr>\n  </tbody>\n</table>\n<p>313 rows × 6 columns</p>\n</div>"
     },
     "execution_count": 283,
     "metadata": {},
     "output_type": "execute_result"
    }
   ],
   "source": [
    "data"
   ],
   "metadata": {
    "collapsed": false,
    "ExecuteTime": {
     "end_time": "2023-11-13T10:25:50.083722Z",
     "start_time": "2023-11-13T10:25:49.994442Z"
    }
   },
   "id": "42fe3d80f70063cf"
  }
 ],
 "metadata": {
  "kernelspec": {
   "display_name": "Python 3",
   "language": "python",
   "name": "python3"
  },
  "language_info": {
   "codemirror_mode": {
    "name": "ipython",
    "version": 2
   },
   "file_extension": ".py",
   "mimetype": "text/x-python",
   "name": "python",
   "nbconvert_exporter": "python",
   "pygments_lexer": "ipython2",
   "version": "2.7.6"
  }
 },
 "nbformat": 4,
 "nbformat_minor": 5
}
